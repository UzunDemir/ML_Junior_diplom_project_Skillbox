{
 "cells": [
  {
   "cell_type": "markdown",
   "metadata": {
    "id": "9eF9F2FVBpWX"
   },
   "source": [
    "# Несбалансированные выборки. Практическая работа"
   ]
  },
  {
   "cell_type": "markdown",
   "metadata": {
    "id": "MUo9HeJiBmFx"
   },
   "source": [
    "## Цель практической работы\n",
    "\n",
    "Научиться обрабатывать несбалансированные данные и обучать модели машинного обучения на таких данных."
   ]
  },
  {
   "cell_type": "markdown",
   "metadata": {
    "id": "Vzx_4gqxB6Ug"
   },
   "source": [
    "## Что входит в работу\n",
    "\n",
    "\n",
    "1. Загрузить данные и провести разведочный анализ.\n",
    "2. Разделить данные на обучающую и тестовую выборки.\n",
    "3. Подготовить данные для моделирования.\n",
    "4. Сбалансировать данные методом SMOTE и обучить модель машинного обучения.\n",
    "5. Обучить модель машинного обучения с использованием весов классов и кросс-валидации.\n",
    "6. Сравнить метрики качества четырёх моделей.\n",
    "\n",
    "\n"
   ]
  },
  {
   "cell_type": "markdown",
   "metadata": {
    "id": "mIR4D9d7B90r"
   },
   "source": [
    "## Что оценивается \n",
    "\n",
    "- Выполнены все этапы работы.\n",
    "- Не допущена утечка данных при разделении выборок и подготовке данных.\n",
    "- Данные корректным образом сбалансированы.\n",
    "- Модели не переобучены.\n"
   ]
  },
  {
   "cell_type": "markdown",
   "metadata": {
    "id": "eCZ1TMt0CBBY"
   },
   "source": [
    "## Как отправить работу на проверку\n",
    "\n",
    "Скачайте файл с заданиями в материалах, откройте его через Jupyter Notebook и выполните задания. Сохраните изменения при помощи опции Save and Checkpoint из вкладки меню File или кнопки Save and Checkpoint на панели инструментов. Отправьте через форму ниже итоговый файл Jupyter Notebook (в формате .ipynb) или ссылку на него.\n"
   ]
  },
  {
   "cell_type": "markdown",
   "metadata": {
    "id": "byYgWFXWCEUP"
   },
   "source": [
    "# Задача\n",
    "\n",
    "Пусть у нас имеется некоторый набор данных `german_credit_data.csv` о заёмщиках банка:"
   ]
  },
  {
   "cell_type": "markdown",
   "metadata": {
    "id": "A2jH3ATlCG8g"
   },
   "source": [
    "* Age — возраст заёмщика.\n",
    "* Sex — пол заёмщика.\n",
    "* Job — тип работы заёмщика.\n",
    "* Housing — тип жилья заёмщика.\n",
    "* Saving accounts — объём средств на сберегательных счетах заёмщика.\n",
    "* Checking account — объём средств на основном счёте заёмщика.\n",
    "* Credit amount — размер кредита. \n",
    "* Duration — срок кредита (в месяцах).\n",
    "* Purpose — цель кредита.\n",
    "* Risk — таргет, допустил ли заёмщик просрочку платежей по кредиту.\n",
    "\n",
    "Решите задачу классификации заёмщиков, чтобы банк умел заранее предсказывать просрочку платежей по кредиту. \n",
    "\n"
   ]
  },
  {
   "cell_type": "markdown",
   "metadata": {
    "id": "vsKhI6p8CQ5b"
   },
   "source": [
    "# Задание 1\n",
    "\n",
    "Загрузите датасет и выполните разведочный анализ данных. Сделайте выводы о найденных закономерностях, особенностях и других свойствах данных, которые вы обнаружите."
   ]
  },
  {
   "cell_type": "code",
   "execution_count": 2,
   "metadata": {
    "id": "UNvKHWNjzGxw",
    "tags": []
   },
   "outputs": [],
   "source": [
    "import numpy as np\n",
    "import pandas as pd\n",
    "import matplotlib.pyplot as plt\n",
    "import seaborn as sns\n",
    "%matplotlib inline"
   ]
  },
  {
   "cell_type": "code",
   "execution_count": 3,
   "metadata": {
    "tags": []
   },
   "outputs": [],
   "source": [
    "# Чтобы не мешали предупреждающие сообщения...\n",
    "import warnings\n",
    "warnings.filterwarnings(\"ignore\")\n"
   ]
  },
  {
   "cell_type": "code",
   "execution_count": 4,
   "metadata": {
    "tags": []
   },
   "outputs": [],
   "source": [
    "import pandas as pd\n",
    "\n",
    "# Загрузка данных\n",
    "data = pd.read_csv('german_credit_data.csv')"
   ]
  },
  {
   "cell_type": "code",
   "execution_count": 5,
   "metadata": {
    "tags": []
   },
   "outputs": [
    {
     "data": {
      "text/html": [
       "<div>\n",
       "<style scoped>\n",
       "    .dataframe tbody tr th:only-of-type {\n",
       "        vertical-align: middle;\n",
       "    }\n",
       "\n",
       "    .dataframe tbody tr th {\n",
       "        vertical-align: top;\n",
       "    }\n",
       "\n",
       "    .dataframe thead th {\n",
       "        text-align: right;\n",
       "    }\n",
       "</style>\n",
       "<table border=\"1\" class=\"dataframe\">\n",
       "  <thead>\n",
       "    <tr style=\"text-align: right;\">\n",
       "      <th></th>\n",
       "      <th>Age</th>\n",
       "      <th>Sex</th>\n",
       "      <th>Job</th>\n",
       "      <th>Housing</th>\n",
       "      <th>Saving accounts</th>\n",
       "      <th>Checking account</th>\n",
       "      <th>Credit amount</th>\n",
       "      <th>Duration</th>\n",
       "      <th>Purpose</th>\n",
       "      <th>Risk</th>\n",
       "    </tr>\n",
       "  </thead>\n",
       "  <tbody>\n",
       "    <tr>\n",
       "      <th>0</th>\n",
       "      <td>67</td>\n",
       "      <td>male</td>\n",
       "      <td>2</td>\n",
       "      <td>own</td>\n",
       "      <td>NaN</td>\n",
       "      <td>little</td>\n",
       "      <td>1169</td>\n",
       "      <td>6</td>\n",
       "      <td>radio/TV</td>\n",
       "      <td>good</td>\n",
       "    </tr>\n",
       "    <tr>\n",
       "      <th>1</th>\n",
       "      <td>22</td>\n",
       "      <td>female</td>\n",
       "      <td>2</td>\n",
       "      <td>own</td>\n",
       "      <td>little</td>\n",
       "      <td>moderate</td>\n",
       "      <td>5951</td>\n",
       "      <td>48</td>\n",
       "      <td>radio/TV</td>\n",
       "      <td>bad</td>\n",
       "    </tr>\n",
       "    <tr>\n",
       "      <th>2</th>\n",
       "      <td>49</td>\n",
       "      <td>male</td>\n",
       "      <td>1</td>\n",
       "      <td>own</td>\n",
       "      <td>little</td>\n",
       "      <td>NaN</td>\n",
       "      <td>2096</td>\n",
       "      <td>12</td>\n",
       "      <td>education</td>\n",
       "      <td>good</td>\n",
       "    </tr>\n",
       "    <tr>\n",
       "      <th>3</th>\n",
       "      <td>45</td>\n",
       "      <td>male</td>\n",
       "      <td>2</td>\n",
       "      <td>free</td>\n",
       "      <td>little</td>\n",
       "      <td>little</td>\n",
       "      <td>7882</td>\n",
       "      <td>42</td>\n",
       "      <td>furniture/equipment</td>\n",
       "      <td>good</td>\n",
       "    </tr>\n",
       "    <tr>\n",
       "      <th>4</th>\n",
       "      <td>53</td>\n",
       "      <td>male</td>\n",
       "      <td>2</td>\n",
       "      <td>free</td>\n",
       "      <td>little</td>\n",
       "      <td>little</td>\n",
       "      <td>4870</td>\n",
       "      <td>24</td>\n",
       "      <td>car</td>\n",
       "      <td>bad</td>\n",
       "    </tr>\n",
       "  </tbody>\n",
       "</table>\n",
       "</div>"
      ],
      "text/plain": [
       "   Age     Sex  Job Housing Saving accounts Checking account  Credit amount  \\\n",
       "0   67    male    2     own             NaN           little           1169   \n",
       "1   22  female    2     own          little         moderate           5951   \n",
       "2   49    male    1     own          little              NaN           2096   \n",
       "3   45    male    2    free          little           little           7882   \n",
       "4   53    male    2    free          little           little           4870   \n",
       "\n",
       "   Duration              Purpose  Risk  \n",
       "0         6             radio/TV  good  \n",
       "1        48             radio/TV   bad  \n",
       "2        12            education  good  \n",
       "3        42  furniture/equipment  good  \n",
       "4        24                  car   bad  "
      ]
     },
     "execution_count": 5,
     "metadata": {},
     "output_type": "execute_result"
    }
   ],
   "source": [
    "data.head()"
   ]
  },
  {
   "cell_type": "code",
   "execution_count": 6,
   "metadata": {
    "tags": []
   },
   "outputs": [
    {
     "name": "stdout",
     "output_type": "stream",
     "text": [
      "<class 'pandas.core.frame.DataFrame'>\n",
      "RangeIndex: 1000 entries, 0 to 999\n",
      "Data columns (total 10 columns):\n",
      " #   Column            Non-Null Count  Dtype \n",
      "---  ------            --------------  ----- \n",
      " 0   Age               1000 non-null   int64 \n",
      " 1   Sex               1000 non-null   object\n",
      " 2   Job               1000 non-null   int64 \n",
      " 3   Housing           1000 non-null   object\n",
      " 4   Saving accounts   817 non-null    object\n",
      " 5   Checking account  606 non-null    object\n",
      " 6   Credit amount     1000 non-null   int64 \n",
      " 7   Duration          1000 non-null   int64 \n",
      " 8   Purpose           1000 non-null   object\n",
      " 9   Risk              1000 non-null   object\n",
      "dtypes: int64(4), object(6)\n",
      "memory usage: 78.2+ KB\n"
     ]
    }
   ],
   "source": [
    "data.info()"
   ]
  },
  {
   "cell_type": "code",
   "execution_count": 7,
   "metadata": {
    "tags": []
   },
   "outputs": [
    {
     "data": {
      "text/html": [
       "<div>\n",
       "<style scoped>\n",
       "    .dataframe tbody tr th:only-of-type {\n",
       "        vertical-align: middle;\n",
       "    }\n",
       "\n",
       "    .dataframe tbody tr th {\n",
       "        vertical-align: top;\n",
       "    }\n",
       "\n",
       "    .dataframe thead th {\n",
       "        text-align: right;\n",
       "    }\n",
       "</style>\n",
       "<table border=\"1\" class=\"dataframe\">\n",
       "  <thead>\n",
       "    <tr style=\"text-align: right;\">\n",
       "      <th></th>\n",
       "      <th>Age</th>\n",
       "      <th>Job</th>\n",
       "      <th>Credit amount</th>\n",
       "      <th>Duration</th>\n",
       "    </tr>\n",
       "  </thead>\n",
       "  <tbody>\n",
       "    <tr>\n",
       "      <th>count</th>\n",
       "      <td>1000.000000</td>\n",
       "      <td>1000.000000</td>\n",
       "      <td>1000.000000</td>\n",
       "      <td>1000.000000</td>\n",
       "    </tr>\n",
       "    <tr>\n",
       "      <th>mean</th>\n",
       "      <td>35.546000</td>\n",
       "      <td>1.904000</td>\n",
       "      <td>3271.258000</td>\n",
       "      <td>20.903000</td>\n",
       "    </tr>\n",
       "    <tr>\n",
       "      <th>std</th>\n",
       "      <td>11.375469</td>\n",
       "      <td>0.653614</td>\n",
       "      <td>2822.736876</td>\n",
       "      <td>12.058814</td>\n",
       "    </tr>\n",
       "    <tr>\n",
       "      <th>min</th>\n",
       "      <td>19.000000</td>\n",
       "      <td>0.000000</td>\n",
       "      <td>250.000000</td>\n",
       "      <td>4.000000</td>\n",
       "    </tr>\n",
       "    <tr>\n",
       "      <th>25%</th>\n",
       "      <td>27.000000</td>\n",
       "      <td>2.000000</td>\n",
       "      <td>1365.500000</td>\n",
       "      <td>12.000000</td>\n",
       "    </tr>\n",
       "    <tr>\n",
       "      <th>50%</th>\n",
       "      <td>33.000000</td>\n",
       "      <td>2.000000</td>\n",
       "      <td>2319.500000</td>\n",
       "      <td>18.000000</td>\n",
       "    </tr>\n",
       "    <tr>\n",
       "      <th>75%</th>\n",
       "      <td>42.000000</td>\n",
       "      <td>2.000000</td>\n",
       "      <td>3972.250000</td>\n",
       "      <td>24.000000</td>\n",
       "    </tr>\n",
       "    <tr>\n",
       "      <th>max</th>\n",
       "      <td>75.000000</td>\n",
       "      <td>3.000000</td>\n",
       "      <td>18424.000000</td>\n",
       "      <td>72.000000</td>\n",
       "    </tr>\n",
       "  </tbody>\n",
       "</table>\n",
       "</div>"
      ],
      "text/plain": [
       "               Age          Job  Credit amount     Duration\n",
       "count  1000.000000  1000.000000    1000.000000  1000.000000\n",
       "mean     35.546000     1.904000    3271.258000    20.903000\n",
       "std      11.375469     0.653614    2822.736876    12.058814\n",
       "min      19.000000     0.000000     250.000000     4.000000\n",
       "25%      27.000000     2.000000    1365.500000    12.000000\n",
       "50%      33.000000     2.000000    2319.500000    18.000000\n",
       "75%      42.000000     2.000000    3972.250000    24.000000\n",
       "max      75.000000     3.000000   18424.000000    72.000000"
      ]
     },
     "execution_count": 7,
     "metadata": {},
     "output_type": "execute_result"
    }
   ],
   "source": [
    "data.describe()"
   ]
  },
  {
   "cell_type": "code",
   "execution_count": 8,
   "metadata": {
    "tags": []
   },
   "outputs": [
    {
     "data": {
      "text/plain": [
       "Age                   0\n",
       "Sex                   0\n",
       "Job                   0\n",
       "Housing               0\n",
       "Saving accounts     183\n",
       "Checking account    394\n",
       "Credit amount         0\n",
       "Duration              0\n",
       "Purpose               0\n",
       "Risk                  0\n",
       "dtype: int64"
      ]
     },
     "execution_count": 8,
     "metadata": {},
     "output_type": "execute_result"
    }
   ],
   "source": [
    "data.isnull().sum()"
   ]
  },
  {
   "cell_type": "code",
   "execution_count": 9,
   "metadata": {
    "tags": []
   },
   "outputs": [
    {
     "data": {
      "text/plain": [
       "0"
      ]
     },
     "execution_count": 9,
     "metadata": {},
     "output_type": "execute_result"
    }
   ],
   "source": [
    "data.duplicated().sum()"
   ]
  },
  {
   "cell_type": "code",
   "execution_count": 10,
   "metadata": {
    "tags": []
   },
   "outputs": [
    {
     "data": {
      "text/plain": [
       "good    700\n",
       "bad     300\n",
       "Name: Risk, dtype: int64"
      ]
     },
     "execution_count": 10,
     "metadata": {},
     "output_type": "execute_result"
    }
   ],
   "source": [
    "data['Risk'].value_counts()"
   ]
  },
  {
   "cell_type": "markdown",
   "metadata": {},
   "source": [
    "### Закодируем категориальные признаки"
   ]
  },
  {
   "cell_type": "code",
   "execution_count": 11,
   "metadata": {
    "tags": []
   },
   "outputs": [],
   "source": [
    "# Создание словаря для кодирования\n",
    "sex_encoding = {'male': 1, 'female': 2}\n",
    "\n",
    "# Применение label encoding\n",
    "data['Sex'] = data['Sex'].map(sex_encoding)"
   ]
  },
  {
   "cell_type": "code",
   "execution_count": 12,
   "metadata": {
    "tags": []
   },
   "outputs": [],
   "source": [
    "# Создание словаря для кодирования\n",
    "housing_encoding = {'own': 1, 'rent': 2, 'free': 3}\n",
    "\n",
    "# Применение label encoding\n",
    "data['Housing_encoded'] = data['Housing'].map(housing_encoding)"
   ]
  },
  {
   "cell_type": "code",
   "execution_count": 13,
   "metadata": {
    "tags": []
   },
   "outputs": [],
   "source": [
    "# Создание уникальных кодов для каждой уникальной цели из столбца 'Purpose'\n",
    "unique_purposes = data['Purpose'].unique()\n",
    "purpose_encoding = {purpose: index + 1 for index, purpose in enumerate(unique_purposes)}\n",
    "\n",
    "# Применение кодирования к столбцу 'Purpose'\n",
    "data['Purpose_encoding'] = data['Purpose'].map(purpose_encoding)\n"
   ]
  },
  {
   "cell_type": "markdown",
   "metadata": {},
   "source": [
    "#### Risk — таргет, допустил ли заёмщик просрочку платежей по кредиту\n",
    "\n",
    "Если допущена просрочка = 1, нет просрочки = 0"
   ]
  },
  {
   "cell_type": "code",
   "execution_count": 14,
   "metadata": {
    "tags": []
   },
   "outputs": [],
   "source": [
    "# Создание словаря для кодирования\n",
    "risk_encoding = {'good': 0, 'bad': 1}\n",
    "\n",
    "# Применение label encoding\n",
    "data['target'] = data['Risk'].map(risk_encoding)"
   ]
  },
  {
   "cell_type": "code",
   "execution_count": 15,
   "metadata": {
    "tags": []
   },
   "outputs": [
    {
     "data": {
      "image/png": "[encoded data removed]",
      "text/plain": [
       "<Figure size 1000x800 with 9 Axes>"
      ]
     },
     "metadata": {},
     "output_type": "display_data"
    }
   ],
   "source": [
    "# Вывод гистограмм для всех числовых столбцов\n",
    "data.hist(figsize=(10, 8))\n",
    "plt.tight_layout()\n",
    "plt.show()"
   ]
  },
  {
   "cell_type": "code",
   "execution_count": 16,
   "metadata": {
    "tags": []
   },
   "outputs": [
    {
     "data": {
      "text/html": [
       "<div>\n",
       "<style scoped>\n",
       "    .dataframe tbody tr th:only-of-type {\n",
       "        vertical-align: middle;\n",
       "    }\n",
       "\n",
       "    .dataframe tbody tr th {\n",
       "        vertical-align: top;\n",
       "    }\n",
       "\n",
       "    .dataframe thead th {\n",
       "        text-align: right;\n",
       "    }\n",
       "</style>\n",
       "<table border=\"1\" class=\"dataframe\">\n",
       "  <thead>\n",
       "    <tr style=\"text-align: right;\">\n",
       "      <th></th>\n",
       "      <th>Age</th>\n",
       "      <th>Sex</th>\n",
       "      <th>Job</th>\n",
       "      <th>Housing</th>\n",
       "      <th>Saving accounts</th>\n",
       "      <th>Checking account</th>\n",
       "      <th>Credit amount</th>\n",
       "      <th>Duration</th>\n",
       "      <th>Purpose</th>\n",
       "      <th>Risk</th>\n",
       "      <th>Housing_encoded</th>\n",
       "      <th>Purpose_encoding</th>\n",
       "      <th>target</th>\n",
       "    </tr>\n",
       "  </thead>\n",
       "  <tbody>\n",
       "    <tr>\n",
       "      <th>0</th>\n",
       "      <td>67</td>\n",
       "      <td>1</td>\n",
       "      <td>2</td>\n",
       "      <td>own</td>\n",
       "      <td>NaN</td>\n",
       "      <td>little</td>\n",
       "      <td>1169</td>\n",
       "      <td>6</td>\n",
       "      <td>radio/TV</td>\n",
       "      <td>good</td>\n",
       "      <td>1</td>\n",
       "      <td>1</td>\n",
       "      <td>0</td>\n",
       "    </tr>\n",
       "    <tr>\n",
       "      <th>1</th>\n",
       "      <td>22</td>\n",
       "      <td>2</td>\n",
       "      <td>2</td>\n",
       "      <td>own</td>\n",
       "      <td>little</td>\n",
       "      <td>moderate</td>\n",
       "      <td>5951</td>\n",
       "      <td>48</td>\n",
       "      <td>radio/TV</td>\n",
       "      <td>bad</td>\n",
       "      <td>1</td>\n",
       "      <td>1</td>\n",
       "      <td>1</td>\n",
       "    </tr>\n",
       "    <tr>\n",
       "      <th>2</th>\n",
       "      <td>49</td>\n",
       "      <td>1</td>\n",
       "      <td>1</td>\n",
       "      <td>own</td>\n",
       "      <td>little</td>\n",
       "      <td>NaN</td>\n",
       "      <td>2096</td>\n",
       "      <td>12</td>\n",
       "      <td>education</td>\n",
       "      <td>good</td>\n",
       "      <td>1</td>\n",
       "      <td>2</td>\n",
       "      <td>0</td>\n",
       "    </tr>\n",
       "    <tr>\n",
       "      <th>3</th>\n",
       "      <td>45</td>\n",
       "      <td>1</td>\n",
       "      <td>2</td>\n",
       "      <td>free</td>\n",
       "      <td>little</td>\n",
       "      <td>little</td>\n",
       "      <td>7882</td>\n",
       "      <td>42</td>\n",
       "      <td>furniture/equipment</td>\n",
       "      <td>good</td>\n",
       "      <td>3</td>\n",
       "      <td>3</td>\n",
       "      <td>0</td>\n",
       "    </tr>\n",
       "    <tr>\n",
       "      <th>4</th>\n",
       "      <td>53</td>\n",
       "      <td>1</td>\n",
       "      <td>2</td>\n",
       "      <td>free</td>\n",
       "      <td>little</td>\n",
       "      <td>little</td>\n",
       "      <td>4870</td>\n",
       "      <td>24</td>\n",
       "      <td>car</td>\n",
       "      <td>bad</td>\n",
       "      <td>3</td>\n",
       "      <td>4</td>\n",
       "      <td>1</td>\n",
       "    </tr>\n",
       "    <tr>\n",
       "      <th>...</th>\n",
       "      <td>...</td>\n",
       "      <td>...</td>\n",
       "      <td>...</td>\n",
       "      <td>...</td>\n",
       "      <td>...</td>\n",
       "      <td>...</td>\n",
       "      <td>...</td>\n",
       "      <td>...</td>\n",
       "      <td>...</td>\n",
       "      <td>...</td>\n",
       "      <td>...</td>\n",
       "      <td>...</td>\n",
       "      <td>...</td>\n",
       "    </tr>\n",
       "    <tr>\n",
       "      <th>995</th>\n",
       "      <td>31</td>\n",
       "      <td>2</td>\n",
       "      <td>1</td>\n",
       "      <td>own</td>\n",
       "      <td>little</td>\n",
       "      <td>NaN</td>\n",
       "      <td>1736</td>\n",
       "      <td>12</td>\n",
       "      <td>furniture/equipment</td>\n",
       "      <td>good</td>\n",
       "      <td>1</td>\n",
       "      <td>3</td>\n",
       "      <td>0</td>\n",
       "    </tr>\n",
       "    <tr>\n",
       "      <th>996</th>\n",
       "      <td>40</td>\n",
       "      <td>1</td>\n",
       "      <td>3</td>\n",
       "      <td>own</td>\n",
       "      <td>little</td>\n",
       "      <td>little</td>\n",
       "      <td>3857</td>\n",
       "      <td>30</td>\n",
       "      <td>car</td>\n",
       "      <td>good</td>\n",
       "      <td>1</td>\n",
       "      <td>4</td>\n",
       "      <td>0</td>\n",
       "    </tr>\n",
       "    <tr>\n",
       "      <th>997</th>\n",
       "      <td>38</td>\n",
       "      <td>1</td>\n",
       "      <td>2</td>\n",
       "      <td>own</td>\n",
       "      <td>little</td>\n",
       "      <td>NaN</td>\n",
       "      <td>804</td>\n",
       "      <td>12</td>\n",
       "      <td>radio/TV</td>\n",
       "      <td>good</td>\n",
       "      <td>1</td>\n",
       "      <td>1</td>\n",
       "      <td>0</td>\n",
       "    </tr>\n",
       "    <tr>\n",
       "      <th>998</th>\n",
       "      <td>23</td>\n",
       "      <td>1</td>\n",
       "      <td>2</td>\n",
       "      <td>free</td>\n",
       "      <td>little</td>\n",
       "      <td>little</td>\n",
       "      <td>1845</td>\n",
       "      <td>45</td>\n",
       "      <td>radio/TV</td>\n",
       "      <td>bad</td>\n",
       "      <td>3</td>\n",
       "      <td>1</td>\n",
       "      <td>1</td>\n",
       "    </tr>\n",
       "    <tr>\n",
       "      <th>999</th>\n",
       "      <td>27</td>\n",
       "      <td>1</td>\n",
       "      <td>2</td>\n",
       "      <td>own</td>\n",
       "      <td>moderate</td>\n",
       "      <td>moderate</td>\n",
       "      <td>4576</td>\n",
       "      <td>45</td>\n",
       "      <td>car</td>\n",
       "      <td>good</td>\n",
       "      <td>1</td>\n",
       "      <td>4</td>\n",
       "      <td>0</td>\n",
       "    </tr>\n",
       "  </tbody>\n",
       "</table>\n",
       "<p>1000 rows × 13 columns</p>\n",
       "</div>"
      ],
      "text/plain": [
       "     Age  Sex  Job Housing Saving accounts Checking account  Credit amount  \\\n",
       "0     67    1    2     own             NaN           little           1169   \n",
       "1     22    2    2     own          little         moderate           5951   \n",
       "2     49    1    1     own          little              NaN           2096   \n",
       "3     45    1    2    free          little           little           7882   \n",
       "4     53    1    2    free          little           little           4870   \n",
       "..   ...  ...  ...     ...             ...              ...            ...   \n",
       "995   31    2    1     own          little              NaN           1736   \n",
       "996   40    1    3     own          little           little           3857   \n",
       "997   38    1    2     own          little              NaN            804   \n",
       "998   23    1    2    free          little           little           1845   \n",
       "999   27    1    2     own        moderate         moderate           4576   \n",
       "\n",
       "     Duration              Purpose  Risk  Housing_encoded  Purpose_encoding  \\\n",
       "0           6             radio/TV  good                1                 1   \n",
       "1          48             radio/TV   bad                1                 1   \n",
       "2          12            education  good                1                 2   \n",
       "3          42  furniture/equipment  good                3                 3   \n",
       "4          24                  car   bad                3                 4   \n",
       "..        ...                  ...   ...              ...               ...   \n",
       "995        12  furniture/equipment  good                1                 3   \n",
       "996        30                  car  good                1                 4   \n",
       "997        12             radio/TV  good                1                 1   \n",
       "998        45             radio/TV   bad                3                 1   \n",
       "999        45                  car  good                1                 4   \n",
       "\n",
       "     target  \n",
       "0         0  \n",
       "1         1  \n",
       "2         0  \n",
       "3         0  \n",
       "4         1  \n",
       "..      ...  \n",
       "995       0  \n",
       "996       0  \n",
       "997       0  \n",
       "998       1  \n",
       "999       0  \n",
       "\n",
       "[1000 rows x 13 columns]"
      ]
     },
     "execution_count": 16,
     "metadata": {},
     "output_type": "execute_result"
    }
   ],
   "source": [
    "data"
   ]
  },
  {
   "cell_type": "code",
   "execution_count": 17,
   "metadata": {
    "tags": []
   },
   "outputs": [],
   "source": [
    "# Выбор числовых столбцов\n",
    "numeric_columns = data.select_dtypes(include=['int', 'float'])\n",
    "\n",
    "# Вычисление матрицы корреляции\n",
    "correlation_matrix = numeric_columns.corr()"
   ]
  },
  {
   "cell_type": "code",
   "execution_count": 18,
   "metadata": {
    "tags": []
   },
   "outputs": [
    {
     "data": {
      "image/png": "[encoded data removed]",
      "text/plain": [
       "<Figure size 1000x800 with 2 Axes>"
      ]
     },
     "metadata": {},
     "output_type": "display_data"
    }
   ],
   "source": [
    "# Создание тепловой карты\n",
    "plt.figure(figsize=(10, 8))\n",
    "sns.heatmap(correlation_matrix, annot=True, cmap='coolwarm', fmt=\".2f\", linewidths=0.5)\n",
    "plt.title('Correlation Heatmap')\n",
    "plt.show()"
   ]
  },
  {
   "cell_type": "code",
   "execution_count": 19,
   "metadata": {
    "tags": []
   },
   "outputs": [
    {
     "data": {
      "text/html": [
       "<div>\n",
       "<style scoped>\n",
       "    .dataframe tbody tr th:only-of-type {\n",
       "        vertical-align: middle;\n",
       "    }\n",
       "\n",
       "    .dataframe tbody tr th {\n",
       "        vertical-align: top;\n",
       "    }\n",
       "\n",
       "    .dataframe thead th {\n",
       "        text-align: right;\n",
       "    }\n",
       "</style>\n",
       "<table border=\"1\" class=\"dataframe\">\n",
       "  <thead>\n",
       "    <tr style=\"text-align: right;\">\n",
       "      <th></th>\n",
       "      <th>Age</th>\n",
       "      <th>Sex</th>\n",
       "      <th>Job</th>\n",
       "      <th>Credit amount</th>\n",
       "      <th>Duration</th>\n",
       "      <th>Housing_encoded</th>\n",
       "      <th>Purpose_encoding</th>\n",
       "      <th>target</th>\n",
       "    </tr>\n",
       "  </thead>\n",
       "  <tbody>\n",
       "    <tr>\n",
       "      <th>Age</th>\n",
       "      <td>1.000000</td>\n",
       "      <td>-0.161694</td>\n",
       "      <td>0.015673</td>\n",
       "      <td>0.032716</td>\n",
       "      <td>-0.036136</td>\n",
       "      <td>0.112051</td>\n",
       "      <td>0.071069</td>\n",
       "      <td>-0.091127</td>\n",
       "    </tr>\n",
       "    <tr>\n",
       "      <th>Sex</th>\n",
       "      <td>-0.161694</td>\n",
       "      <td>1.000000</td>\n",
       "      <td>-0.070298</td>\n",
       "      <td>-0.093482</td>\n",
       "      <td>-0.081432</td>\n",
       "      <td>0.033818</td>\n",
       "      <td>-0.051436</td>\n",
       "      <td>0.075493</td>\n",
       "    </tr>\n",
       "    <tr>\n",
       "      <th>Job</th>\n",
       "      <td>0.015673</td>\n",
       "      <td>-0.070298</td>\n",
       "      <td>1.000000</td>\n",
       "      <td>0.285385</td>\n",
       "      <td>0.210910</td>\n",
       "      <td>0.101939</td>\n",
       "      <td>0.024629</td>\n",
       "      <td>0.032735</td>\n",
       "    </tr>\n",
       "    <tr>\n",
       "      <th>Credit amount</th>\n",
       "      <td>0.032716</td>\n",
       "      <td>-0.093482</td>\n",
       "      <td>0.285385</td>\n",
       "      <td>1.000000</td>\n",
       "      <td>0.624984</td>\n",
       "      <td>0.171585</td>\n",
       "      <td>0.214513</td>\n",
       "      <td>0.154739</td>\n",
       "    </tr>\n",
       "    <tr>\n",
       "      <th>Duration</th>\n",
       "      <td>-0.036136</td>\n",
       "      <td>-0.081432</td>\n",
       "      <td>0.210910</td>\n",
       "      <td>0.624984</td>\n",
       "      <td>1.000000</td>\n",
       "      <td>0.137434</td>\n",
       "      <td>0.105524</td>\n",
       "      <td>0.214927</td>\n",
       "    </tr>\n",
       "    <tr>\n",
       "      <th>Housing_encoded</th>\n",
       "      <td>0.112051</td>\n",
       "      <td>0.033818</td>\n",
       "      <td>0.101939</td>\n",
       "      <td>0.171585</td>\n",
       "      <td>0.137434</td>\n",
       "      <td>1.000000</td>\n",
       "      <td>0.081054</td>\n",
       "      <td>0.127789</td>\n",
       "    </tr>\n",
       "    <tr>\n",
       "      <th>Purpose_encoding</th>\n",
       "      <td>0.071069</td>\n",
       "      <td>-0.051436</td>\n",
       "      <td>0.024629</td>\n",
       "      <td>0.214513</td>\n",
       "      <td>0.105524</td>\n",
       "      <td>0.081054</td>\n",
       "      <td>1.000000</td>\n",
       "      <td>0.090001</td>\n",
       "    </tr>\n",
       "    <tr>\n",
       "      <th>target</th>\n",
       "      <td>-0.091127</td>\n",
       "      <td>0.075493</td>\n",
       "      <td>0.032735</td>\n",
       "      <td>0.154739</td>\n",
       "      <td>0.214927</td>\n",
       "      <td>0.127789</td>\n",
       "      <td>0.090001</td>\n",
       "      <td>1.000000</td>\n",
       "    </tr>\n",
       "  </tbody>\n",
       "</table>\n",
       "</div>"
      ],
      "text/plain": [
       "                       Age       Sex       Job  Credit amount  Duration  \\\n",
       "Age               1.000000 -0.161694  0.015673       0.032716 -0.036136   \n",
       "Sex              -0.161694  1.000000 -0.070298      -0.093482 -0.081432   \n",
       "Job               0.015673 -0.070298  1.000000       0.285385  0.210910   \n",
       "Credit amount     0.032716 -0.093482  0.285385       1.000000  0.624984   \n",
       "Duration         -0.036136 -0.081432  0.210910       0.624984  1.000000   \n",
       "Housing_encoded   0.112051  0.033818  0.101939       0.171585  0.137434   \n",
       "Purpose_encoding  0.071069 -0.051436  0.024629       0.214513  0.105524   \n",
       "target           -0.091127  0.075493  0.032735       0.154739  0.214927   \n",
       "\n",
       "                  Housing_encoded  Purpose_encoding    target  \n",
       "Age                      0.112051          0.071069 -0.091127  \n",
       "Sex                      0.033818         -0.051436  0.075493  \n",
       "Job                      0.101939          0.024629  0.032735  \n",
       "Credit amount            0.171585          0.214513  0.154739  \n",
       "Duration                 0.137434          0.105524  0.214927  \n",
       "Housing_encoded          1.000000          0.081054  0.127789  \n",
       "Purpose_encoding         0.081054          1.000000  0.090001  \n",
       "target                   0.127789          0.090001  1.000000  "
      ]
     },
     "execution_count": 19,
     "metadata": {},
     "output_type": "execute_result"
    }
   ],
   "source": [
    "correlation_matrix"
   ]
  },
  {
   "cell_type": "markdown",
   "metadata": {},
   "source": [
    "### Заполним пропуски в 'Saving accounts', 'Checking account'\n",
    "\n",
    "Используем модель машинного обучения для предсказания пропущенных значений на основе других признаков в датасете. "
   ]
  },
  {
   "cell_type": "code",
   "execution_count": 20,
   "metadata": {
    "tags": []
   },
   "outputs": [],
   "source": [
    "from sklearn.ensemble import RandomForestClassifier\n",
    "from sklearn.model_selection import train_test_split\n",
    "import numpy as np"
   ]
  },
  {
   "cell_type": "code",
   "execution_count": 21,
   "metadata": {
    "tags": []
   },
   "outputs": [],
   "source": [
    "# Разделение данных на train set и test set\n",
    "train_data = data.dropna(subset=['Saving accounts', 'Checking account'])\n",
    "test_data = data[data['Saving accounts'].isnull() | data['Checking account'].isnull()]\n"
   ]
  },
  {
   "cell_type": "code",
   "execution_count": 22,
   "metadata": {
    "tags": []
   },
   "outputs": [
    {
     "data": {
      "text/html": [
       "<div>\n",
       "<style scoped>\n",
       "    .dataframe tbody tr th:only-of-type {\n",
       "        vertical-align: middle;\n",
       "    }\n",
       "\n",
       "    .dataframe tbody tr th {\n",
       "        vertical-align: top;\n",
       "    }\n",
       "\n",
       "    .dataframe thead th {\n",
       "        text-align: right;\n",
       "    }\n",
       "</style>\n",
       "<table border=\"1\" class=\"dataframe\">\n",
       "  <thead>\n",
       "    <tr style=\"text-align: right;\">\n",
       "      <th></th>\n",
       "      <th>Age</th>\n",
       "      <th>Sex</th>\n",
       "      <th>Job</th>\n",
       "      <th>Housing</th>\n",
       "      <th>Saving accounts</th>\n",
       "      <th>Checking account</th>\n",
       "      <th>Credit amount</th>\n",
       "      <th>Duration</th>\n",
       "      <th>Purpose</th>\n",
       "      <th>Risk</th>\n",
       "      <th>Housing_encoded</th>\n",
       "      <th>Purpose_encoding</th>\n",
       "      <th>target</th>\n",
       "    </tr>\n",
       "  </thead>\n",
       "  <tbody>\n",
       "    <tr>\n",
       "      <th>1</th>\n",
       "      <td>22</td>\n",
       "      <td>2</td>\n",
       "      <td>2</td>\n",
       "      <td>own</td>\n",
       "      <td>little</td>\n",
       "      <td>moderate</td>\n",
       "      <td>5951</td>\n",
       "      <td>48</td>\n",
       "      <td>radio/TV</td>\n",
       "      <td>bad</td>\n",
       "      <td>1</td>\n",
       "      <td>1</td>\n",
       "      <td>1</td>\n",
       "    </tr>\n",
       "    <tr>\n",
       "      <th>3</th>\n",
       "      <td>45</td>\n",
       "      <td>1</td>\n",
       "      <td>2</td>\n",
       "      <td>free</td>\n",
       "      <td>little</td>\n",
       "      <td>little</td>\n",
       "      <td>7882</td>\n",
       "      <td>42</td>\n",
       "      <td>furniture/equipment</td>\n",
       "      <td>good</td>\n",
       "      <td>3</td>\n",
       "      <td>3</td>\n",
       "      <td>0</td>\n",
       "    </tr>\n",
       "    <tr>\n",
       "      <th>4</th>\n",
       "      <td>53</td>\n",
       "      <td>1</td>\n",
       "      <td>2</td>\n",
       "      <td>free</td>\n",
       "      <td>little</td>\n",
       "      <td>little</td>\n",
       "      <td>4870</td>\n",
       "      <td>24</td>\n",
       "      <td>car</td>\n",
       "      <td>bad</td>\n",
       "      <td>3</td>\n",
       "      <td>4</td>\n",
       "      <td>1</td>\n",
       "    </tr>\n",
       "    <tr>\n",
       "      <th>7</th>\n",
       "      <td>35</td>\n",
       "      <td>1</td>\n",
       "      <td>3</td>\n",
       "      <td>rent</td>\n",
       "      <td>little</td>\n",
       "      <td>moderate</td>\n",
       "      <td>6948</td>\n",
       "      <td>36</td>\n",
       "      <td>car</td>\n",
       "      <td>good</td>\n",
       "      <td>2</td>\n",
       "      <td>4</td>\n",
       "      <td>0</td>\n",
       "    </tr>\n",
       "    <tr>\n",
       "      <th>9</th>\n",
       "      <td>28</td>\n",
       "      <td>1</td>\n",
       "      <td>3</td>\n",
       "      <td>own</td>\n",
       "      <td>little</td>\n",
       "      <td>moderate</td>\n",
       "      <td>5234</td>\n",
       "      <td>30</td>\n",
       "      <td>car</td>\n",
       "      <td>bad</td>\n",
       "      <td>1</td>\n",
       "      <td>4</td>\n",
       "      <td>1</td>\n",
       "    </tr>\n",
       "    <tr>\n",
       "      <th>...</th>\n",
       "      <td>...</td>\n",
       "      <td>...</td>\n",
       "      <td>...</td>\n",
       "      <td>...</td>\n",
       "      <td>...</td>\n",
       "      <td>...</td>\n",
       "      <td>...</td>\n",
       "      <td>...</td>\n",
       "      <td>...</td>\n",
       "      <td>...</td>\n",
       "      <td>...</td>\n",
       "      <td>...</td>\n",
       "      <td>...</td>\n",
       "    </tr>\n",
       "    <tr>\n",
       "      <th>989</th>\n",
       "      <td>48</td>\n",
       "      <td>1</td>\n",
       "      <td>1</td>\n",
       "      <td>own</td>\n",
       "      <td>little</td>\n",
       "      <td>moderate</td>\n",
       "      <td>1743</td>\n",
       "      <td>24</td>\n",
       "      <td>radio/TV</td>\n",
       "      <td>good</td>\n",
       "      <td>1</td>\n",
       "      <td>1</td>\n",
       "      <td>0</td>\n",
       "    </tr>\n",
       "    <tr>\n",
       "      <th>993</th>\n",
       "      <td>30</td>\n",
       "      <td>1</td>\n",
       "      <td>3</td>\n",
       "      <td>own</td>\n",
       "      <td>little</td>\n",
       "      <td>little</td>\n",
       "      <td>3959</td>\n",
       "      <td>36</td>\n",
       "      <td>furniture/equipment</td>\n",
       "      <td>good</td>\n",
       "      <td>1</td>\n",
       "      <td>3</td>\n",
       "      <td>0</td>\n",
       "    </tr>\n",
       "    <tr>\n",
       "      <th>996</th>\n",
       "      <td>40</td>\n",
       "      <td>1</td>\n",
       "      <td>3</td>\n",
       "      <td>own</td>\n",
       "      <td>little</td>\n",
       "      <td>little</td>\n",
       "      <td>3857</td>\n",
       "      <td>30</td>\n",
       "      <td>car</td>\n",
       "      <td>good</td>\n",
       "      <td>1</td>\n",
       "      <td>4</td>\n",
       "      <td>0</td>\n",
       "    </tr>\n",
       "    <tr>\n",
       "      <th>998</th>\n",
       "      <td>23</td>\n",
       "      <td>1</td>\n",
       "      <td>2</td>\n",
       "      <td>free</td>\n",
       "      <td>little</td>\n",
       "      <td>little</td>\n",
       "      <td>1845</td>\n",
       "      <td>45</td>\n",
       "      <td>radio/TV</td>\n",
       "      <td>bad</td>\n",
       "      <td>3</td>\n",
       "      <td>1</td>\n",
       "      <td>1</td>\n",
       "    </tr>\n",
       "    <tr>\n",
       "      <th>999</th>\n",
       "      <td>27</td>\n",
       "      <td>1</td>\n",
       "      <td>2</td>\n",
       "      <td>own</td>\n",
       "      <td>moderate</td>\n",
       "      <td>moderate</td>\n",
       "      <td>4576</td>\n",
       "      <td>45</td>\n",
       "      <td>car</td>\n",
       "      <td>good</td>\n",
       "      <td>1</td>\n",
       "      <td>4</td>\n",
       "      <td>0</td>\n",
       "    </tr>\n",
       "  </tbody>\n",
       "</table>\n",
       "<p>522 rows × 13 columns</p>\n",
       "</div>"
      ],
      "text/plain": [
       "     Age  Sex  Job Housing Saving accounts Checking account  Credit amount  \\\n",
       "1     22    2    2     own          little         moderate           5951   \n",
       "3     45    1    2    free          little           little           7882   \n",
       "4     53    1    2    free          little           little           4870   \n",
       "7     35    1    3    rent          little         moderate           6948   \n",
       "9     28    1    3     own          little         moderate           5234   \n",
       "..   ...  ...  ...     ...             ...              ...            ...   \n",
       "989   48    1    1     own          little         moderate           1743   \n",
       "993   30    1    3     own          little           little           3959   \n",
       "996   40    1    3     own          little           little           3857   \n",
       "998   23    1    2    free          little           little           1845   \n",
       "999   27    1    2     own        moderate         moderate           4576   \n",
       "\n",
       "     Duration              Purpose  Risk  Housing_encoded  Purpose_encoding  \\\n",
       "1          48             radio/TV   bad                1                 1   \n",
       "3          42  furniture/equipment  good                3                 3   \n",
       "4          24                  car   bad                3                 4   \n",
       "7          36                  car  good                2                 4   \n",
       "9          30                  car   bad                1                 4   \n",
       "..        ...                  ...   ...              ...               ...   \n",
       "989        24             radio/TV  good                1                 1   \n",
       "993        36  furniture/equipment  good                1                 3   \n",
       "996        30                  car  good                1                 4   \n",
       "998        45             radio/TV   bad                3                 1   \n",
       "999        45                  car  good                1                 4   \n",
       "\n",
       "     target  \n",
       "1         1  \n",
       "3         0  \n",
       "4         1  \n",
       "7         0  \n",
       "9         1  \n",
       "..      ...  \n",
       "989       0  \n",
       "993       0  \n",
       "996       0  \n",
       "998       1  \n",
       "999       0  \n",
       "\n",
       "[522 rows x 13 columns]"
      ]
     },
     "execution_count": 22,
     "metadata": {},
     "output_type": "execute_result"
    }
   ],
   "source": [
    "train_data"
   ]
  },
  {
   "cell_type": "code",
   "execution_count": 23,
   "metadata": {
    "tags": []
   },
   "outputs": [],
   "source": [
    "# Выбор признаков и целевой переменной для обучения модели\n",
    "features = ['Age', 'Sex', 'Job', 'Credit amount', 'Duration', 'Housing_encoded', 'Purpose_encoding']\n",
    "X_train = train_data[features]\n",
    "y_train_saving = train_data['Saving accounts']\n",
    "y_train_checking = train_data['Checking account']"
   ]
  },
  {
   "cell_type": "code",
   "execution_count": 24,
   "metadata": {
    "tags": []
   },
   "outputs": [
    {
     "data": {
      "text/html": [
       "<style>#sk-container-id-1 {color: black;background-color: white;}#sk-container-id-1 pre{padding: 0;}#sk-container-id-1 div.sk-toggleable {background-color: white;}#sk-container-id-1 label.sk-toggleable__label {cursor: pointer;display: block;width: 100%;margin-bottom: 0;padding: 0.3em;box-sizing: border-box;text-align: center;}#sk-container-id-1 label.sk-toggleable__label-arrow:before {content: \"▸\";float: left;margin-right: 0.25em;color: #696969;}#sk-container-id-1 label.sk-toggleable__label-arrow:hover:before {color: black;}#sk-container-id-1 div.sk-estimator:hover label.sk-toggleable__label-arrow:before {color: black;}#sk-container-id-1 div.sk-toggleable__content {max-height: 0;max-width: 0;overflow: hidden;text-align: left;background-color: #f0f8ff;}#sk-container-id-1 div.sk-toggleable__content pre {margin: 0.2em;color: black;border-radius: 0.25em;background-color: #f0f8ff;}#sk-container-id-1 input.sk-toggleable__control:checked~div.sk-toggleable__content {max-height: 200px;max-width: 100%;overflow: auto;}#sk-container-id-1 input.sk-toggleable__control:checked~label.sk-toggleable__label-arrow:before {content: \"▾\";}#sk-container-id-1 div.sk-estimator input.sk-toggleable__control:checked~label.sk-toggleable__label {background-color: #d4ebff;}#sk-container-id-1 div.sk-label input.sk-toggleable__control:checked~label.sk-toggleable__label {background-color: #d4ebff;}#sk-container-id-1 input.sk-hidden--visually {border: 0;clip: rect(1px 1px 1px 1px);clip: rect(1px, 1px, 1px, 1px);height: 1px;margin: -1px;overflow: hidden;padding: 0;position: absolute;width: 1px;}#sk-container-id-1 div.sk-estimator {font-family: monospace;background-color: #f0f8ff;border: 1px dotted black;border-radius: 0.25em;box-sizing: border-box;margin-bottom: 0.5em;}#sk-container-id-1 div.sk-estimator:hover {background-color: #d4ebff;}#sk-container-id-1 div.sk-parallel-item::after {content: \"\";width: 100%;border-bottom: 1px solid gray;flex-grow: 1;}#sk-container-id-1 div.sk-label:hover label.sk-toggleable__label {background-color: #d4ebff;}#sk-container-id-1 div.sk-serial::before {content: \"\";position: absolute;border-left: 1px solid gray;box-sizing: border-box;top: 0;bottom: 0;left: 50%;z-index: 0;}#sk-container-id-1 div.sk-serial {display: flex;flex-direction: column;align-items: center;background-color: white;padding-right: 0.2em;padding-left: 0.2em;position: relative;}#sk-container-id-1 div.sk-item {position: relative;z-index: 1;}#sk-container-id-1 div.sk-parallel {display: flex;align-items: stretch;justify-content: center;background-color: white;position: relative;}#sk-container-id-1 div.sk-item::before, #sk-container-id-1 div.sk-parallel-item::before {content: \"\";position: absolute;border-left: 1px solid gray;box-sizing: border-box;top: 0;bottom: 0;left: 50%;z-index: -1;}#sk-container-id-1 div.sk-parallel-item {display: flex;flex-direction: column;z-index: 1;position: relative;background-color: white;}#sk-container-id-1 div.sk-parallel-item:first-child::after {align-self: flex-end;width: 50%;}#sk-container-id-1 div.sk-parallel-item:last-child::after {align-self: flex-start;width: 50%;}#sk-container-id-1 div.sk-parallel-item:only-child::after {width: 0;}#sk-container-id-1 div.sk-dashed-wrapped {border: 1px dashed gray;margin: 0 0.4em 0.5em 0.4em;box-sizing: border-box;padding-bottom: 0.4em;background-color: white;}#sk-container-id-1 div.sk-label label {font-family: monospace;font-weight: bold;display: inline-block;line-height: 1.2em;}#sk-container-id-1 div.sk-label-container {text-align: center;}#sk-container-id-1 div.sk-container {/* jupyter's `normalize.less` sets `[hidden] { display: none; }` but bootstrap.min.css set `[hidden] { display: none !important; }` so we also need the `!important` here to be able to override the default hidden behavior on the sphinx rendered scikit-learn.org. See: https://github.com/scikit-learn/scikit-learn/issues/21755 */display: inline-block !important;position: relative;}#sk-container-id-1 div.sk-text-repr-fallback {display: none;}</style><div id=\"sk-container-id-1\" class=\"sk-top-container\"><div class=\"sk-text-repr-fallback\"><pre>RandomForestClassifier()</pre><b>In a Jupyter environment, please rerun this cell to show the HTML representation or trust the notebook. <br />On GitHub, the HTML representation is unable to render, please try loading this page with nbviewer.org.</b></div><div class=\"sk-container\" hidden><div class=\"sk-item\"><div class=\"sk-estimator sk-toggleable\"><input class=\"sk-toggleable__control sk-hidden--visually\" id=\"sk-estimator-id-1\" type=\"checkbox\" checked><label for=\"sk-estimator-id-1\" class=\"sk-toggleable__label sk-toggleable__label-arrow\">RandomForestClassifier</label><div class=\"sk-toggleable__content\"><pre>RandomForestClassifier()</pre></div></div></div></div></div>"
      ],
      "text/plain": [
       "RandomForestClassifier()"
      ]
     },
     "execution_count": 24,
     "metadata": {},
     "output_type": "execute_result"
    }
   ],
   "source": [
    "# Обучение модели для Saving accounts\n",
    "model_saving = RandomForestClassifier()\n",
    "model_saving.fit(X_train, y_train_saving)\n",
    "\n",
    "# Обучение модели для Checking account\n",
    "model_checking = RandomForestClassifier()\n",
    "model_checking.fit(X_train, y_train_checking)"
   ]
  },
  {
   "cell_type": "code",
   "execution_count": 25,
   "metadata": {
    "tags": []
   },
   "outputs": [],
   "source": [
    "# Предсказание пропущенных значений в Saving accounts\n",
    "X_test_saving = test_data[features]\n",
    "predicted_saving = model_saving.predict(X_test_saving)"
   ]
  },
  {
   "cell_type": "code",
   "execution_count": 26,
   "metadata": {
    "tags": []
   },
   "outputs": [],
   "source": [
    "# Предсказание пропущенных значений в Checking account\n",
    "X_test_checking = test_data[features]\n",
    "predicted_checking = model_checking.predict(X_test_checking)"
   ]
  },
  {
   "cell_type": "code",
   "execution_count": 27,
   "metadata": {
    "tags": []
   },
   "outputs": [],
   "source": [
    "# Замена пропущенных значений предсказанными значениями\n",
    "data.loc[test_data.index, 'Saving accounts'] = predicted_saving\n",
    "data.loc[test_data.index, 'Checking account'] = predicted_checking"
   ]
  },
  {
   "cell_type": "code",
   "execution_count": 28,
   "metadata": {
    "tags": []
   },
   "outputs": [
    {
     "data": {
      "text/plain": [
       "Age                 0\n",
       "Sex                 0\n",
       "Job                 0\n",
       "Housing             0\n",
       "Saving accounts     0\n",
       "Checking account    0\n",
       "Credit amount       0\n",
       "Duration            0\n",
       "Purpose             0\n",
       "Risk                0\n",
       "Housing_encoded     0\n",
       "Purpose_encoding    0\n",
       "target              0\n",
       "dtype: int64"
      ]
     },
     "execution_count": 28,
     "metadata": {},
     "output_type": "execute_result"
    }
   ],
   "source": [
    "data.isnull().sum()"
   ]
  },
  {
   "cell_type": "code",
   "execution_count": 29,
   "metadata": {
    "tags": []
   },
   "outputs": [
    {
     "data": {
      "text/plain": [
       "little      519\n",
       "moderate    420\n",
       "rich         61\n",
       "Name: Checking account, dtype: int64"
      ]
     },
     "execution_count": 29,
     "metadata": {},
     "output_type": "execute_result"
    }
   ],
   "source": [
    "data['Checking account'].value_counts()"
   ]
  },
  {
   "cell_type": "code",
   "execution_count": 30,
   "metadata": {
    "tags": []
   },
   "outputs": [],
   "source": [
    "# Создание словаря для кодирования\n",
    "saving_encoding = {'little': 1, 'moderate': 2, 'rich': 3, 'quite rich': 4}\n",
    "\n",
    "# Применение label encoding\n",
    "data['saving_encoding'] = data['Saving accounts'].map(saving_encoding)"
   ]
  },
  {
   "cell_type": "code",
   "execution_count": 31,
   "metadata": {
    "tags": []
   },
   "outputs": [],
   "source": [
    "# Создание словаря для кодирования\n",
    "cheking_encoding = {'little': 1, 'moderate': 2, 'rich': 3}\n",
    "\n",
    "# Применение label encoding\n",
    "data['cheking_encoding'] = data['Checking account'].map(cheking_encoding)"
   ]
  },
  {
   "cell_type": "code",
   "execution_count": 32,
   "metadata": {
    "tags": []
   },
   "outputs": [
    {
     "data": {
      "text/html": [
       "<div>\n",
       "<style scoped>\n",
       "    .dataframe tbody tr th:only-of-type {\n",
       "        vertical-align: middle;\n",
       "    }\n",
       "\n",
       "    .dataframe tbody tr th {\n",
       "        vertical-align: top;\n",
       "    }\n",
       "\n",
       "    .dataframe thead th {\n",
       "        text-align: right;\n",
       "    }\n",
       "</style>\n",
       "<table border=\"1\" class=\"dataframe\">\n",
       "  <thead>\n",
       "    <tr style=\"text-align: right;\">\n",
       "      <th></th>\n",
       "      <th>Age</th>\n",
       "      <th>Sex</th>\n",
       "      <th>Job</th>\n",
       "      <th>Housing</th>\n",
       "      <th>Saving accounts</th>\n",
       "      <th>Checking account</th>\n",
       "      <th>Credit amount</th>\n",
       "      <th>Duration</th>\n",
       "      <th>Purpose</th>\n",
       "      <th>Risk</th>\n",
       "      <th>Housing_encoded</th>\n",
       "      <th>Purpose_encoding</th>\n",
       "      <th>target</th>\n",
       "      <th>saving_encoding</th>\n",
       "      <th>cheking_encoding</th>\n",
       "    </tr>\n",
       "  </thead>\n",
       "  <tbody>\n",
       "    <tr>\n",
       "      <th>0</th>\n",
       "      <td>67</td>\n",
       "      <td>1</td>\n",
       "      <td>2</td>\n",
       "      <td>own</td>\n",
       "      <td>little</td>\n",
       "      <td>moderate</td>\n",
       "      <td>1169</td>\n",
       "      <td>6</td>\n",
       "      <td>radio/TV</td>\n",
       "      <td>good</td>\n",
       "      <td>1</td>\n",
       "      <td>1</td>\n",
       "      <td>0</td>\n",
       "      <td>1</td>\n",
       "      <td>2</td>\n",
       "    </tr>\n",
       "    <tr>\n",
       "      <th>1</th>\n",
       "      <td>22</td>\n",
       "      <td>2</td>\n",
       "      <td>2</td>\n",
       "      <td>own</td>\n",
       "      <td>little</td>\n",
       "      <td>moderate</td>\n",
       "      <td>5951</td>\n",
       "      <td>48</td>\n",
       "      <td>radio/TV</td>\n",
       "      <td>bad</td>\n",
       "      <td>1</td>\n",
       "      <td>1</td>\n",
       "      <td>1</td>\n",
       "      <td>1</td>\n",
       "      <td>2</td>\n",
       "    </tr>\n",
       "    <tr>\n",
       "      <th>2</th>\n",
       "      <td>49</td>\n",
       "      <td>1</td>\n",
       "      <td>1</td>\n",
       "      <td>own</td>\n",
       "      <td>little</td>\n",
       "      <td>moderate</td>\n",
       "      <td>2096</td>\n",
       "      <td>12</td>\n",
       "      <td>education</td>\n",
       "      <td>good</td>\n",
       "      <td>1</td>\n",
       "      <td>2</td>\n",
       "      <td>0</td>\n",
       "      <td>1</td>\n",
       "      <td>2</td>\n",
       "    </tr>\n",
       "    <tr>\n",
       "      <th>3</th>\n",
       "      <td>45</td>\n",
       "      <td>1</td>\n",
       "      <td>2</td>\n",
       "      <td>free</td>\n",
       "      <td>little</td>\n",
       "      <td>little</td>\n",
       "      <td>7882</td>\n",
       "      <td>42</td>\n",
       "      <td>furniture/equipment</td>\n",
       "      <td>good</td>\n",
       "      <td>3</td>\n",
       "      <td>3</td>\n",
       "      <td>0</td>\n",
       "      <td>1</td>\n",
       "      <td>1</td>\n",
       "    </tr>\n",
       "    <tr>\n",
       "      <th>4</th>\n",
       "      <td>53</td>\n",
       "      <td>1</td>\n",
       "      <td>2</td>\n",
       "      <td>free</td>\n",
       "      <td>little</td>\n",
       "      <td>little</td>\n",
       "      <td>4870</td>\n",
       "      <td>24</td>\n",
       "      <td>car</td>\n",
       "      <td>bad</td>\n",
       "      <td>3</td>\n",
       "      <td>4</td>\n",
       "      <td>1</td>\n",
       "      <td>1</td>\n",
       "      <td>1</td>\n",
       "    </tr>\n",
       "    <tr>\n",
       "      <th>...</th>\n",
       "      <td>...</td>\n",
       "      <td>...</td>\n",
       "      <td>...</td>\n",
       "      <td>...</td>\n",
       "      <td>...</td>\n",
       "      <td>...</td>\n",
       "      <td>...</td>\n",
       "      <td>...</td>\n",
       "      <td>...</td>\n",
       "      <td>...</td>\n",
       "      <td>...</td>\n",
       "      <td>...</td>\n",
       "      <td>...</td>\n",
       "      <td>...</td>\n",
       "      <td>...</td>\n",
       "    </tr>\n",
       "    <tr>\n",
       "      <th>995</th>\n",
       "      <td>31</td>\n",
       "      <td>2</td>\n",
       "      <td>1</td>\n",
       "      <td>own</td>\n",
       "      <td>little</td>\n",
       "      <td>little</td>\n",
       "      <td>1736</td>\n",
       "      <td>12</td>\n",
       "      <td>furniture/equipment</td>\n",
       "      <td>good</td>\n",
       "      <td>1</td>\n",
       "      <td>3</td>\n",
       "      <td>0</td>\n",
       "      <td>1</td>\n",
       "      <td>1</td>\n",
       "    </tr>\n",
       "    <tr>\n",
       "      <th>996</th>\n",
       "      <td>40</td>\n",
       "      <td>1</td>\n",
       "      <td>3</td>\n",
       "      <td>own</td>\n",
       "      <td>little</td>\n",
       "      <td>little</td>\n",
       "      <td>3857</td>\n",
       "      <td>30</td>\n",
       "      <td>car</td>\n",
       "      <td>good</td>\n",
       "      <td>1</td>\n",
       "      <td>4</td>\n",
       "      <td>0</td>\n",
       "      <td>1</td>\n",
       "      <td>1</td>\n",
       "    </tr>\n",
       "    <tr>\n",
       "      <th>997</th>\n",
       "      <td>38</td>\n",
       "      <td>1</td>\n",
       "      <td>2</td>\n",
       "      <td>own</td>\n",
       "      <td>little</td>\n",
       "      <td>moderate</td>\n",
       "      <td>804</td>\n",
       "      <td>12</td>\n",
       "      <td>radio/TV</td>\n",
       "      <td>good</td>\n",
       "      <td>1</td>\n",
       "      <td>1</td>\n",
       "      <td>0</td>\n",
       "      <td>1</td>\n",
       "      <td>2</td>\n",
       "    </tr>\n",
       "    <tr>\n",
       "      <th>998</th>\n",
       "      <td>23</td>\n",
       "      <td>1</td>\n",
       "      <td>2</td>\n",
       "      <td>free</td>\n",
       "      <td>little</td>\n",
       "      <td>little</td>\n",
       "      <td>1845</td>\n",
       "      <td>45</td>\n",
       "      <td>radio/TV</td>\n",
       "      <td>bad</td>\n",
       "      <td>3</td>\n",
       "      <td>1</td>\n",
       "      <td>1</td>\n",
       "      <td>1</td>\n",
       "      <td>1</td>\n",
       "    </tr>\n",
       "    <tr>\n",
       "      <th>999</th>\n",
       "      <td>27</td>\n",
       "      <td>1</td>\n",
       "      <td>2</td>\n",
       "      <td>own</td>\n",
       "      <td>moderate</td>\n",
       "      <td>moderate</td>\n",
       "      <td>4576</td>\n",
       "      <td>45</td>\n",
       "      <td>car</td>\n",
       "      <td>good</td>\n",
       "      <td>1</td>\n",
       "      <td>4</td>\n",
       "      <td>0</td>\n",
       "      <td>2</td>\n",
       "      <td>2</td>\n",
       "    </tr>\n",
       "  </tbody>\n",
       "</table>\n",
       "<p>1000 rows × 15 columns</p>\n",
       "</div>"
      ],
      "text/plain": [
       "     Age  Sex  Job Housing Saving accounts Checking account  Credit amount  \\\n",
       "0     67    1    2     own          little         moderate           1169   \n",
       "1     22    2    2     own          little         moderate           5951   \n",
       "2     49    1    1     own          little         moderate           2096   \n",
       "3     45    1    2    free          little           little           7882   \n",
       "4     53    1    2    free          little           little           4870   \n",
       "..   ...  ...  ...     ...             ...              ...            ...   \n",
       "995   31    2    1     own          little           little           1736   \n",
       "996   40    1    3     own          little           little           3857   \n",
       "997   38    1    2     own          little         moderate            804   \n",
       "998   23    1    2    free          little           little           1845   \n",
       "999   27    1    2     own        moderate         moderate           4576   \n",
       "\n",
       "     Duration              Purpose  Risk  Housing_encoded  Purpose_encoding  \\\n",
       "0           6             radio/TV  good                1                 1   \n",
       "1          48             radio/TV   bad                1                 1   \n",
       "2          12            education  good                1                 2   \n",
       "3          42  furniture/equipment  good                3                 3   \n",
       "4          24                  car   bad                3                 4   \n",
       "..        ...                  ...   ...              ...               ...   \n",
       "995        12  furniture/equipment  good                1                 3   \n",
       "996        30                  car  good                1                 4   \n",
       "997        12             radio/TV  good                1                 1   \n",
       "998        45             radio/TV   bad                3                 1   \n",
       "999        45                  car  good                1                 4   \n",
       "\n",
       "     target  saving_encoding  cheking_encoding  \n",
       "0         0                1                 2  \n",
       "1         1                1                 2  \n",
       "2         0                1                 2  \n",
       "3         0                1                 1  \n",
       "4         1                1                 1  \n",
       "..      ...              ...               ...  \n",
       "995       0                1                 1  \n",
       "996       0                1                 1  \n",
       "997       0                1                 2  \n",
       "998       1                1                 1  \n",
       "999       0                2                 2  \n",
       "\n",
       "[1000 rows x 15 columns]"
      ]
     },
     "execution_count": 32,
     "metadata": {},
     "output_type": "execute_result"
    }
   ],
   "source": [
    "data"
   ]
  },
  {
   "cell_type": "code",
   "execution_count": 33,
   "metadata": {
    "tags": []
   },
   "outputs": [],
   "source": [
    "# Выбор числовых столбцов\n",
    "numeric_columns = data.select_dtypes(include=['int', 'float'])\n",
    "\n",
    "# Вычисление матрицы корреляции\n",
    "correlation_matrix = numeric_columns.corr()"
   ]
  },
  {
   "cell_type": "code",
   "execution_count": 34,
   "metadata": {
    "tags": []
   },
   "outputs": [
    {
     "data": {
      "image/png": "[encoded data removed]",
      "text/plain": [
       "<Figure size 1000x800 with 2 Axes>"
      ]
     },
     "metadata": {},
     "output_type": "display_data"
    }
   ],
   "source": [
    "# Создание тепловой карты\n",
    "plt.figure(figsize=(10, 8))\n",
    "sns.heatmap(correlation_matrix, annot=True, cmap='coolwarm', fmt=\".2f\", linewidths=0.5)\n",
    "plt.title('Correlation Heatmap')\n",
    "plt.show()"
   ]
  },
  {
   "cell_type": "code",
   "execution_count": 35,
   "metadata": {
    "tags": []
   },
   "outputs": [],
   "source": [
    "df = numeric_columns.copy()"
   ]
  },
  {
   "cell_type": "code",
   "execution_count": 36,
   "metadata": {
    "tags": []
   },
   "outputs": [],
   "source": [
    "from sklearn.preprocessing import StandardScaler\n",
    "\n",
    "# Создание объекта StandardScaler\n",
    "scaler = StandardScaler()\n",
    "\n",
    "# Выбор числовых признаков для масштабирования\n",
    "numeric_features = ['Age', 'Credit amount', 'Duration']\n",
    "\n",
    "# Применение стандартизации к числовым признакам\n",
    "df[numeric_features] = scaler.fit_transform(df[numeric_features])\n"
   ]
  },
  {
   "cell_type": "code",
   "execution_count": 37,
   "metadata": {
    "tags": []
   },
   "outputs": [
    {
     "data": {
      "text/html": [
       "<div>\n",
       "<style scoped>\n",
       "    .dataframe tbody tr th:only-of-type {\n",
       "        vertical-align: middle;\n",
       "    }\n",
       "\n",
       "    .dataframe tbody tr th {\n",
       "        vertical-align: top;\n",
       "    }\n",
       "\n",
       "    .dataframe thead th {\n",
       "        text-align: right;\n",
       "    }\n",
       "</style>\n",
       "<table border=\"1\" class=\"dataframe\">\n",
       "  <thead>\n",
       "    <tr style=\"text-align: right;\">\n",
       "      <th></th>\n",
       "      <th>Age</th>\n",
       "      <th>Sex</th>\n",
       "      <th>Job</th>\n",
       "      <th>Credit amount</th>\n",
       "      <th>Duration</th>\n",
       "      <th>Housing_encoded</th>\n",
       "      <th>Purpose_encoding</th>\n",
       "      <th>target</th>\n",
       "      <th>saving_encoding</th>\n",
       "      <th>cheking_encoding</th>\n",
       "    </tr>\n",
       "  </thead>\n",
       "  <tbody>\n",
       "    <tr>\n",
       "      <th>0</th>\n",
       "      <td>2.766456</td>\n",
       "      <td>1</td>\n",
       "      <td>2</td>\n",
       "      <td>-0.745131</td>\n",
       "      <td>-1.236478</td>\n",
       "      <td>1</td>\n",
       "      <td>1</td>\n",
       "      <td>0</td>\n",
       "      <td>1</td>\n",
       "      <td>2</td>\n",
       "    </tr>\n",
       "    <tr>\n",
       "      <th>1</th>\n",
       "      <td>-1.191404</td>\n",
       "      <td>2</td>\n",
       "      <td>2</td>\n",
       "      <td>0.949817</td>\n",
       "      <td>2.248194</td>\n",
       "      <td>1</td>\n",
       "      <td>1</td>\n",
       "      <td>1</td>\n",
       "      <td>1</td>\n",
       "      <td>2</td>\n",
       "    </tr>\n",
       "    <tr>\n",
       "      <th>2</th>\n",
       "      <td>1.183312</td>\n",
       "      <td>1</td>\n",
       "      <td>1</td>\n",
       "      <td>-0.416562</td>\n",
       "      <td>-0.738668</td>\n",
       "      <td>1</td>\n",
       "      <td>2</td>\n",
       "      <td>0</td>\n",
       "      <td>1</td>\n",
       "      <td>2</td>\n",
       "    </tr>\n",
       "    <tr>\n",
       "      <th>3</th>\n",
       "      <td>0.831502</td>\n",
       "      <td>1</td>\n",
       "      <td>2</td>\n",
       "      <td>1.634247</td>\n",
       "      <td>1.750384</td>\n",
       "      <td>3</td>\n",
       "      <td>3</td>\n",
       "      <td>0</td>\n",
       "      <td>1</td>\n",
       "      <td>1</td>\n",
       "    </tr>\n",
       "    <tr>\n",
       "      <th>4</th>\n",
       "      <td>1.535122</td>\n",
       "      <td>1</td>\n",
       "      <td>2</td>\n",
       "      <td>0.566664</td>\n",
       "      <td>0.256953</td>\n",
       "      <td>3</td>\n",
       "      <td>4</td>\n",
       "      <td>1</td>\n",
       "      <td>1</td>\n",
       "      <td>1</td>\n",
       "    </tr>\n",
       "    <tr>\n",
       "      <th>...</th>\n",
       "      <td>...</td>\n",
       "      <td>...</td>\n",
       "      <td>...</td>\n",
       "      <td>...</td>\n",
       "      <td>...</td>\n",
       "      <td>...</td>\n",
       "      <td>...</td>\n",
       "      <td>...</td>\n",
       "      <td>...</td>\n",
       "      <td>...</td>\n",
       "    </tr>\n",
       "    <tr>\n",
       "      <th>995</th>\n",
       "      <td>-0.399832</td>\n",
       "      <td>2</td>\n",
       "      <td>1</td>\n",
       "      <td>-0.544162</td>\n",
       "      <td>-0.738668</td>\n",
       "      <td>1</td>\n",
       "      <td>3</td>\n",
       "      <td>0</td>\n",
       "      <td>1</td>\n",
       "      <td>1</td>\n",
       "    </tr>\n",
       "    <tr>\n",
       "      <th>996</th>\n",
       "      <td>0.391740</td>\n",
       "      <td>1</td>\n",
       "      <td>3</td>\n",
       "      <td>0.207612</td>\n",
       "      <td>0.754763</td>\n",
       "      <td>1</td>\n",
       "      <td>4</td>\n",
       "      <td>0</td>\n",
       "      <td>1</td>\n",
       "      <td>1</td>\n",
       "    </tr>\n",
       "    <tr>\n",
       "      <th>997</th>\n",
       "      <td>0.215835</td>\n",
       "      <td>1</td>\n",
       "      <td>2</td>\n",
       "      <td>-0.874503</td>\n",
       "      <td>-0.738668</td>\n",
       "      <td>1</td>\n",
       "      <td>1</td>\n",
       "      <td>0</td>\n",
       "      <td>1</td>\n",
       "      <td>2</td>\n",
       "    </tr>\n",
       "    <tr>\n",
       "      <th>998</th>\n",
       "      <td>-1.103451</td>\n",
       "      <td>1</td>\n",
       "      <td>2</td>\n",
       "      <td>-0.505528</td>\n",
       "      <td>1.999289</td>\n",
       "      <td>3</td>\n",
       "      <td>1</td>\n",
       "      <td>1</td>\n",
       "      <td>1</td>\n",
       "      <td>1</td>\n",
       "    </tr>\n",
       "    <tr>\n",
       "      <th>999</th>\n",
       "      <td>-0.751642</td>\n",
       "      <td>1</td>\n",
       "      <td>2</td>\n",
       "      <td>0.462457</td>\n",
       "      <td>1.999289</td>\n",
       "      <td>1</td>\n",
       "      <td>4</td>\n",
       "      <td>0</td>\n",
       "      <td>2</td>\n",
       "      <td>2</td>\n",
       "    </tr>\n",
       "  </tbody>\n",
       "</table>\n",
       "<p>1000 rows × 10 columns</p>\n",
       "</div>"
      ],
      "text/plain": [
       "          Age  Sex  Job  Credit amount  Duration  Housing_encoded  \\\n",
       "0    2.766456    1    2      -0.745131 -1.236478                1   \n",
       "1   -1.191404    2    2       0.949817  2.248194                1   \n",
       "2    1.183312    1    1      -0.416562 -0.738668                1   \n",
       "3    0.831502    1    2       1.634247  1.750384                3   \n",
       "4    1.535122    1    2       0.566664  0.256953                3   \n",
       "..        ...  ...  ...            ...       ...              ...   \n",
       "995 -0.399832    2    1      -0.544162 -0.738668                1   \n",
       "996  0.391740    1    3       0.207612  0.754763                1   \n",
       "997  0.215835    1    2      -0.874503 -0.738668                1   \n",
       "998 -1.103451    1    2      -0.505528  1.999289                3   \n",
       "999 -0.751642    1    2       0.462457  1.999289                1   \n",
       "\n",
       "     Purpose_encoding  target  saving_encoding  cheking_encoding  \n",
       "0                   1       0                1                 2  \n",
       "1                   1       1                1                 2  \n",
       "2                   2       0                1                 2  \n",
       "3                   3       0                1                 1  \n",
       "4                   4       1                1                 1  \n",
       "..                ...     ...              ...               ...  \n",
       "995                 3       0                1                 1  \n",
       "996                 4       0                1                 1  \n",
       "997                 1       0                1                 2  \n",
       "998                 1       1                1                 1  \n",
       "999                 4       0                2                 2  \n",
       "\n",
       "[1000 rows x 10 columns]"
      ]
     },
     "execution_count": 37,
     "metadata": {},
     "output_type": "execute_result"
    }
   ],
   "source": [
    "df"
   ]
  },
  {
   "cell_type": "markdown",
   "metadata": {
    "tags": []
   },
   "source": [
    "### Выводы после обработки и анализа данных \n",
    "\n",
    "    Исходя из представленной матрицы корреляции, можно сделать следующие выводы:\n",
    "\n",
    "1. Возраст (Age):\n",
    "   * Корреляция между возрастом и другими признаками слабая. Наибольшая корреляция наблюдается с суммой кредита (0.032716), что может указывать на незначительное влияние возраста на решение о выдаче кредита.\n",
    "   \n",
    "   \n",
    "2. Профессия (Job):\n",
    "   * Профессия также имеет слабую корреляцию с другими признаками. Наибольшая корреляция (0.285385) наблюдается с суммой кредита, что может указывать на некоторое влияние профессии на размер запрашиваемого кредита. \n",
    "   * Также существует умеренная положительная корреляция между профессией и длительностью кредита (коэффициент корреляции 0.21), что может свидетельствовать о том, что определенные категории работников чаще выбирают кредиты на длительный срок. *\n",
    "\n",
    "\n",
    "3. Сумма кредита (Credit amount):\n",
    "   * Существует умеренная корреляция между суммой кредита и длительностью кредита (0.624984). Это означает, что сумма кредита часто увеличивается с увеличением срока кредита.\n",
    "   * Корреляция между суммой кредита и возрастом также слабая (0.032716), что указывает на то, что возраст не сильно влияет на запрашиваемую сумму кредита. \n",
    "   * Существует умеренная положительная корреляция между суммой кредита и длительностью кредита (коэффициент корреляции 0.62). Это означает, что чем больше сумма кредита, тем вероятнее, что он будет взят на более длительный срок. \n",
    "   * Также есть слабая положительная корреляция между суммой кредита и профессией (коэффициент корреляции 0.29), что может указывать на то, что определенные категории работников чаще запрашивают кредиты большего размера.\n",
    "\n",
    "4. Длительность кредита (Duration):\n",
    "   * Как уже упоминалось, существует умеренная корреляция между длительностью кредита и суммой кредита (0.624984). Это означает, что с увеличением запрашиваемой суммы часто увеличивается и срок кредита.\n",
    "   * Корреляция между длительностью кредита и возрастом слабая (-0.036136), что может указывать на отсутствие существенного влияния возраста на срок кредита.\n",
    "   * Коэффициент корреляции между длительностью кредита и профессией составляет 0.21, что указывает на умеренную положительную корреляцию. Это может означать, что определенные категории работников предпочитают брать кредиты на более длительный срок.\n",
    "   * Также существует слабая отрицательная корреляция между длительностью кредита и возрастом (-0.04). Это может указывать на то, что более молодые клиенты склонны брать кредиты на более короткий срок, в то время как более старшие клиенты предпочитают кредиты с более длительным сроком."
   ]
  },
  {
   "cell_type": "markdown",
   "metadata": {
    "id": "lYEL0ZX_REkj"
   },
   "source": [
    "# Задание 2\n",
    "\n",
    "Разделите датасет на обучающую и тестовую выборки в пропорции 80:20. Разделение должно быть стратифицированным по таргету Risk.\n",
    "\n",
    "В этом и следующих заданиях используйте random_state = 1."
   ]
  },
  {
   "cell_type": "code",
   "execution_count": 137,
   "metadata": {
    "id": "PY2Ea9ETzH9f",
    "tags": []
   },
   "outputs": [
    {
     "name": "stdout",
     "output_type": "stream",
     "text": [
      "Размер обучающей выборки: 800\n",
      "Размер тестовой выборки: 200\n"
     ]
    }
   ],
   "source": [
    "from sklearn.model_selection import train_test_split\n",
    "\n",
    "# Определение признаков (X) и целевой переменной (y)\n",
    "X = df.drop(columns=['target'])\n",
    "y = df['target']\n",
    "\n",
    "# Разделение данных на обучающую и тестовую выборки\n",
    "X_train, X_test, y_train, y_test = train_test_split(X, y, test_size=0.2, stratify=y, random_state=1)\n",
    "\n",
    "# Проверка размеров полученных выборок\n",
    "print(\"Размер обучающей выборки:\", X_train.shape[0])\n",
    "print(\"Размер тестовой выборки:\", X_test.shape[0])\n"
   ]
  },
  {
   "cell_type": "markdown",
   "metadata": {
    "id": "W9rsryWmVTm_"
   },
   "source": [
    "# Задание 3\n",
    "\n",
    "Проведите этап очистки и подготовки данных (data preparation) и подготовьте данные к моделированию."
   ]
  },
  {
   "cell_type": "code",
   "execution_count": 39,
   "metadata": {
    "id": "pRD0SVykzKDV",
    "tags": []
   },
   "outputs": [],
   "source": [
    "# сделано ранее"
   ]
  },
  {
   "cell_type": "markdown",
   "metadata": {
    "id": "Lfve80cbldFX"
   },
   "source": [
    "# Задание 4\n",
    "\n",
    "Сбалансируйте обучающую выборку методом SMOTE и обучите модель RandomForestClassifier. Подберите оптимальные гиперпараметры с помощью GridSearch. Посчитайте метрику ROC-AUC на тестовой выборке."
   ]
  },
  {
   "cell_type": "markdown",
   "metadata": {},
   "source": [
    "### Решение проблемы \"How to resolve \"cannot import name '_MissingValues' from 'sklearn.utils._param_validation'\" issue when trying to import imblearn?\"\n",
    "\n",
    "For those who came across this issue on Jupyter notebook, here's [how I solved it](https://stackoverflow.com/questions/76593906/how-to-resolve-cannot-import-name-missingvalues-from-sklearn-utils-param-v/77483403#77483403)\n",
    "\n",
    "1. !pip uninstall scikit-learn --yes\n",
    "2. !pip uninstall imblearn --yes\n",
    "3. !pip install scikit-learn==1.2.2\n",
    "4. !pip install imblearn\n",
    "5. Restart anaconda navigator It should work"
   ]
  },
  {
   "cell_type": "code",
   "execution_count": 127,
   "metadata": {
    "id": "jOBTGuga5FyE",
    "tags": []
   },
   "outputs": [],
   "source": [
    "from imblearn.over_sampling import SMOTE\n",
    "RANDOM_SEED = 1\n",
    "os = SMOTE(random_state=RANDOM_SEED, k_neighbors=2)\n",
    "\n",
    "features = ['Age', 'Sex', 'Job', 'Credit amount', 'Duration', 'Housing_encoded', 'Purpose_encoding', 'saving_encoding', 'cheking_encoding']\n",
    "target = 'target'\n",
    "\n",
    "X_train, y_train = os.fit_resample(X_train, y_train)"
   ]
  },
  {
   "cell_type": "code",
   "execution_count": 129,
   "metadata": {
    "colab": {
     "base_uri": "https://localhost:8080/"
    },
    "id": "0zzFmXI254ad",
    "outputId": "a42a4536-b145-4e1c-f65d-41969acfb410",
    "tags": []
   },
   "outputs": [
    {
     "name": "stdout",
     "output_type": "stream",
     "text": [
      "0.6432403433476395\n"
     ]
    }
   ],
   "source": [
    "model = RandomForestClassifier(n_estimators=10, max_depth=3, random_state=RANDOM_SEED)\n",
    "model.fit(X_train, y_train)\n",
    "\n",
    "#X_test, y_test = df[features], df[target]\n",
    "print(roc_auc_score(y_test, model.predict_proba(X_test)[:, 1]))"
   ]
  },
  {
   "cell_type": "code",
   "execution_count": 74,
   "metadata": {
    "tags": []
   },
   "outputs": [
    {
     "name": "stdout",
     "output_type": "stream",
     "text": [
      "Наилучшие параметры: {'max_depth': 10, 'min_samples_leaf': 1, 'min_samples_split': 2, 'n_estimators': 100}\n",
      "Наилучшая оценка: 0.8078603316326533\n"
     ]
    }
   ],
   "source": [
    "from sklearn.model_selection import GridSearchCV\n",
    "from sklearn.ensemble import RandomForestClassifier\n",
    "\n",
    "# Определяем сетку параметров\n",
    "param_grid = {\n",
    "    'n_estimators': [10, 50, 100],\n",
    "    'max_depth': [3, 5, 10],\n",
    "    'min_samples_split': [2, 5, 10],\n",
    "    'min_samples_leaf': [1, 2, 4],\n",
    "}\n",
    "\n",
    "# Создаем экземпляр модели RandomForestClassifier\n",
    "rf_model = RandomForestClassifier(random_state=42)\n",
    "\n",
    "# Создаем экземпляр GridSearchCV\n",
    "grid_search = GridSearchCV(rf_model, param_grid, cv=5, scoring='roc_auc')\n",
    "\n",
    "# Выполняем поиск по сетке параметров\n",
    "grid_search.fit(X_train, y_train)\n",
    "\n",
    "# Получаем наилучшие параметры\n",
    "best_params = grid_search.best_params_\n",
    "print(\"Наилучшие параметры:\", best_params)\n",
    "\n",
    "# Получаем оценку модели\n",
    "best_score = grid_search.best_score_\n",
    "print(\"Наилучшая оценка:\", best_score)\n"
   ]
  },
  {
   "cell_type": "code",
   "execution_count": 75,
   "metadata": {
    "tags": []
   },
   "outputs": [
    {
     "name": "stdout",
     "output_type": "stream",
     "text": [
      "ROC-AUC на тестовой выборке: 0.9545666666666667\n"
     ]
    }
   ],
   "source": [
    "from sklearn.metrics import roc_auc_score\n",
    "\n",
    "# Получаем наилучшую модель из GridSearchCV\n",
    "best_model = grid_search.best_estimator_\n",
    "\n",
    "# Предсказываем вероятности классов на тестовой выборке\n",
    "y_pred_proba = best_model.predict_proba(X_test)\n",
    "\n",
    "# Вычисляем ROC-AUC\n",
    "roc_auc = roc_auc_score(y_test, y_pred_proba[:, 1])\n",
    "\n",
    "print(\"ROC-AUC на тестовой выборке:\", roc_auc)\n"
   ]
  },
  {
   "cell_type": "code",
   "execution_count": 76,
   "metadata": {
    "tags": []
   },
   "outputs": [
    {
     "data": {
      "image/png": "[encoded data removed]",
      "text/plain": [
       "<Figure size 640x480 with 1 Axes>"
      ]
     },
     "metadata": {},
     "output_type": "display_data"
    }
   ],
   "source": [
    "import matplotlib.pyplot as plt\n",
    "from sklearn.metrics import roc_curve, auc\n",
    "\n",
    "# Вычисляем значения ROC-кривой\n",
    "fpr, tpr, thresholds = roc_curve(y_test, y_pred_proba[:, 1])\n",
    "\n",
    "# Вычисляем площадь под ROC-кривой\n",
    "roc_auc = auc(fpr, tpr)\n",
    "\n",
    "# Строим ROC-кривую и закрашиваем площадь под ней\n",
    "plt.figure()\n",
    "plt.plot(fpr, tpr, color='green', lw=2, label='ROC curve (area = %0.2f)' % roc_auc)\n",
    "plt.fill_between(fpr, tpr, color='green', alpha=0.5)\n",
    "plt.plot([0, 1], [0, 1], color='navy', lw=2, linestyle='--')\n",
    "plt.xlim([0.0, 1.0])\n",
    "plt.ylim([0.0, 1.05])\n",
    "plt.xlabel('False Positive Rate')\n",
    "plt.ylabel('True Positive Rate')\n",
    "plt.title('Receiver Operating Characteristic')\n",
    "plt.legend(loc=\"lower right\")\n",
    "plt.show()\n"
   ]
  },
  {
   "cell_type": "code",
   "execution_count": 78,
   "metadata": {
    "tags": []
   },
   "outputs": [
    {
     "name": "stdout",
     "output_type": "stream",
     "text": [
      "Средняя точность на кросс-валидации: 0.7383928571428571\n",
      "Стандартное отклонение точности на кросс-валидации: 0.041553843850786074\n"
     ]
    }
   ],
   "source": [
    "from sklearn.model_selection import cross_val_score\n",
    "from sklearn.ensemble import RandomForestClassifier\n",
    "\n",
    "# Инициализация модели\n",
    "rf_classifier = RandomForestClassifier(random_state=1)\n",
    "\n",
    "# Выполнение кросс-валидации\n",
    "cv_scores = cross_val_score(rf_classifier, X_train, y_train, cv=5, scoring='accuracy')\n",
    "\n",
    "# Вывод результатов кросс-валидации\n",
    "print(\"Средняя точность на кросс-валидации:\", cv_scores.mean())\n",
    "print(\"Стандартное отклонение точности на кросс-валидации:\", cv_scores.std())\n"
   ]
  },
  {
   "cell_type": "markdown",
   "metadata": {},
   "source": [
    "Средняя точность на кросс-валидации составляет примерно 0.738, с стандартным отклонением около 0.042. Это означает, что средняя точность модели на различных фолдах кросс-валидации составляет около 73.8%, с отклонением в пределах 4.2%."
   ]
  },
  {
   "cell_type": "markdown",
   "metadata": {
    "id": "B1ysndUDu5YU"
   },
   "source": [
    "# Задание 5\n",
    "\n",
    "Обучите модель RandomForestClassifier с использованием весов классов. Подберите оптимальные веса и гиперпараметры с помощью GridSearch. Посчитайте метрику ROC-AUC на тестовой выборке."
   ]
  },
  {
   "cell_type": "code",
   "execution_count": 79,
   "metadata": {
    "id": "3IQbqeCvzNAp",
    "tags": []
   },
   "outputs": [
    {
     "name": "stdout",
     "output_type": "stream",
     "text": [
      "Отчет о классификации RandomForestClassifier с использованием весов классов:\n",
      "              precision    recall  f1-score   support\n",
      "\n",
      "           0       0.96      0.94      0.95       700\n",
      "           1       0.87      0.90      0.88       300\n",
      "\n",
      "    accuracy                           0.93      1000\n",
      "   macro avg       0.91      0.92      0.92      1000\n",
      "weighted avg       0.93      0.93      0.93      1000\n",
      "\n"
     ]
    }
   ],
   "source": [
    "from sklearn.ensemble import RandomForestClassifier\n",
    "from sklearn.metrics import classification_report\n",
    "\n",
    "# Инициализация и обучение модели RandomForestClassifier с использованием весов классов\n",
    "rf_classifier_weighted = RandomForestClassifier(class_weight='balanced', random_state=1)\n",
    "rf_classifier_weighted.fit(X_train, y_train)\n",
    "\n",
    "# Прогнозирование на тестовых данных\n",
    "y_pred_weighted = rf_classifier_weighted.predict(X_test)\n",
    "\n",
    "# Оценка производительности модели\n",
    "print(\"Отчет о классификации RandomForestClassifier с использованием весов классов:\")\n",
    "print(classification_report(y_test, y_pred_weighted))\n"
   ]
  },
  {
   "cell_type": "markdown",
   "metadata": {},
   "source": [
    "Отчет о классификации RandomForestClassifier с использованием весов классов показывает следующее:\n",
    "\n",
    "* Для класса 0 (негативный класс) precision составляет 96%, recall - 94%, а f1-score - 95%. Это означает, что из всех предсказанных моделью отрицательных случаев 96% действительно являются отрицательными, и модель обнаруживает 94% всех реальных отрицательных случаев. F1-score представляет собой гармоническое среднее precision и recall, что учитывает оба значения.\n",
    "\n",
    "* Для класса 1 (положительный класс) precision составляет 87%, recall - 90%, а f1-score - 88%. Это означает, что из всех предсказанных моделью положительных случаев 87% действительно являются положительными, и модель обнаруживает 90% всех реальных положительных случаев.\n",
    "\n",
    "* Accuracy модели составляет 93%, что означает, что 93% всех предсказаний модели верны.\n",
    "\n",
    "Общий вывод: Модель RandomForestClassifier с использованием весов классов хорошо справляется с обеими классами, обеспечивая высокие показатели precision, recall и f1-score. Это говорит о том, что модель хорошо обобщает данные и может эффективно разделять классы."
   ]
  },
  {
   "cell_type": "code",
   "execution_count": 80,
   "metadata": {
    "tags": []
   },
   "outputs": [
    {
     "name": "stdout",
     "output_type": "stream",
     "text": [
      "Наилучшие параметры: {'class_weight': {0: 1, 1: 3}, 'max_depth': None, 'min_samples_leaf': 2, 'min_samples_split': 2, 'n_estimators': 200}\n",
      "Отчет о классификации RandomForestClassifier с оптимальными параметрами:\n",
      "              precision    recall  f1-score   support\n",
      "\n",
      "           0       0.97      0.89      0.93       700\n",
      "           1       0.78      0.93      0.85       300\n",
      "\n",
      "    accuracy                           0.90      1000\n",
      "   macro avg       0.87      0.91      0.89      1000\n",
      "weighted avg       0.91      0.90      0.90      1000\n",
      "\n"
     ]
    }
   ],
   "source": [
    "from sklearn.model_selection import GridSearchCV\n",
    "\n",
    "# Задание сетки параметров для подбора\n",
    "param_grid = {\n",
    "    'class_weight': [None, 'balanced', {0: 1, 1: 2}, {0: 1, 1: 3}, {0: 1, 1: 4}],  # разные варианты весов классов\n",
    "    'n_estimators': [50, 100, 200],  # количество деревьев в лесу\n",
    "    'max_depth': [None, 5, 10, 20],  # максимальная глубина деревьев\n",
    "    'min_samples_split': [2, 5, 10],  # минимальное количество выборок для разделения узла\n",
    "    'min_samples_leaf': [1, 2, 4]  # минимальное количество выборок в листе\n",
    "}\n",
    "\n",
    "# Инициализация модели RandomForestClassifier\n",
    "rf_classifier = RandomForestClassifier(random_state=1)\n",
    "\n",
    "# Инициализация объекта GridSearchCV\n",
    "grid_search = GridSearchCV(estimator=rf_classifier, param_grid=param_grid, cv=5, scoring='f1')\n",
    "\n",
    "# Поиск оптимальных параметров\n",
    "grid_search.fit(X_train, y_train)\n",
    "\n",
    "# Вывод наилучших параметров\n",
    "print(\"Наилучшие параметры:\", grid_search.best_params_)\n",
    "\n",
    "# Оценка производительности на тестовой выборке с использованием наилучших параметров\n",
    "best_rf_classifier = grid_search.best_estimator_\n",
    "y_pred_best = best_rf_classifier.predict(X_test)\n",
    "print(\"Отчет о классификации RandomForestClassifier с оптимальными параметрами:\")\n",
    "print(classification_report(y_test, y_pred_best))\n"
   ]
  },
  {
   "cell_type": "code",
   "execution_count": 85,
   "metadata": {
    "tags": []
   },
   "outputs": [
    {
     "name": "stdout",
     "output_type": "stream",
     "text": [
      "Отчет о классификации RandomForestClassifier с наилучшими параметрами:\n",
      "              precision    recall  f1-score   support\n",
      "\n",
      "           0       0.97      0.89      0.93       700\n",
      "           1       0.78      0.93      0.85       300\n",
      "\n",
      "    accuracy                           0.90      1000\n",
      "   macro avg       0.87      0.91      0.89      1000\n",
      "weighted avg       0.91      0.90      0.90      1000\n",
      "\n"
     ]
    }
   ],
   "source": [
    "from sklearn.ensemble import RandomForestClassifier\n",
    "from sklearn.metrics import classification_report\n",
    "\n",
    "# Инициализация и обучение модели с наилучшими параметрами\n",
    "best_rf_classifier = RandomForestClassifier(class_weight={0: 1, 1: 3}, max_depth=None, min_samples_leaf=2, min_samples_split=2, n_estimators=200, random_state=1)\n",
    "best_rf_classifier.fit(X_train, y_train)\n",
    "\n",
    "# Прогнозирование на тестовых данных\n",
    "y_pred_best = best_rf_classifier.predict(X_test)\n",
    "\n",
    "# Оценка производительности модели\n",
    "print(\"Отчет о классификации RandomForestClassifier с наилучшими параметрами:\")\n",
    "print(classification_report(y_test, y_pred_best))\n"
   ]
  },
  {
   "cell_type": "code",
   "execution_count": 123,
   "metadata": {
    "tags": []
   },
   "outputs": [
    {
     "name": "stdout",
     "output_type": "stream",
     "text": [
      "ROC-AUC на тестовой выборке: 0.9735193133047211\n"
     ]
    }
   ],
   "source": [
    "from sklearn.metrics import roc_auc_score\n",
    "\n",
    "# Предсказание вероятностей классов на тестовой выборке\n",
    "y_prob_best = best_rf_classifier.predict_proba(X_test)[:, 1]\n",
    "\n",
    "# Вычисление ROC-AUC\n",
    "roc_auc = roc_auc_score(y_test, y_prob_best)\n",
    "print(\"ROC-AUC на тестовой выборке:\", roc_auc)\n"
   ]
  },
  {
   "cell_type": "code",
   "execution_count": 124,
   "metadata": {
    "tags": []
   },
   "outputs": [
    {
     "data": {
      "image/png": "[encoded data removed]",
      "text/plain": [
       "<Figure size 800x600 with 1 Axes>"
      ]
     },
     "metadata": {},
     "output_type": "display_data"
    }
   ],
   "source": [
    "from sklearn.metrics import roc_curve\n",
    "import matplotlib.pyplot as plt\n",
    "\n",
    "# Вычисление значений false positive rate (FPR) и true positive rate (TPR)\n",
    "fpr, tpr, thresholds = roc_curve(y_test, y_prob_best)\n",
    "\n",
    "plt.figure(figsize=(8, 6))\n",
    "plt.plot(fpr, tpr, color='blue', lw=2, label='ROC кривая (ROC-AUC = %0.2f)' % roc_auc)\n",
    "plt.fill_between(fpr, tpr, color='blue', alpha=0.2)\n",
    "plt.plot([0, 1], [0, 1], color='red', lw=2, linestyle='--', label='Случайная модель')\n",
    "plt.xlim([0.0, 1.0])\n",
    "plt.ylim([0.0, 1.05])\n",
    "plt.xlabel('Ложно положительная оценка (False Positive Rate)')\n",
    "plt.ylabel('Истинно положительная оценка (True Positive Rate)')\n",
    "plt.title('ROC-кривая')\n",
    "plt.legend(loc=\"lower right\")\n",
    "plt.show()\n"
   ]
  },
  {
   "cell_type": "code",
   "execution_count": 95,
   "metadata": {
    "tags": []
   },
   "outputs": [
    {
     "name": "stdout",
     "output_type": "stream",
     "text": [
      "Средняя точность на кросс-валидации: 0.71875\n",
      "Стандартное отклонение точности на кросс-валидации: 0.007985957062499221\n"
     ]
    }
   ],
   "source": [
    "from sklearn.model_selection import cross_val_score, StratifiedKFold\n",
    "\n",
    "# Инициализация модели\n",
    "best_rf_classifier = RandomForestClassifier(class_weight={0: 1, 1: 3}, max_depth=None, min_samples_leaf=2, min_samples_split=2, n_estimators=200, random_state=1)\n",
    "\n",
    "# Оценка модели с помощью кросс-валидации\n",
    "cv = StratifiedKFold(n_splits=5, shuffle=True, random_state=1)\n",
    "scores = cross_val_score(best_rf_classifier, X_train, y_train, cv=cv, scoring='accuracy')\n",
    "\n",
    "# Вывод результатов кросс-валидации\n",
    "print(\"Средняя точность на кросс-валидации:\", scores.mean())\n",
    "print(\"Стандартное отклонение точности на кросс-валидации:\", scores.std())\n"
   ]
  },
  {
   "cell_type": "markdown",
   "metadata": {},
   "source": [
    "Средняя точность на кросс-валидации составляет примерно 0.719, а стандартное отклонение около 0.008. Это означает, что средняя точность вашей модели на различных фолдах кросс-валидации составляет около 71.9%, с отклонением в пределах 0.8%.\n",
    "\n",
    "Такой результат говорит о том, что модель имеет неплохую стабильность на разных фолдах, что важно для уверенности в ее обобщающей способности."
   ]
  },
  {
   "cell_type": "markdown",
   "metadata": {
    "tags": []
   },
   "source": [
    "### Upsampling"
   ]
  },
  {
   "cell_type": "code",
   "execution_count": 96,
   "metadata": {
    "id": "J_oFIyKew05Q",
    "tags": []
   },
   "outputs": [],
   "source": [
    "from sklearn.model_selection import train_test_split\n",
    "\n",
    "RANDOM_SEED = 1\n",
    "\n",
    "df_train, df_test = train_test_split(df, stratify=df['target'], test_size=0.2, random_state=RANDOM_SEED)"
   ]
  },
  {
   "cell_type": "code",
   "execution_count": 97,
   "metadata": {
    "colab": {
     "base_uri": "https://localhost:8080/"
    },
    "id": "VN1Y7svayaaW",
    "outputId": "63166833-a3b4-49ec-d5a1-bdad5c164327",
    "tags": []
   },
   "outputs": [
    {
     "name": "stdout",
     "output_type": "stream",
     "text": [
      "(560, 10)\n",
      "(560, 10)\n"
     ]
    }
   ],
   "source": [
    "from sklearn.utils import resample\n",
    "\n",
    "df_min = df_train[df_train['target'] == 1]\n",
    "df_maj = df_train[df_train['target'] == 0]\n",
    "\n",
    "df_min_upsample = resample(df_min, replace=True, n_samples=len(df_maj), random_state=RANDOM_SEED)\n",
    "\n",
    "print(df_min_upsample.shape)\n",
    "print(df_maj.shape)\n"
   ]
  },
  {
   "cell_type": "code",
   "execution_count": 98,
   "metadata": {
    "colab": {
     "base_uri": "https://localhost:8080/",
     "height": 419
    },
    "id": "kcgwV9XYzrqy",
    "outputId": "b6d3d183-5eb5-4c74-ad0a-4febaab5dc2e",
    "tags": []
   },
   "outputs": [
    {
     "data": {
      "text/html": [
       "<div>\n",
       "<style scoped>\n",
       "    .dataframe tbody tr th:only-of-type {\n",
       "        vertical-align: middle;\n",
       "    }\n",
       "\n",
       "    .dataframe tbody tr th {\n",
       "        vertical-align: top;\n",
       "    }\n",
       "\n",
       "    .dataframe thead th {\n",
       "        text-align: right;\n",
       "    }\n",
       "</style>\n",
       "<table border=\"1\" class=\"dataframe\">\n",
       "  <thead>\n",
       "    <tr style=\"text-align: right;\">\n",
       "      <th></th>\n",
       "      <th>Age</th>\n",
       "      <th>Sex</th>\n",
       "      <th>Job</th>\n",
       "      <th>Credit amount</th>\n",
       "      <th>Duration</th>\n",
       "      <th>Housing_encoded</th>\n",
       "      <th>Purpose_encoding</th>\n",
       "      <th>target</th>\n",
       "      <th>saving_encoding</th>\n",
       "      <th>cheking_encoding</th>\n",
       "    </tr>\n",
       "  </thead>\n",
       "  <tbody>\n",
       "    <tr>\n",
       "      <th>262</th>\n",
       "      <td>1.711027</td>\n",
       "      <td>2</td>\n",
       "      <td>0</td>\n",
       "      <td>-0.737688</td>\n",
       "      <td>-0.240857</td>\n",
       "      <td>3</td>\n",
       "      <td>7</td>\n",
       "      <td>1</td>\n",
       "      <td>1</td>\n",
       "      <td>1</td>\n",
       "    </tr>\n",
       "    <tr>\n",
       "      <th>370</th>\n",
       "      <td>1.007407</td>\n",
       "      <td>1</td>\n",
       "      <td>3</td>\n",
       "      <td>-0.730954</td>\n",
       "      <td>-1.236478</td>\n",
       "      <td>1</td>\n",
       "      <td>4</td>\n",
       "      <td>1</td>\n",
       "      <td>1</td>\n",
       "      <td>2</td>\n",
       "    </tr>\n",
       "    <tr>\n",
       "      <th>113</th>\n",
       "      <td>0.391740</td>\n",
       "      <td>1</td>\n",
       "      <td>1</td>\n",
       "      <td>-0.575707</td>\n",
       "      <td>0.008048</td>\n",
       "      <td>1</td>\n",
       "      <td>4</td>\n",
       "      <td>1</td>\n",
       "      <td>1</td>\n",
       "      <td>1</td>\n",
       "    </tr>\n",
       "    <tr>\n",
       "      <th>673</th>\n",
       "      <td>3.382124</td>\n",
       "      <td>1</td>\n",
       "      <td>3</td>\n",
       "      <td>0.444735</td>\n",
       "      <td>0.256953</td>\n",
       "      <td>1</td>\n",
       "      <td>5</td>\n",
       "      <td>0</td>\n",
       "      <td>1</td>\n",
       "      <td>1</td>\n",
       "    </tr>\n",
       "    <tr>\n",
       "      <th>367</th>\n",
       "      <td>0.303788</td>\n",
       "      <td>1</td>\n",
       "      <td>3</td>\n",
       "      <td>1.129520</td>\n",
       "      <td>-0.240857</td>\n",
       "      <td>1</td>\n",
       "      <td>4</td>\n",
       "      <td>1</td>\n",
       "      <td>1</td>\n",
       "      <td>2</td>\n",
       "    </tr>\n",
       "    <tr>\n",
       "      <th>...</th>\n",
       "      <td>...</td>\n",
       "      <td>...</td>\n",
       "      <td>...</td>\n",
       "      <td>...</td>\n",
       "      <td>...</td>\n",
       "      <td>...</td>\n",
       "      <td>...</td>\n",
       "      <td>...</td>\n",
       "      <td>...</td>\n",
       "      <td>...</td>\n",
       "    </tr>\n",
       "    <tr>\n",
       "      <th>651</th>\n",
       "      <td>3.470076</td>\n",
       "      <td>2</td>\n",
       "      <td>3</td>\n",
       "      <td>-0.672471</td>\n",
       "      <td>-1.236478</td>\n",
       "      <td>1</td>\n",
       "      <td>4</td>\n",
       "      <td>0</td>\n",
       "      <td>1</td>\n",
       "      <td>2</td>\n",
       "    </tr>\n",
       "    <tr>\n",
       "      <th>570</th>\n",
       "      <td>0.303788</td>\n",
       "      <td>2</td>\n",
       "      <td>2</td>\n",
       "      <td>-0.854654</td>\n",
       "      <td>-1.236478</td>\n",
       "      <td>1</td>\n",
       "      <td>4</td>\n",
       "      <td>0</td>\n",
       "      <td>1</td>\n",
       "      <td>1</td>\n",
       "    </tr>\n",
       "    <tr>\n",
       "      <th>1106</th>\n",
       "      <td>-0.135974</td>\n",
       "      <td>1</td>\n",
       "      <td>3</td>\n",
       "      <td>-0.128046</td>\n",
       "      <td>0.256953</td>\n",
       "      <td>3</td>\n",
       "      <td>4</td>\n",
       "      <td>0</td>\n",
       "      <td>1</td>\n",
       "      <td>1</td>\n",
       "    </tr>\n",
       "    <tr>\n",
       "      <th>53</th>\n",
       "      <td>-0.223927</td>\n",
       "      <td>1</td>\n",
       "      <td>1</td>\n",
       "      <td>-0.314483</td>\n",
       "      <td>1.252574</td>\n",
       "      <td>2</td>\n",
       "      <td>7</td>\n",
       "      <td>1</td>\n",
       "      <td>1</td>\n",
       "      <td>2</td>\n",
       "    </tr>\n",
       "    <tr>\n",
       "      <th>718</th>\n",
       "      <td>1.711027</td>\n",
       "      <td>2</td>\n",
       "      <td>3</td>\n",
       "      <td>-0.654748</td>\n",
       "      <td>-0.738668</td>\n",
       "      <td>1</td>\n",
       "      <td>3</td>\n",
       "      <td>0</td>\n",
       "      <td>1</td>\n",
       "      <td>1</td>\n",
       "    </tr>\n",
       "  </tbody>\n",
       "</table>\n",
       "<p>1120 rows × 10 columns</p>\n",
       "</div>"
      ],
      "text/plain": [
       "           Age  Sex  Job  Credit amount  Duration  Housing_encoded  \\\n",
       "262   1.711027    2    0      -0.737688 -0.240857                3   \n",
       "370   1.007407    1    3      -0.730954 -1.236478                1   \n",
       "113   0.391740    1    1      -0.575707  0.008048                1   \n",
       "673   3.382124    1    3       0.444735  0.256953                1   \n",
       "367   0.303788    1    3       1.129520 -0.240857                1   \n",
       "...        ...  ...  ...            ...       ...              ...   \n",
       "651   3.470076    2    3      -0.672471 -1.236478                1   \n",
       "570   0.303788    2    2      -0.854654 -1.236478                1   \n",
       "1106 -0.135974    1    3      -0.128046  0.256953                3   \n",
       "53   -0.223927    1    1      -0.314483  1.252574                2   \n",
       "718   1.711027    2    3      -0.654748 -0.738668                1   \n",
       "\n",
       "      Purpose_encoding  target  saving_encoding  cheking_encoding  \n",
       "262                  7       1                1                 1  \n",
       "370                  4       1                1                 2  \n",
       "113                  4       1                1                 1  \n",
       "673                  5       0                1                 1  \n",
       "367                  4       1                1                 2  \n",
       "...                ...     ...              ...               ...  \n",
       "651                  4       0                1                 2  \n",
       "570                  4       0                1                 1  \n",
       "1106                 4       0                1                 1  \n",
       "53                   7       1                1                 2  \n",
       "718                  3       0                1                 1  \n",
       "\n",
       "[1120 rows x 10 columns]"
      ]
     },
     "execution_count": 98,
     "metadata": {},
     "output_type": "execute_result"
    }
   ],
   "source": [
    "df_1 = pd.concat([df_min_upsample, df_maj], ignore_index=True).sample(frac=1.)\n",
    "df_1"
   ]
  },
  {
   "cell_type": "code",
   "execution_count": 99,
   "metadata": {
    "colab": {
     "base_uri": "https://localhost:8080/"
    },
    "id": "dF9vbIabz_Ps",
    "outputId": "2e9be497-1ea7-4ab5-aaaa-807446e5f7cc",
    "tags": []
   },
   "outputs": [
    {
     "name": "stdout",
     "output_type": "stream",
     "text": [
      "0.6486309523809525\n"
     ]
    }
   ],
   "source": [
    "from sklearn.ensemble import RandomForestClassifier\n",
    "from sklearn.metrics import roc_auc_score\n",
    "\n",
    "features = ['Age', 'Sex', 'Job', 'Credit amount', 'Duration', 'Housing_encoded', 'Purpose_encoding', 'saving_encoding', 'cheking_encoding']\n",
    "target = 'target'\n",
    "\n",
    "X_train, y_train = df_1[features], df_1[target]\n",
    "model = RandomForestClassifier(n_estimators=10, max_depth=3, random_state=RANDOM_SEED)\n",
    "model.fit(X_train, y_train)\n",
    "\n",
    "X_test, y_test = df_test[features], df_test[target]\n",
    "print(roc_auc_score(y_test, model.predict_proba(X_test)[:, 1]))"
   ]
  },
  {
   "cell_type": "markdown",
   "metadata": {
    "tags": []
   },
   "source": [
    "### Downsampling"
   ]
  },
  {
   "cell_type": "code",
   "execution_count": 100,
   "metadata": {
    "colab": {
     "base_uri": "https://localhost:8080/"
    },
    "id": "bcE5UYLr1d6C",
    "outputId": "09acf35f-d30a-4cfd-cbb6-24420e907a4d",
    "tags": []
   },
   "outputs": [
    {
     "name": "stdout",
     "output_type": "stream",
     "text": [
      "(240, 10)\n",
      "(240, 10)\n"
     ]
    }
   ],
   "source": [
    "df_maj_downsample = resample(df_maj, replace=False, n_samples=len(df_min), random_state=RANDOM_SEED)\n",
    "\n",
    "print(df_maj_downsample.shape)\n",
    "print(df_min.shape)"
   ]
  },
  {
   "cell_type": "code",
   "execution_count": 101,
   "metadata": {
    "colab": {
     "base_uri": "https://localhost:8080/"
    },
    "id": "bvsMUdBn2Gfg",
    "outputId": "23008960-edb4-4830-9fa1-9efce54476a0",
    "tags": []
   },
   "outputs": [
    {
     "name": "stdout",
     "output_type": "stream",
     "text": [
      "0.6472023809523809\n"
     ]
    }
   ],
   "source": [
    "df_2 = pd.concat([df_maj_downsample, df_min], ignore_index=True).sample(frac=1.)\n",
    "\n",
    "X_train, y_train = df_2[features], df_2[target]\n",
    "model = RandomForestClassifier(n_estimators=10, max_depth=3, random_state=RANDOM_SEED)\n",
    "model.fit(X_train, y_train)\n",
    "\n",
    "X_test, y_test = df_test[features], df_test[target]\n",
    "print(roc_auc_score(y_test, model.predict_proba(X_test)[:, 1]))"
   ]
  },
  {
   "cell_type": "markdown",
   "metadata": {},
   "source": [
    "### Скользящий контроль"
   ]
  },
  {
   "cell_type": "code",
   "execution_count": 122,
   "metadata": {
    "colab": {
     "base_uri": "https://localhost:8080/"
    },
    "id": "9_pFOb0hCFha",
    "outputId": "94f61db4-b8e1-4cc3-9c47-09b6246b8c78",
    "tags": []
   },
   "outputs": [
    {
     "name": "stdout",
     "output_type": "stream",
     "text": [
      "0.6266452991452992\n",
      "0.625450643776824\n",
      "0.6624248927038627\n"
     ]
    }
   ],
   "source": [
    "from sklearn.model_selection import StratifiedKFold\n",
    "\n",
    "kf = StratifiedKFold(n_splits=3, shuffle=True, random_state=RANDOM_SEED)\n",
    "\n",
    "models = []\n",
    "metrics = []\n",
    "\n",
    "features = ['Age', 'Sex', 'Job', 'Credit amount', 'Duration', 'Housing_encoded', 'Purpose_encoding', 'saving_encoding', 'cheking_encoding']\n",
    "target = 'target'\n",
    "X, y = df[features], df[target]\n",
    "\n",
    "for train_index, test_index in kf.split(X, y):\n",
    "  X_train, y_train = X.values[train_index], y.values[train_index]\n",
    "  X_test, y_test = X.values[test_index], y.values[test_index]\n",
    "\n",
    "  model = RandomForestClassifier(n_estimators=10, max_depth=3, random_state=RANDOM_SEED, class_weight='balanced')\n",
    "\n",
    "  model.fit(X_train, y_train)\n",
    "  score = roc_auc_score(y_test, model.predict_proba(X_test)[:, 1])\n",
    "  print(score)\n",
    "\n",
    "  models.append(model)\n",
    "  metrics.append(score)"
   ]
  },
  {
   "cell_type": "code",
   "execution_count": null,
   "metadata": {},
   "outputs": [],
   "source": []
  },
  {
   "cell_type": "code",
   "execution_count": 121,
   "metadata": {
    "tags": []
   },
   "outputs": [
    {
     "data": {
      "image/png": "[encoded data removed]",
      "text/plain": [
       "<Figure size 1000x600 with 1 Axes>"
      ]
     },
     "metadata": {},
     "output_type": "display_data"
    }
   ],
   "source": [
    "from sklearn.model_selection import learning_curve\n",
    "\n",
    "# Определение размеров обучающей выборки\n",
    "train_sizes, train_scores, valid_scores = learning_curve(best_rf_classifier, X_train, y_train, train_sizes=np.linspace(0.1, 1.0, 10), cv=cv, scoring='accuracy')\n",
    "\n",
    "# Вычисление средних значений и стандартных отклонений точности\n",
    "train_mean = np.mean(train_scores, axis=1)\n",
    "train_std = np.std(train_scores, axis=1)\n",
    "valid_mean = np.mean(valid_scores, axis=1)\n",
    "valid_std = np.std(valid_scores, axis=1)\n",
    "\n",
    "# Построение кривых обучения и валидации\n",
    "plt.figure(figsize=(10, 6))\n",
    "plt.plot(train_sizes, train_mean, color='blue', marker='o', markersize=5, label='Обучение')\n",
    "plt.fill_between(train_sizes, train_mean + train_std, train_mean - train_std, alpha=0.15, color='blue')\n",
    "plt.plot(train_sizes, valid_mean, color='green', linestyle='--', marker='s', markersize=5, label='Валидация')\n",
    "plt.fill_between(train_sizes, valid_mean + valid_std, valid_mean - valid_std, alpha=0.15, color='green')\n",
    "plt.xlabel('Размер обучающей выборки')\n",
    "plt.ylabel('Точность')\n",
    "plt.title('Кривые обучения и валидации')\n",
    "plt.legend(loc='lower right')\n",
    "plt.grid()\n",
    "plt.show()\n"
   ]
  },
  {
   "cell_type": "markdown",
   "metadata": {},
   "source": [
    "Этот результат говорит о том, что модель демонстрирует высокую точность на обучающем наборе данных (около 97-99%), что может свидетельствовать о том, что она способна \"запоминать\" обучающие данные и адаптироваться к ним. Однако, кривая валидации показывает, что точность на валидационном наборе данных начинает увеличиваться не так быстро и остается на более низком уровне (от 50% до 75%). Это может указывать на то, что модель имеет тенденцию к переобучению, то есть она может плохо обобщать знания на новые данные, не участвующие в обучении."
   ]
  },
  {
   "cell_type": "code",
   "execution_count": 119,
   "metadata": {
    "tags": []
   },
   "outputs": [
    {
     "name": "stdout",
     "output_type": "stream",
     "text": [
      "Точность (Accuracy) на тестовой выборке: 0.68\n",
      "Precision на тестовой выборке: 0.4666666666666667\n",
      "Recall на тестовой выборке: 0.4666666666666667\n",
      "F1-score на тестовой выборке: 0.4666666666666667\n"
     ]
    }
   ],
   "source": [
    "from sklearn.metrics import accuracy_score, precision_score, recall_score, f1_score\n",
    "\n",
    "# Обучение модели\n",
    "best_rf_classifier.fit(X_train, y_train)\n",
    "\n",
    "# Получение предсказаний на тестовой выборке\n",
    "y_pred = best_rf_classifier.predict(X_test)\n",
    "\n",
    "# Вычисление метрик\n",
    "accuracy = accuracy_score(y_test, y_pred)\n",
    "precision = precision_score(y_test, y_pred)\n",
    "recall = recall_score(y_test, y_pred)\n",
    "f1 = f1_score(y_test, y_pred)\n",
    "\n",
    "# Вывод результатов\n",
    "print(\"Точность (Accuracy) на тестовой выборке:\", accuracy)\n",
    "print(\"Precision на тестовой выборке:\", precision)\n",
    "print(\"Recall на тестовой выборке:\", recall)\n",
    "print(\"F1-score на тестовой выборке:\", f1)\n"
   ]
  },
  {
   "cell_type": "code",
   "execution_count": 120,
   "metadata": {},
   "outputs": [
    {
     "data": {
      "text/plain": [
       "(200, 9)"
      ]
     },
     "execution_count": 120,
     "metadata": {},
     "output_type": "execute_result"
    }
   ],
   "source": [
    "X_test.shape"
   ]
  },
  {
   "cell_type": "code",
   "execution_count": 231,
   "metadata": {
    "tags": []
   },
   "outputs": [
    {
     "name": "stdout",
     "output_type": "stream",
     "text": [
      "ROC-AUC на тестовом наборе данных: 0.716547619047619\n"
     ]
    }
   ],
   "source": [
    "# Инициализация и обучение модели на обучающем наборе данных\n",
    "model = RandomForestClassifier(n_estimators=4, max_depth=3, random_state=1)\n",
    "model.fit(X_train, y_train)\n",
    "\n",
    "# Получение предсказаний вероятностей для тестового набора данных\n",
    "y_pred_proba = model.predict_proba(X_test)[:, 1]\n",
    "\n",
    "# Вычисление ROC-AUC на тестовом наборе данных\n",
    "roc_auc = roc_auc_score(y_test, y_pred_proba)\n",
    "\n",
    "# Вывод значения ROC-AUC\n",
    "print(\"ROC-AUC на тестовом наборе данных:\", roc_auc)"
   ]
  },
  {
   "cell_type": "code",
   "execution_count": 130,
   "metadata": {
    "tags": []
   },
   "outputs": [
    {
     "data": {
      "image/png": "[encoded data removed]",
      "text/plain": [
       "<Figure size 1000x600 with 1 Axes>"
      ]
     },
     "metadata": {},
     "output_type": "display_data"
    }
   ],
   "source": [
    "from sklearn.model_selection import learning_curve\n",
    "\n",
    "# Определение размеров обучающей выборки\n",
    "train_sizes, train_scores, valid_scores = learning_curve(model, X_train, y_train, train_sizes=np.linspace(0.1, 1.0, 10), cv=cv, scoring='accuracy')\n",
    "\n",
    "# Вычисление средних значений и стандартных отклонений точности\n",
    "train_mean = np.mean(train_scores, axis=1)\n",
    "train_std = np.std(train_scores, axis=1)\n",
    "valid_mean = np.mean(valid_scores, axis=1)\n",
    "valid_std = np.std(valid_scores, axis=1)\n",
    "\n",
    "# Построение кривых обучения и валидации\n",
    "plt.figure(figsize=(10, 6))\n",
    "plt.plot(train_sizes, train_mean, color='blue', marker='o', markersize=5, label='Обучение')\n",
    "plt.fill_between(train_sizes, train_mean + train_std, train_mean - train_std, alpha=0.15, color='blue')\n",
    "plt.plot(train_sizes, valid_mean, color='green', linestyle='--', marker='s', markersize=5, label='Валидация')\n",
    "plt.fill_between(train_sizes, valid_mean + valid_std, valid_mean - valid_std, alpha=0.15, color='green')\n",
    "plt.xlabel('Размер обучающей выборки')\n",
    "plt.ylabel('Точность')\n",
    "plt.title('Кривые обучения и валидации')\n",
    "plt.legend(loc='lower right')\n",
    "plt.grid()\n",
    "plt.show()\n"
   ]
  },
  {
   "cell_type": "code",
   "execution_count": 131,
   "metadata": {
    "tags": []
   },
   "outputs": [
    {
     "name": "stdout",
     "output_type": "stream",
     "text": [
      "Точность (Accuracy) на тестовой выборке: 0.6666666666666666\n",
      "Precision на тестовой выборке: 0.44554455445544555\n",
      "Recall на тестовой выборке: 0.45\n",
      "F1-score на тестовой выборке: 0.44776119402985076\n"
     ]
    }
   ],
   "source": [
    "from sklearn.metrics import accuracy_score, precision_score, recall_score, f1_score\n",
    "\n",
    "# Получение предсказаний на тестовой выборке\n",
    "y_pred = model.predict(X_test)\n",
    "\n",
    "# Вычисление метрик\n",
    "accuracy = accuracy_score(y_test, y_pred)\n",
    "precision = precision_score(y_test, y_pred)\n",
    "recall = recall_score(y_test, y_pred)\n",
    "f1 = f1_score(y_test, y_pred)\n",
    "\n",
    "# Вывод результатов\n",
    "print(\"Точность (Accuracy) на тестовой выборке:\", accuracy)\n",
    "print(\"Precision на тестовой выборке:\", precision)\n",
    "print(\"Recall на тестовой выборке:\", recall)\n",
    "print(\"F1-score на тестовой выборке:\", f1)\n"
   ]
  },
  {
   "cell_type": "code",
   "execution_count": null,
   "metadata": {},
   "outputs": [],
   "source": []
  },
  {
   "cell_type": "code",
   "execution_count": 134,
   "metadata": {
    "tags": []
   },
   "outputs": [
    {
     "name": "stdout",
     "output_type": "stream",
     "text": [
      "ROC-AUC на тестовой выборке: 0.9735193133047211\n"
     ]
    }
   ],
   "source": [
    "from sklearn.metrics import roc_auc_score\n",
    "\n",
    "# Предсказание вероятностей классов на тестовой выборке\n",
    "y_prob_best = best_rf_classifier.predict_proba(X_test)[:, 1]\n",
    "\n",
    "# Вычисление ROC-AUC\n",
    "roc_auc = roc_auc_score(y_test, y_prob_best)\n",
    "print(\"ROC-AUC на тестовой выборке:\", roc_auc)\n"
   ]
  },
  {
   "cell_type": "code",
   "execution_count": 135,
   "metadata": {
    "tags": []
   },
   "outputs": [
    {
     "data": {
      "image/png": "[encoded data removed]",
      "text/plain": [
       "<Figure size 800x600 with 2 Axes>"
      ]
     },
     "metadata": {},
     "output_type": "display_data"
    }
   ],
   "source": [
    "from sklearn.metrics import confusion_matrix\n",
    "import seaborn as sns\n",
    "\n",
    "# Получение прогнозов модели\n",
    "y_pred = best_rf_classifier.predict(X_test)\n",
    "\n",
    "# Создание матрицы ошибок\n",
    "conf_matrix = confusion_matrix(y_test, y_pred)\n",
    "\n",
    "# Визуализация матрицы ошибок\n",
    "plt.figure(figsize=(8, 6))\n",
    "sns.heatmap(conf_matrix, annot=True, cmap='Blues', fmt='g')\n",
    "plt.title('Матрица ошибок')\n",
    "plt.xlabel('Предсказанные классы')\n",
    "plt.ylabel('Истинные классы')\n",
    "plt.show()\n"
   ]
  },
  {
   "cell_type": "markdown",
   "metadata": {},
   "source": [
    "### Выводы\n",
    "\n",
    "После проведенных исследований, наилучшее предсказание показывает модель \n",
    "\n",
    "best_rf_classifier = RandomForestClassifier\n",
    "\n",
    "с параметрами (class_weight={0: 1, 1: 3}, max_depth=None, min_samples_leaf=2, min_samples_split=2, n_estimators=200, random_state=1)\n",
    "\n",
    "1. Модель совершила небольшое количество ошибок при классификации отрицательных примеров (TN = 223), что говорит о ее способности правильно идентифицировать отрицательные случаи.\n",
    "2. Однако она также совершила небольшое количество ложноположительных ошибок (FP = 10), что означает, что некоторые негативные примеры были неверно классифицированы как положительные. Возможно, это может быть улучшено путем дополнительной настройки модели или увеличения обучающей выборки.\n",
    "3. Модель правильно классифицировала большинство положительных примеров (TP = 94), но также допустила несколько ложноотрицательных ошибок (FN = 6), что указывает на то, что некоторые истинные положительные случаи были неверно классифицированы как отрицательные. Возможно, улучшение модели в этой области также может быть достигнуто путем изменения порогового значения вероятности или использования других методов машинного обучения.\n",
    "\n",
    "Отвечает ли модель на вопрос \"Допустит ли заёмщик просрочку платежей по кредиту в будущем?\". \n",
    "\n",
    "* Истинно положительные (True Positives, TP): В данном случае это количество заёмщиков, которых модель правильно классифицировала как тех, кто действительно допустит просрочку платежей по кредиту. Это важный показатель, поскольку он указывает на способность модели выявлять рискованных заемщиков. В данном случае, это 94 человека.\n",
    "\n",
    "* Ложноотрицательные (False Negatives, FN): Это количество заёмщиков, которых модель неверно классифицировала как тех, кто не допустит просрочку платежей, но на самом деле они ее допустили. Это очень важные случаи, поскольку банк может потерять деньги из-за просрочек, которые не были правильно идентифицированы моделью. В данном случае их всего 6 человек.\n",
    "\n",
    "Исходя из этой матрицы ошибок, можно сделать вывод о том, что модель имеет некоторые ограниченные способности в предсказании будущих просрочек платежей по кредиту. Однако, существует некоторый риск, что модель может не улавливать все случаи просрочек, что может привести к финансовым потерям для банка. Таким образом, для улучшения модели требуется дальнейший анализ и улучшение методов прогнозирования просрочек платежей."
   ]
  },
  {
   "cell_type": "code",
   "execution_count": null,
   "metadata": {},
   "outputs": [],
   "source": []
  },
  {
   "cell_type": "code",
   "execution_count": 138,
   "metadata": {
    "tags": []
   },
   "outputs": [
    {
     "name": "stdout",
     "output_type": "stream",
     "text": [
      "ROC-AUC на тестовой выборке: 0.6772619047619047\n"
     ]
    }
   ],
   "source": [
    "from sklearn.metrics import roc_auc_score\n",
    "\n",
    "# Предсказание вероятностей классов на тестовой выборке\n",
    "y_prob_best = best_rf_classifier.predict_proba(X_test)[:, 1]\n",
    "\n",
    "# Вычисление ROC-AUC\n",
    "roc_auc = roc_auc_score(y_test, y_prob_best)\n",
    "print(\"ROC-AUC на тестовой выборке:\", roc_auc)\n"
   ]
  },
  {
   "cell_type": "code",
   "execution_count": null,
   "metadata": {},
   "outputs": [],
   "source": []
  }
 ],
 "metadata": {
  "colab": {
   "provenance": []
  },
  "gpuClass": "standard",
  "kernelspec": {
   "display_name": "Python 3 (ipykernel)",
   "language": "python",
   "name": "python3"
  },
  "language_info": {
   "codemirror_mode": {
    "name": "ipython",
    "version": 3
   },
   "file_extension": ".py",
   "mimetype": "text/x-python",
   "name": "python",
   "nbconvert_exporter": "python",
   "pygments_lexer": "ipython3",
   "version": "3.9.18"
  }
 },
 "nbformat": 4,
 "nbformat_minor": 4
}
