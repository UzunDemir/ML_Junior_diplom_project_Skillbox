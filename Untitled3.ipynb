{
 "cells": [
  {
   "cell_type": "code",
   "execution_count": null,
   "id": "9b641e2a-bdab-46b7-966c-0c00439a270c",
   "metadata": {},
   "outputs": [],
   "source": []
  },
  {
   "cell_type": "code",
   "execution_count": 1,
   "id": "05c163dd-f058-44f8-93b5-cf505e919b5e",
   "metadata": {
    "tags": []
   },
   "outputs": [
    {
     "name": "stdout",
     "output_type": "stream",
     "text": [
      "Python version: 3.9.18 (main, Sep 11 2023, 14:09:26) [MSC v.1916 64 bit (AMD64)]\n",
      "pandas version: 2.2.1\n",
      "matplotlib version: 3.4.3\n",
      "NumPy version: 1.26.4\n",
      "SciPy version: 1.12.0\n",
      "IPython version: 8.15.0\n",
      "scikit-learn version: 1.3.0\n",
      "-------------------------\n"
     ]
    }
   ],
   "source": [
    "# Импорт необходимых библиотек\n",
    "\n",
    "#load packages\n",
    "#ignore warnings\n",
    "import warnings\n",
    "warnings.filterwarnings('ignore')\n",
    "\n",
    "import sys #access to system parameters https://docs.python.org/3/library/sys.html\n",
    "print(\"Python version: {}\". format(sys.version))\n",
    "\n",
    "import pandas as pd #collection of functions for data processing and analysis modeled after R dataframes with SQL like features\n",
    "print(\"pandas version: {}\". format(pd.__version__))\n",
    "\n",
    "import matplotlib #collection of functions for scientific and publication-ready visualization\n",
    "print(\"matplotlib version: {}\". format(matplotlib.__version__))\n",
    "\n",
    "import numpy as np #foundational package for scientific computing\n",
    "print(\"NumPy version: {}\". format(np.__version__))\n",
    "\n",
    "import scipy as sp #collection of functions for scientific computing and advance mathematics\n",
    "print(\"SciPy version: {}\". format(sp.__version__)) \n",
    "\n",
    "import IPython\n",
    "from IPython import display #pretty printing of dataframes in Jupyter notebook\n",
    "print(\"IPython version: {}\". format(IPython.__version__)) \n",
    "\n",
    "import sklearn #collection of machine learning algorithms\n",
    "print(\"scikit-learn version: {}\". format(sklearn.__version__))\n",
    "\n",
    "#misc libraries\n",
    "import random\n",
    "import time\n",
    "\n",
    "\n",
    "\n",
    "print('-'*25)\n",
    "\n"
   ]
  },
  {
   "cell_type": "code",
   "execution_count": 2,
   "id": "0b28e11f-f7f7-4aa5-a1b8-7f4fe2177eb9",
   "metadata": {
    "tags": []
   },
   "outputs": [],
   "source": [
    "# Загрузка библиотек моделирования данных\n",
    "\n",
    "#Common Model Algorithms\n",
    "from sklearn import svm, tree, linear_model, neighbors, naive_bayes, ensemble, discriminant_analysis, gaussian_process\n",
    "from xgboost import XGBClassifier\n",
    "\n",
    "#Common Model Helpers\n",
    "from sklearn.preprocessing import OneHotEncoder, LabelEncoder\n",
    "from sklearn import feature_selection\n",
    "from sklearn import model_selection\n",
    "from sklearn import metrics\n",
    "from sklearn.pipeline import Pipeline\n",
    "from sklearn.compose import ColumnTransformer\n",
    "\n",
    "#Visualization\n",
    "import matplotlib as mpl\n",
    "import matplotlib.pyplot as plt\n",
    "import matplotlib.pylab as pylab\n",
    "import seaborn as sns\n",
    "from pandas.plotting import scatter_matrix\n",
    "\n",
    "#Configure Visualization Defaults\n",
    "#%matplotlib inline = show plots in Jupyter Notebook browser\n",
    "%matplotlib inline\n",
    "mpl.style.use('ggplot')\n",
    "sns.set_style('white')\n",
    "pylab.rcParams['figure.figsize'] = 12,8"
   ]
  },
  {
   "cell_type": "code",
   "execution_count": 3,
   "id": "ce67152b-f9ed-4027-aa97-f6d8f8705fa6",
   "metadata": {
    "tags": []
   },
   "outputs": [
    {
     "name": "stdout",
     "output_type": "stream",
     "text": [
      "Загрузка файла: 26_mln.csv\\part-00000-f93764a5-9fad-4978-8fe2-9dbb6712ab5f-c000.csv\n",
      "Загрузка файла: 26_mln.csv\\part-00001-f93764a5-9fad-4978-8fe2-9dbb6712ab5f-c000.csv\n",
      "Загрузка файла: 26_mln.csv\\part-00002-f93764a5-9fad-4978-8fe2-9dbb6712ab5f-c000.csv\n",
      "Загрузка файла: 26_mln.csv\\part-00003-f93764a5-9fad-4978-8fe2-9dbb6712ab5f-c000.csv\n",
      "Загрузка файла: 26_mln.csv\\part-00004-f93764a5-9fad-4978-8fe2-9dbb6712ab5f-c000.csv\n",
      "Загрузка файла: 26_mln.csv\\part-00005-f93764a5-9fad-4978-8fe2-9dbb6712ab5f-c000.csv\n",
      "Загрузка файла: 26_mln.csv\\part-00006-f93764a5-9fad-4978-8fe2-9dbb6712ab5f-c000.csv\n",
      "Загрузка файла: 26_mln.csv\\part-00007-f93764a5-9fad-4978-8fe2-9dbb6712ab5f-c000.csv\n",
      "Загрузка файла: 26_mln.csv\\part-00008-f93764a5-9fad-4978-8fe2-9dbb6712ab5f-c000.csv\n",
      "Загрузка файла: 26_mln.csv\\part-00009-f93764a5-9fad-4978-8fe2-9dbb6712ab5f-c000.csv\n",
      "Загрузка файла: 26_mln.csv\\part-00010-f93764a5-9fad-4978-8fe2-9dbb6712ab5f-c000.csv\n",
      "Загрузка файла: 26_mln.csv\\part-00011-f93764a5-9fad-4978-8fe2-9dbb6712ab5f-c000.csv\n",
      "Загрузка файла: 26_mln.csv\\part-00012-f93764a5-9fad-4978-8fe2-9dbb6712ab5f-c000.csv\n",
      "Загрузка файла: 26_mln.csv\\part-00013-f93764a5-9fad-4978-8fe2-9dbb6712ab5f-c000.csv\n",
      "Загрузка файла: 26_mln.csv\\part-00014-f93764a5-9fad-4978-8fe2-9dbb6712ab5f-c000.csv\n",
      "Загрузка файла: 26_mln.csv\\part-00015-f93764a5-9fad-4978-8fe2-9dbb6712ab5f-c000.csv\n",
      "Загрузка файла: 26_mln.csv\\part-00016-f93764a5-9fad-4978-8fe2-9dbb6712ab5f-c000.csv\n",
      "Загрузка файла: 26_mln.csv\\part-00017-f93764a5-9fad-4978-8fe2-9dbb6712ab5f-c000.csv\n",
      "Загрузка файла: 26_mln.csv\\part-00018-f93764a5-9fad-4978-8fe2-9dbb6712ab5f-c000.csv\n",
      "Загрузка файла: 26_mln.csv\\part-00019-f93764a5-9fad-4978-8fe2-9dbb6712ab5f-c000.csv\n",
      "Загрузка файла: 26_mln.csv\\part-00020-f93764a5-9fad-4978-8fe2-9dbb6712ab5f-c000.csv\n",
      "Загрузка файла: 26_mln.csv\\part-00021-f93764a5-9fad-4978-8fe2-9dbb6712ab5f-c000.csv\n",
      "Загрузка файла: 26_mln.csv\\part-00022-f93764a5-9fad-4978-8fe2-9dbb6712ab5f-c000.csv\n",
      "Загрузка файла: 26_mln.csv\\part-00023-f93764a5-9fad-4978-8fe2-9dbb6712ab5f-c000.csv\n",
      "Загрузка файла: 26_mln.csv\\part-00024-f93764a5-9fad-4978-8fe2-9dbb6712ab5f-c000.csv\n",
      "Загрузка файла: 26_mln.csv\\part-00025-f93764a5-9fad-4978-8fe2-9dbb6712ab5f-c000.csv\n",
      "Загрузка файла: 26_mln.csv\\part-00026-f93764a5-9fad-4978-8fe2-9dbb6712ab5f-c000.csv\n",
      "Загрузка файла: 26_mln.csv\\part-00027-f93764a5-9fad-4978-8fe2-9dbb6712ab5f-c000.csv\n",
      "Загрузка файла: 26_mln.csv\\part-00028-f93764a5-9fad-4978-8fe2-9dbb6712ab5f-c000.csv\n",
      "Загрузка файла: 26_mln.csv\\part-00029-f93764a5-9fad-4978-8fe2-9dbb6712ab5f-c000.csv\n",
      "Загрузка файла: 26_mln.csv\\part-00030-f93764a5-9fad-4978-8fe2-9dbb6712ab5f-c000.csv\n",
      "Загрузка файла: 26_mln.csv\\part-00031-f93764a5-9fad-4978-8fe2-9dbb6712ab5f-c000.csv\n",
      "Загрузка файла: 26_mln.csv\\part-00032-f93764a5-9fad-4978-8fe2-9dbb6712ab5f-c000.csv\n",
      "Загрузка файла: 26_mln.csv\\part-00033-f93764a5-9fad-4978-8fe2-9dbb6712ab5f-c000.csv\n",
      "Загрузка файла: 26_mln.csv\\part-00034-f93764a5-9fad-4978-8fe2-9dbb6712ab5f-c000.csv\n",
      "Загрузка файла: 26_mln.csv\\part-00035-f93764a5-9fad-4978-8fe2-9dbb6712ab5f-c000.csv\n",
      "Загрузка файла: 26_mln.csv\\part-00036-f93764a5-9fad-4978-8fe2-9dbb6712ab5f-c000.csv\n",
      "Загрузка файла: 26_mln.csv\\part-00037-f93764a5-9fad-4978-8fe2-9dbb6712ab5f-c000.csv\n",
      "Загрузка файла: 26_mln.csv\\part-00038-f93764a5-9fad-4978-8fe2-9dbb6712ab5f-c000.csv\n",
      "Загрузка файла: 26_mln.csv\\part-00039-f93764a5-9fad-4978-8fe2-9dbb6712ab5f-c000.csv\n"
     ]
    },
    {
     "ename": "MemoryError",
     "evalue": "Unable to allocate 12.1 GiB for an array with shape (62, 26162717) and data type int64",
     "output_type": "error",
     "traceback": [
      "\u001b[1;31m---------------------------------------------------------------------------\u001b[0m",
      "\u001b[1;31mMemoryError\u001b[0m                               Traceback (most recent call last)",
      "Cell \u001b[1;32mIn[3], line 23\u001b[0m\n\u001b[0;32m     20\u001b[0m             dfs\u001b[38;5;241m.\u001b[39mappend(df)\n\u001b[0;32m     22\u001b[0m \u001b[38;5;66;03m# Объединение всех DataFrame из списка в один\u001b[39;00m\n\u001b[1;32m---> 23\u001b[0m merged_df \u001b[38;5;241m=\u001b[39m \u001b[43mpd\u001b[49m\u001b[38;5;241;43m.\u001b[39;49m\u001b[43mconcat\u001b[49m\u001b[43m(\u001b[49m\u001b[43mdfs\u001b[49m\u001b[43m,\u001b[49m\u001b[43m \u001b[49m\u001b[43mignore_index\u001b[49m\u001b[38;5;241;43m=\u001b[39;49m\u001b[38;5;28;43;01mTrue\u001b[39;49;00m\u001b[43m)\u001b[49m\n\u001b[0;32m     25\u001b[0m \u001b[38;5;66;03m# Вывод информации о ходе скачивания\u001b[39;00m\n\u001b[0;32m     26\u001b[0m \u001b[38;5;28mprint\u001b[39m(\u001b[38;5;124m\"\u001b[39m\u001b[38;5;124mСкачивание завершено. Общее количество строк в объединенном DataFrame:\u001b[39m\u001b[38;5;124m\"\u001b[39m, \u001b[38;5;28mlen\u001b[39m(merged_df))\n",
      "File \u001b[1;32m~\\AppData\\Roaming\\Python\\Python39\\site-packages\\pandas\\core\\reshape\\concat.py:395\u001b[0m, in \u001b[0;36mconcat\u001b[1;34m(objs, axis, join, ignore_index, keys, levels, names, verify_integrity, sort, copy)\u001b[0m\n\u001b[0;32m    380\u001b[0m     copy \u001b[38;5;241m=\u001b[39m \u001b[38;5;28;01mFalse\u001b[39;00m\n\u001b[0;32m    382\u001b[0m op \u001b[38;5;241m=\u001b[39m _Concatenator(\n\u001b[0;32m    383\u001b[0m     objs,\n\u001b[0;32m    384\u001b[0m     axis\u001b[38;5;241m=\u001b[39maxis,\n\u001b[1;32m   (...)\u001b[0m\n\u001b[0;32m    392\u001b[0m     sort\u001b[38;5;241m=\u001b[39msort,\n\u001b[0;32m    393\u001b[0m )\n\u001b[1;32m--> 395\u001b[0m \u001b[38;5;28;01mreturn\u001b[39;00m \u001b[43mop\u001b[49m\u001b[38;5;241;43m.\u001b[39;49m\u001b[43mget_result\u001b[49m\u001b[43m(\u001b[49m\u001b[43m)\u001b[49m\n",
      "File \u001b[1;32m~\\AppData\\Roaming\\Python\\Python39\\site-packages\\pandas\\core\\reshape\\concat.py:684\u001b[0m, in \u001b[0;36m_Concatenator.get_result\u001b[1;34m(self)\u001b[0m\n\u001b[0;32m    680\u001b[0m             indexers[ax] \u001b[38;5;241m=\u001b[39m obj_labels\u001b[38;5;241m.\u001b[39mget_indexer(new_labels)\n\u001b[0;32m    682\u001b[0m     mgrs_indexers\u001b[38;5;241m.\u001b[39mappend((obj\u001b[38;5;241m.\u001b[39m_mgr, indexers))\n\u001b[1;32m--> 684\u001b[0m new_data \u001b[38;5;241m=\u001b[39m \u001b[43mconcatenate_managers\u001b[49m\u001b[43m(\u001b[49m\n\u001b[0;32m    685\u001b[0m \u001b[43m    \u001b[49m\u001b[43mmgrs_indexers\u001b[49m\u001b[43m,\u001b[49m\u001b[43m \u001b[49m\u001b[38;5;28;43mself\u001b[39;49m\u001b[38;5;241;43m.\u001b[39;49m\u001b[43mnew_axes\u001b[49m\u001b[43m,\u001b[49m\u001b[43m \u001b[49m\u001b[43mconcat_axis\u001b[49m\u001b[38;5;241;43m=\u001b[39;49m\u001b[38;5;28;43mself\u001b[39;49m\u001b[38;5;241;43m.\u001b[39;49m\u001b[43mbm_axis\u001b[49m\u001b[43m,\u001b[49m\u001b[43m \u001b[49m\u001b[43mcopy\u001b[49m\u001b[38;5;241;43m=\u001b[39;49m\u001b[38;5;28;43mself\u001b[39;49m\u001b[38;5;241;43m.\u001b[39;49m\u001b[43mcopy\u001b[49m\n\u001b[0;32m    686\u001b[0m \u001b[43m\u001b[49m\u001b[43m)\u001b[49m\n\u001b[0;32m    687\u001b[0m \u001b[38;5;28;01mif\u001b[39;00m \u001b[38;5;129;01mnot\u001b[39;00m \u001b[38;5;28mself\u001b[39m\u001b[38;5;241m.\u001b[39mcopy \u001b[38;5;129;01mand\u001b[39;00m \u001b[38;5;129;01mnot\u001b[39;00m using_copy_on_write():\n\u001b[0;32m    688\u001b[0m     new_data\u001b[38;5;241m.\u001b[39m_consolidate_inplace()\n",
      "File \u001b[1;32m~\\AppData\\Roaming\\Python\\Python39\\site-packages\\pandas\\core\\internals\\concat.py:177\u001b[0m, in \u001b[0;36mconcatenate_managers\u001b[1;34m(mgrs_indexers, axes, concat_axis, copy)\u001b[0m\n\u001b[0;32m    167\u001b[0m vals \u001b[38;5;241m=\u001b[39m [ju\u001b[38;5;241m.\u001b[39mblock\u001b[38;5;241m.\u001b[39mvalues \u001b[38;5;28;01mfor\u001b[39;00m ju \u001b[38;5;129;01min\u001b[39;00m join_units]\n\u001b[0;32m    169\u001b[0m \u001b[38;5;28;01mif\u001b[39;00m \u001b[38;5;129;01mnot\u001b[39;00m blk\u001b[38;5;241m.\u001b[39mis_extension:\n\u001b[0;32m    170\u001b[0m     \u001b[38;5;66;03m# _is_uniform_join_units ensures a single dtype, so\u001b[39;00m\n\u001b[0;32m    171\u001b[0m     \u001b[38;5;66;03m#  we can use np.concatenate, which is more performant\u001b[39;00m\n\u001b[1;32m   (...)\u001b[0m\n\u001b[0;32m    175\u001b[0m     \u001b[38;5;66;03m# expected \"Union[_SupportsArray[dtype[Any]],\u001b[39;00m\n\u001b[0;32m    176\u001b[0m     \u001b[38;5;66;03m# _NestedSequence[_SupportsArray[dtype[Any]]]]\"\u001b[39;00m\n\u001b[1;32m--> 177\u001b[0m     values \u001b[38;5;241m=\u001b[39m \u001b[43mnp\u001b[49m\u001b[38;5;241;43m.\u001b[39;49m\u001b[43mconcatenate\u001b[49m\u001b[43m(\u001b[49m\u001b[43mvals\u001b[49m\u001b[43m,\u001b[49m\u001b[43m \u001b[49m\u001b[43maxis\u001b[49m\u001b[38;5;241;43m=\u001b[39;49m\u001b[38;5;241;43m1\u001b[39;49m\u001b[43m)\u001b[49m  \u001b[38;5;66;03m# type: ignore[arg-type]\u001b[39;00m\n\u001b[0;32m    178\u001b[0m \u001b[38;5;28;01melif\u001b[39;00m is_1d_only_ea_dtype(blk\u001b[38;5;241m.\u001b[39mdtype):\n\u001b[0;32m    179\u001b[0m     \u001b[38;5;66;03m# TODO(EA2D): special-casing not needed with 2D EAs\u001b[39;00m\n\u001b[0;32m    180\u001b[0m     values \u001b[38;5;241m=\u001b[39m concat_compat(vals, axis\u001b[38;5;241m=\u001b[39m\u001b[38;5;241m0\u001b[39m, ea_compat_axis\u001b[38;5;241m=\u001b[39m\u001b[38;5;28;01mTrue\u001b[39;00m)\n",
      "\u001b[1;31mMemoryError\u001b[0m: Unable to allocate 12.1 GiB for an array with shape (62, 26162717) and data type int64"
     ]
    }
   ],
   "source": [
    "import pandas as pd\n",
    "import os\n",
    "\n",
    "# Пути к директориям и файлам\n",
    "\n",
    "csv_dir = \"26_mln.csv\"\n",
    "csv_path = \"26_mln.csv\"\n",
    "\n",
    "# Список для хранения загруженных DataFrame\n",
    "dfs = []\n",
    "\n",
    "# Итерация по всем CSV-файлам в директории\n",
    "for root, dirs, files in os.walk(csv_path):\n",
    "    for file in files:\n",
    "        if file.endswith(\".csv\"):\n",
    "            file_path = os.path.join(root, file)\n",
    "            print(f\"Загрузка файла: {file_path}\")\n",
    "            # Чтение CSV-файла в DataFrame и добавление его в список\n",
    "            df = pd.read_csv(file_path)\n",
    "            dfs.append(df)\n",
    "\n",
    "# Объединение всех DataFrame из списка в один\n",
    "merged_df = pd.concat(dfs, ignore_index=True)\n",
    "\n",
    "# Вывод информации о ходе скачивания\n",
    "print(\"Скачивание завершено. Общее количество строк в объединенном DataFrame:\", len(merged_df))\n"
   ]
  },
  {
   "cell_type": "code",
   "execution_count": null,
   "id": "a1e77ede-91c5-40cb-b73b-d476b0a617a0",
   "metadata": {},
   "outputs": [],
   "source": []
  }
 ],
 "metadata": {
  "kernelspec": {
   "display_name": "Python 3 (ipykernel)",
   "language": "python",
   "name": "python3"
  },
  "language_info": {
   "codemirror_mode": {
    "name": "ipython",
    "version": 3
   },
   "file_extension": ".py",
   "mimetype": "text/x-python",
   "name": "python",
   "nbconvert_exporter": "python",
   "pygments_lexer": "ipython3",
   "version": "3.11.7"
  }
 },
 "nbformat": 4,
 "nbformat_minor": 5
}
