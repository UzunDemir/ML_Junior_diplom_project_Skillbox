{
 "cells": [
  {
   "cell_type": "markdown",
   "id": "1b444889-c097-4841-92ae-033dad221f98",
   "metadata": {},
   "source": [
    "<table style=\"width:100%\">\n",
    "  <tr>\n",
    "    <td style=\"text-align:left;\"><img src=\"mangreen.png\" alt=\"manred1\" width=\"300\" height=\"200\"></td>\n",
    "    <td style=\"text-align:center;\">\n",
    "      <table style=\"width:100%\">\n",
    "        <tr>\n",
    "          <th style=\"color: green; font-size: 24px;\">Repayment</th>\n",
    "          <th style=\"color: yellow; font-size: 24px;\">All</th>\n",
    "          <th style=\"color: red; font-size: 24px;\">Defolt</th>\n",
    "        </tr>\n",
    "        <tr>\n",
    "          <td style=\"color: green; font-size: 18px;\">25,282,908</td>\n",
    "          <td style=\"color: yellow; font-size: 18px;\">26,162,717</td>\n",
    "          <td style=\"color: red; font-size: 18px;\">879,809</td>\n",
    "        </tr>\n",
    "        <tr>\n",
    "          <td style=\"color: green; font-size: 18px;\">Row 2, Col 1</td>\n",
    "          <td style=\"color: yellow; font-size: 18px;\">Row 2, Col 2</td>\n",
    "          <td style=\"color: red; font-size: 18px;\">Row 2, Col 3</td>\n",
    "        </tr>\n",
    "          <tr>\n",
    "          <td style=\"color: green; font-size: 18px;\">Row 2, Col 1</td>\n",
    "          <td style=\"color: yellow; font-size: 18px;\">Row 2, Col 2</td>\n",
    "          <td style=\"color: red; font-size: 18px;\">Row 2, Col 3</td>\n",
    "        </tr>\n",
    "      </table>\n",
    "    </td>\n",
    "    <td style=\"text-align:right;\"><img src=\"manred1.png\" alt=\"manred2\" width=\"300\" height=\"200\"></td>\n",
    "  </tr>\n",
    "</table>\n"
   ]
  },
  {
   "cell_type": "markdown",
   "id": "9888bda3-1eeb-4edd-b12c-7cb1cb6d6d3d",
   "metadata": {},
   "source": [
    "<table style=\"width:100%\">\n",
    "  <tr>\n",
    "    <td style=\"text-align:left;\"><img src=\"mangreen.png\" alt=\"manred1\" width=\"300\" height=\"200\"></td>\n",
    "    <td style=\"text-align:right;\"><img src=\"manred1.png\" alt=\"manred2\" width=\"300\" height=\"200\"></td>\n",
    "  </tr>\n",
    "</table>\n"
   ]
  },
  {
   "cell_type": "markdown",
   "id": "0b60a8b7-02f6-43e4-b242-8a609670c3f6",
   "metadata": {},
   "source": [
    "<img src=\"manred1.png\" alt=\"manred1\" width=\"300\" height=\"200\" style=\"display: block; margin-left: auto;\">\n"
   ]
  },
  {
   "cell_type": "markdown",
   "id": "45718b8b-975f-40e8-a72f-79fe80ee1c6a",
   "metadata": {},
   "source": [
    "<img src=\"mangreen.png\" alt=\"manred1\" width=\"300\" height=\"200\" style=\"display: block; margin-left: auto; margin-right: auto;\">\n"
   ]
  },
  {
   "cell_type": "markdown",
   "id": "d7a2bf58-9a24-4c85-b59c-a969441b0c05",
   "metadata": {},
   "source": [
    "<img src=\"mangreen.png\" alt=\"manred1\" width=\"300\" height=\"200\">\n",
    "\n"
   ]
  },
  {
   "cell_type": "code",
   "execution_count": 2,
   "id": "a97b6b4e-5c5d-4711-b81e-f32b4acdca0b",
   "metadata": {
    "tags": []
   },
   "outputs": [
    {
     "name": "stdout",
     "output_type": "stream",
     "text": [
      "Python version: 3.9.18 (main, Sep 11 2023, 14:09:26) [MSC v.1916 64 bit (AMD64)]\n",
      "pandas version: 2.2.1\n",
      "matplotlib version: 3.4.3\n",
      "NumPy version: 1.26.4\n",
      "SciPy version: 1.12.0\n",
      "IPython version: 8.15.0\n",
      "scikit-learn version: 1.3.0\n",
      "-------------------------\n"
     ]
    }
   ],
   "source": [
    "# Импорт необходимых библиотек\n",
    "\n",
    "#load packages\n",
    "#ignore warnings\n",
    "import warnings\n",
    "warnings.filterwarnings('ignore')\n",
    "\n",
    "import sys #access to system parameters https://docs.python.org/3/library/sys.html\n",
    "print(\"Python version: {}\". format(sys.version))\n",
    "\n",
    "import pandas as pd #collection of functions for data processing and analysis modeled after R dataframes with SQL like features\n",
    "print(\"pandas version: {}\". format(pd.__version__))\n",
    "\n",
    "import matplotlib #collection of functions for scientific and publication-ready visualization\n",
    "print(\"matplotlib version: {}\". format(matplotlib.__version__))\n",
    "\n",
    "import numpy as np #foundational package for scientific computing\n",
    "print(\"NumPy version: {}\". format(np.__version__))\n",
    "\n",
    "import scipy as sp #collection of functions for scientific computing and advance mathematics\n",
    "print(\"SciPy version: {}\". format(sp.__version__)) \n",
    "\n",
    "import IPython\n",
    "from IPython import display #pretty printing of dataframes in Jupyter notebook\n",
    "print(\"IPython version: {}\". format(IPython.__version__)) \n",
    "\n",
    "import sklearn #collection of machine learning algorithms\n",
    "print(\"scikit-learn version: {}\". format(sklearn.__version__))\n",
    "\n",
    "#misc libraries\n",
    "import random\n",
    "import time\n",
    "\n",
    "\n",
    "\n",
    "print('-'*25)\n",
    "\n"
   ]
  },
  {
   "cell_type": "code",
   "execution_count": 3,
   "id": "7b565a27-feb7-4788-b961-f0823d4575ac",
   "metadata": {
    "tags": []
   },
   "outputs": [],
   "source": [
    "# Загрузка библиотек моделирования данных\n",
    "\n",
    "#Common Model Algorithms\n",
    "from sklearn import svm, tree, linear_model, neighbors, naive_bayes, ensemble, discriminant_analysis, gaussian_process\n",
    "from xgboost import XGBClassifier\n",
    "\n",
    "#Common Model Helpers\n",
    "from sklearn.preprocessing import OneHotEncoder, LabelEncoder\n",
    "from sklearn import feature_selection\n",
    "from sklearn import model_selection\n",
    "from sklearn import metrics\n",
    "from sklearn.pipeline import Pipeline\n",
    "from sklearn.compose import ColumnTransformer\n",
    "\n",
    "#Visualization\n",
    "import matplotlib as mpl\n",
    "import matplotlib.pyplot as plt\n",
    "import matplotlib.pylab as pylab\n",
    "import seaborn as sns\n",
    "from pandas.plotting import scatter_matrix\n",
    "\n",
    "#Configure Visualization Defaults\n",
    "#%matplotlib inline = show plots in Jupyter Notebook browser\n",
    "%matplotlib inline\n",
    "mpl.style.use('ggplot')\n",
    "sns.set_style('white')\n",
    "pylab.rcParams['figure.figsize'] = 12,8"
   ]
  },
  {
   "cell_type": "code",
   "execution_count": 4,
   "id": "a2592b25-f93e-4b0c-813b-d45f64d08842",
   "metadata": {
    "tags": []
   },
   "outputs": [
    {
     "name": "stdout",
     "output_type": "stream",
     "text": [
      "Загрузка файла: shuffled_df.csv\\part-00000-be891505-0e0b-42eb-88dc-06c5e17b11d3-c000.csv\n",
      "Загрузка файла: shuffled_df.csv\\part-00001-be891505-0e0b-42eb-88dc-06c5e17b11d3-c000.csv\n",
      "Загрузка файла: shuffled_df.csv\\part-00002-be891505-0e0b-42eb-88dc-06c5e17b11d3-c000.csv\n",
      "Загрузка файла: shuffled_df.csv\\part-00003-be891505-0e0b-42eb-88dc-06c5e17b11d3-c000.csv\n",
      "Загрузка файла: shuffled_df.csv\\part-00004-be891505-0e0b-42eb-88dc-06c5e17b11d3-c000.csv\n",
      "Загрузка файла: shuffled_df.csv\\part-00005-be891505-0e0b-42eb-88dc-06c5e17b11d3-c000.csv\n",
      "Скачивание завершено. Общее количество строк в объединенном DataFrame: 3000000\n"
     ]
    }
   ],
   "source": [
    "import pandas as pd\n",
    "import os\n",
    "\n",
    "# Пути к директориям и файлам\n",
    "\n",
    "csv_dir = \"shuffled_df.csv\"\n",
    "csv_path = \"shuffled_df.csv\"\n",
    "\n",
    "# Список для хранения загруженных DataFrame\n",
    "dfs = []\n",
    "\n",
    "# Итерация по всем CSV-файлам в директории\n",
    "for root, dirs, files in os.walk(csv_path):\n",
    "    for file in files:\n",
    "        if file.endswith(\".csv\"):\n",
    "            file_path = os.path.join(root, file)\n",
    "            print(f\"Загрузка файла: {file_path}\")\n",
    "            # Чтение CSV-файла в DataFrame и добавление его в список\n",
    "            df = pd.read_csv(file_path)\n",
    "            dfs.append(df)\n",
    "\n",
    "# Объединение всех DataFrame из списка в один\n",
    "merged_df = pd.concat(dfs, ignore_index=True)\n",
    "\n",
    "# Вывод информации о ходе скачивания\n",
    "print(\"Скачивание завершено. Общее количество строк в объединенном DataFrame:\", len(merged_df))\n"
   ]
  },
  {
   "cell_type": "code",
   "execution_count": 5,
   "id": "8677473e-22b6-4ac0-a2da-922a7dad086d",
   "metadata": {},
   "outputs": [
    {
     "name": "stdout",
     "output_type": "stream",
     "text": [
      "Площадь под ROC-кривой (AUC-ROC): 0.7257960926742182\n"
     ]
    }
   ],
   "source": [
    "import pandas as pd\n",
    "from sklearn.model_selection import train_test_split\n",
    "from sklearn.linear_model import LogisticRegression\n",
    "from sklearn.metrics import roc_auc_score\n",
    "from sklearn.preprocessing import StandardScaler\n",
    "\n",
    "# Предполагаем, что merged_df уже содержит необходимые признаки и метки классов\n",
    "\n",
    "# Разделение данных на тренировочный и тестовый наборы (70% тренировочные, 30% тестовые)\n",
    "X_train, X_test, y_train, y_test = train_test_split(merged_df.drop(columns=['flag', 'id']), \n",
    "                                                    merged_df['flag'], \n",
    "                                                    test_size=0.3, \n",
    "                                                    random_state=42)\n",
    "\n",
    "# Масштабирование признаков\n",
    "scaler = StandardScaler()\n",
    "X_train_scaled = scaler.fit_transform(X_train)\n",
    "X_test_scaled = scaler.transform(X_test)\n",
    "\n",
    "# Обучение модели логистической регрессии\n",
    "lr = LogisticRegression()\n",
    "lr.fit(X_train_scaled, y_train)\n",
    "\n",
    "# Прогнозирование на тестовых данных\n",
    "predictions = lr.predict_proba(X_test_scaled)[:, 1]\n",
    "\n",
    "# Вычисление площади под ROC-кривой (AUC-ROC)\n",
    "auc_roc = roc_auc_score(y_test, predictions)\n",
    "\n",
    "# Выводим результаты\n",
    "print(\"Площадь под ROC-кривой (AUC-ROC):\", auc_roc)\n"
   ]
  },
  {
   "cell_type": "code",
   "execution_count": 6,
   "id": "11c4f840-e84a-4d7d-8b89-a886f1d8aa68",
   "metadata": {
    "tags": []
   },
   "outputs": [
    {
     "data": {
      "image/png": "[encoded data removed]",
      "text/plain": [
       "<Figure size 1200x800 with 1 Axes>"
      ]
     },
     "metadata": {},
     "output_type": "display_data"
    }
   ],
   "source": [
    "import matplotlib.pyplot as plt\n",
    "from sklearn.metrics import roc_curve, auc\n",
    "\n",
    "fpr, tpr, thresholds = roc_curve(y_test, predictions)\n",
    "roc_auc = auc(fpr, tpr)\n",
    "\n",
    "plt.figure()\n",
    "plt.plot(fpr, tpr, color='darkorange', lw=2, label='ROC curve (area = %0.2f)' % roc_auc)\n",
    "plt.plot([0, 1], [0, 1], color='navy', lw=2, linestyle='--')\n",
    "plt.xlim([0.0, 1.0])\n",
    "plt.ylim([0.0, 1.05])\n",
    "plt.xlabel('False Positive Rate')\n",
    "plt.ylabel('True Positive Rate')\n",
    "plt.title('Receiver Operating Characteristic')\n",
    "plt.legend(loc=\"lower right\")\n",
    "plt.show()\n"
   ]
  },
  {
   "cell_type": "code",
   "execution_count": 118,
   "id": "f21fb20e-d49b-46d1-8f47-c7f293fd0c6e",
   "metadata": {
    "tags": []
   },
   "outputs": [
    {
     "name": "stdout",
     "output_type": "stream",
     "text": [
      "Оптимальный порог: 0.04897037677936674\n"
     ]
    }
   ],
   "source": [
    "# Поиск порога, который максимизирует значение F1-меры\n",
    "best_threshold = thresholds[np.argmax(tpr - fpr)]\n",
    "print(\"Оптимальный порог:\", best_threshold)\n"
   ]
  },
  {
   "cell_type": "code",
   "execution_count": 153,
   "id": "aeea9899-fa5e-4675-ac9b-9779070c860e",
   "metadata": {
    "tags": []
   },
   "outputs": [
    {
     "name": "stdout",
     "output_type": "stream",
     "text": [
      "Порог, максимизирующий прецизионность: 0.03858104954197823\n"
     ]
    }
   ],
   "source": [
    "# Найти порог, который максимизирует прецизионность\n",
    "index_max_precision = np.argmax(precision)\n",
    "best_threshold = thresholds[index_max_precision - 60000] # сдвиг на один, т.к. thresholds на один элемент меньше\n",
    "\n",
    "print(\"Порог, максимизирующий прецизионность:\", best_threshold)"
   ]
  },
  {
   "cell_type": "code",
   "execution_count": 158,
   "id": "b9122669-2b7d-4a4a-8bc5-5943eeb35b00",
   "metadata": {
    "tags": []
   },
   "outputs": [],
   "source": [
    "best_threshold = 0.52"
   ]
  },
  {
   "cell_type": "code",
   "execution_count": null,
   "id": "9d843d15-3993-407c-bdda-1c8fb8f8bcb9",
   "metadata": {},
   "outputs": [],
   "source": []
  },
  {
   "cell_type": "code",
   "execution_count": 159,
   "id": "93adad09-6205-4fff-8f25-dc906faa8659",
   "metadata": {
    "tags": []
   },
   "outputs": [],
   "source": [
    "# Прогнозирование с новым порогом\n",
    "new_predictions = (predictions > best_threshold).astype(int)\n"
   ]
  },
  {
   "cell_type": "code",
   "execution_count": 160,
   "id": "5c7b729b-9f22-4ebe-ab42-c701647a91b3",
   "metadata": {
    "tags": []
   },
   "outputs": [
    {
     "name": "stdout",
     "output_type": "stream",
     "text": [
      "Матрица ошибок с новым порогом:\n",
      "[[867911      1]\n",
      " [ 32088      0]]\n",
      "Точность (Precision) с новым порогом: 0.0\n",
      "Полнота (Recall) с новым порогом: 0.0\n",
      "F1-мера (F1-Score) с новым порогом: 0.0\n"
     ]
    }
   ],
   "source": [
    "from sklearn.metrics import precision_score, recall_score, f1_score, confusion_matrix\n",
    "\n",
    "# Матрица ошибок с новым порогом\n",
    "conf_matrix_new = confusion_matrix(y_test, new_predictions)\n",
    "print(\"Матрица ошибок с новым порогом:\")\n",
    "print(conf_matrix_new)\n",
    "\n",
    "# Точность с новым порогом\n",
    "precision_new = precision_score(y_test, new_predictions)\n",
    "print(\"Точность (Precision) с новым порогом:\", precision_new)\n",
    "\n",
    "# Полнота с новым порогом\n",
    "recall_new = recall_score(y_test, new_predictions)\n",
    "print(\"Полнота (Recall) с новым порогом:\", recall_new)\n",
    "\n",
    "# F1-мера с новым порогом\n",
    "f1_new = f1_score(y_test, new_predictions)\n",
    "print(\"F1-мера (F1-Score) с новым порогом:\", f1_new)\n"
   ]
  },
  {
   "cell_type": "code",
   "execution_count": 157,
   "id": "b669348e-9e53-44f2-bb1c-71477f8c8250",
   "metadata": {
    "tags": []
   },
   "outputs": [
    {
     "name": "stdout",
     "output_type": "stream",
     "text": [
      "Лучший порог: 0.5206444633801594\n",
      "Лучшая F1-мера: nan\n"
     ]
    }
   ],
   "source": [
    "from sklearn.metrics import precision_recall_curve, f1_score\n",
    "\n",
    "# Предположим, у вас есть значения вероятности и истинные метки\n",
    "predicted_probabilities = predictions  # Оценки вероятности\n",
    "true_labels = y_test  # Истинные метки\n",
    "\n",
    "# Вычисляем точность, полноту и пороги\n",
    "precision, recall, thresholds = precision_recall_curve(true_labels, predicted_probabilities)\n",
    "\n",
    "# Вычисляем F1-меру для каждого порога\n",
    "f1_scores = 2 * (precision * recall) / (precision + recall)\n",
    "\n",
    "# Находим порог, который максимизирует F1-меру\n",
    "best_threshold_index = np.argmax(f1_scores)\n",
    "best_threshold = thresholds[best_threshold_index]\n",
    "best_f1_score = f1_scores[best_threshold_index]\n",
    "\n",
    "print(\"Лучший порог:\", best_threshold)\n",
    "print(\"Лучшая F1-мера:\", best_f1_score)\n"
   ]
  },
  {
   "cell_type": "code",
   "execution_count": 7,
   "id": "4c11020e-1f21-419d-a68c-d16289a2df41",
   "metadata": {
    "tags": []
   },
   "outputs": [
    {
     "ename": "NameError",
     "evalue": "name 'precision_score' is not defined",
     "output_type": "error",
     "traceback": [
      "\u001b[1;31m---------------------------------------------------------------------------\u001b[0m",
      "\u001b[1;31mNameError\u001b[0m                                 Traceback (most recent call last)",
      "Cell \u001b[1;32mIn[7], line 14\u001b[0m\n\u001b[0;32m     10\u001b[0m predictions_xgb \u001b[38;5;241m=\u001b[39m model_xgb\u001b[38;5;241m.\u001b[39mpredict(X_test)\n\u001b[0;32m     12\u001b[0m \u001b[38;5;66;03m# Вычисление метрик производительности модели\u001b[39;00m\n\u001b[0;32m     13\u001b[0m \u001b[38;5;66;03m# Например, точность, полнота и F1-мера\u001b[39;00m\n\u001b[1;32m---> 14\u001b[0m precision_xgb \u001b[38;5;241m=\u001b[39m \u001b[43mprecision_score\u001b[49m(y_test, predictions_xgb)\n\u001b[0;32m     15\u001b[0m recall_xgb \u001b[38;5;241m=\u001b[39m recall_score(y_test, predictions_xgb)\n\u001b[0;32m     16\u001b[0m f1_xgb \u001b[38;5;241m=\u001b[39m f1_score(y_test, predictions_xgb)\n",
      "\u001b[1;31mNameError\u001b[0m: name 'precision_score' is not defined"
     ]
    }
   ],
   "source": [
    "import xgboost as xgb\n",
    "\n",
    "# Создание объекта модели XGBoost\n",
    "model_xgb = xgb.XGBClassifier()\n",
    "\n",
    "# Обучение модели на тренировочных данных\n",
    "model_xgb.fit(X_train, y_train)\n",
    "\n",
    "# Прогнозирование на тестовых данных\n",
    "predictions_xgb = model_xgb.predict(X_test)\n",
    "\n",
    "# Вычисление метрик производительности модели\n",
    "# Например, точность, полнота и F1-мера\n",
    "precision_xgb = precision_score(y_test, predictions_xgb)\n",
    "recall_xgb = recall_score(y_test, predictions_xgb)\n",
    "f1_xgb = f1_score(y_test, predictions_xgb)\n",
    "\n",
    "print(\"Точность (Precision) с XGBoost:\", precision_xgb)\n",
    "print(\"Полнота (Recall) с XGBoost:\", recall_xgb)\n",
    "print(\"F1-мера (F1-Score) с XGBoost:\", f1_xgb)\n"
   ]
  },
  {
   "cell_type": "code",
   "execution_count": 8,
   "id": "671ba5d1-4c1e-49e5-9e07-0e0974f32db0",
   "metadata": {
    "tags": []
   },
   "outputs": [
    {
     "name": "stdout",
     "output_type": "stream",
     "text": [
      "Площадь под ROC-кривой (AUC-ROC) с XGBoost: 0.8794277035208637\n"
     ]
    }
   ],
   "source": [
    "from sklearn.metrics import roc_auc_score\n",
    "\n",
    "# Прогнозирование вероятностей положительного класса\n",
    "probs_xgb = model_xgb.predict_proba(X_test)[:, 1]\n",
    "\n",
    "# Вычисление ROC-AUC\n",
    "roc_auc_xgb = roc_auc_score(y_test, probs_xgb)\n",
    "print(\"Площадь под ROC-кривой (AUC-ROC) с XGBoost:\", roc_auc_xgb)\n"
   ]
  },
  {
   "cell_type": "code",
   "execution_count": 9,
   "id": "f6ed2e8a-9d67-4c1a-80df-ac5d7bb56ae2",
   "metadata": {
    "tags": []
   },
   "outputs": [
    {
     "name": "stdout",
     "output_type": "stream",
     "text": [
      "Точность (Precision) с XGBoost: 0.49002450122506125\n",
      "Полнота (Recall) с XGBoost: 0.04363001745200698\n",
      "F1-мера (F1-Score) с XGBoost: 0.08012591214766061\n",
      "Площадь под ROC-кривой (AUC-ROC) с XGBoost: 0.8794277035208637\n",
      "Матрица ошибок:\n",
      "[[866455   1457]\n",
      " [ 30688   1400]]\n"
     ]
    }
   ],
   "source": [
    "from sklearn.metrics import precision_score, recall_score, f1_score, confusion_matrix\n",
    "\n",
    "# Прогнозирование классов\n",
    "predictions_xgb = model_xgb.predict(X_test)\n",
    "\n",
    "# Вычисление точности\n",
    "precision_xgb = precision_score(y_test, predictions_xgb)\n",
    "\n",
    "# Вычисление полноты\n",
    "recall_xgb = recall_score(y_test, predictions_xgb)\n",
    "\n",
    "# Вычисление F1-меры\n",
    "f1_xgb = f1_score(y_test, predictions_xgb)\n",
    "\n",
    "# Вычисление матрицы ошибок\n",
    "conf_matrix_xgb = confusion_matrix(y_test, predictions_xgb)\n",
    "\n",
    "# Вывод результатов\n",
    "print(\"Точность (Precision) с XGBoost:\", precision_xgb)\n",
    "print(\"Полнота (Recall) с XGBoost:\", recall_xgb)\n",
    "print(\"F1-мера (F1-Score) с XGBoost:\", f1_xgb)\n",
    "print(\"Площадь под ROC-кривой (AUC-ROC) с XGBoost:\", roc_auc_xgb)\n",
    "print(\"Матрица ошибок:\")\n",
    "print(conf_matrix_xgb)\n"
   ]
  },
  {
   "cell_type": "code",
   "execution_count": 29,
   "id": "e3d39e8a-4491-49df-ad34-b5a670c70529",
   "metadata": {
    "tags": []
   },
   "outputs": [
    {
     "name": "stdout",
     "output_type": "stream",
     "text": [
      "Точность (Precision) с XGBoost: 0.49002450122506125\n",
      "Полнота (Recall) с XGBoost: 0.04363001745200698\n",
      "F1-мера (F1-Score) с XGBoost: 0.08012591214766061\n",
      "AUC-ROC с XGBoost: 0.8794277035208637\n",
      "Матрица ошибок:\n",
      "[[866455   1457]\n",
      " [ 30688   1400]]\n"
     ]
    }
   ],
   "source": [
    "# Вычисление метрик производительности модели\n",
    "precision_xgb = precision_score(y_test, predictions_xgb)\n",
    "recall_xgb = recall_score(y_test, predictions_xgb)\n",
    "f1_xgb = f1_score(y_test, predictions_xgb)\n",
    "auc_roc_xgb = roc_auc_score(y_test, model_xgb.predict_proba(X_test)[:, 1])\n",
    "\n",
    "# Вычисление матрицы ошибок\n",
    "conf_matrix = confusion_matrix(y_test, predictions_xgb)\n",
    "\n",
    "# Вывод результатов\n",
    "print(\"Точность (Precision) с XGBoost:\", precision_xgb)\n",
    "print(\"Полнота (Recall) с XGBoost:\", recall_xgb)\n",
    "print(\"F1-мера (F1-Score) с XGBoost:\", f1_xgb)\n",
    "print(\"AUC-ROC с XGBoost:\", auc_roc_xgb)\n",
    "print(\"Матрица ошибок:\")\n",
    "print(conf_matrix)"
   ]
  },
  {
   "cell_type": "code",
   "execution_count": 30,
   "id": "490b11d2-6a16-4f7d-b90a-8df6fa03266c",
   "metadata": {
    "tags": []
   },
   "outputs": [
    {
     "name": "stdout",
     "output_type": "stream",
     "text": [
      "Точность (Precision) с XGBoost: 0.13789846646030213\n",
      "Полнота (Recall) с XGBoost: 0.7871790077287459\n",
      "F1-мера (F1-Score) с XGBoost: 0.2346847286292327\n",
      "AUC-ROC с XGBoost: 0.8786646796596371\n",
      "Матрица ошибок:\n",
      "[[710000 157912]\n",
      " [  6829  25259]]\n"
     ]
    }
   ],
   "source": [
    "import xgboost as xgb\n",
    "\n",
    "# Создание объекта модели XGBoost с учетом дисбаланса классов\n",
    "# Определим вес положительного класса, который будет равен отношению числа отрицательных к положительным примерам\n",
    "weight_positive = len(y_train[y_train == 0]) / len(y_train[y_train == 1])\n",
    "model_xgb = xgb.XGBClassifier(scale_pos_weight=weight_positive)\n",
    "\n",
    "# Обучение модели на тренировочных данных\n",
    "model_xgb.fit(X_train, y_train)\n",
    "\n",
    "# Прогнозирование на тестовых данных\n",
    "predictions_xgb = model_xgb.predict(X_test)\n",
    "\n",
    "# Вычисление метрик производительности модели\n",
    "precision_xgb = precision_score(y_test, predictions_xgb)\n",
    "recall_xgb = recall_score(y_test, predictions_xgb)\n",
    "f1_xgb = f1_score(y_test, predictions_xgb)\n",
    "auc_roc_xgb = roc_auc_score(y_test, model_xgb.predict_proba(X_test)[:, 1])\n",
    "\n",
    "# Вычисление матрицы ошибок\n",
    "conf_matrix = confusion_matrix(y_test, predictions_xgb)\n",
    "\n",
    "# Вывод результатов\n",
    "print(\"Точность (Precision) с XGBoost:\", precision_xgb)\n",
    "print(\"Полнота (Recall) с XGBoost:\", recall_xgb)\n",
    "print(\"F1-мера (F1-Score) с XGBoost:\", f1_xgb)\n",
    "print(\"AUC-ROC с XGBoost:\", auc_roc_xgb)\n",
    "print(\"Матрица ошибок:\")\n",
    "print(conf_matrix)\n"
   ]
  },
  {
   "cell_type": "code",
   "execution_count": 86,
   "id": "0914da54-1341-4b69-9593-75d57be15853",
   "metadata": {
    "tags": []
   },
   "outputs": [
    {
     "data": {
      "text/plain": [
       "27.24326868762945"
      ]
     },
     "execution_count": 86,
     "metadata": {},
     "output_type": "execute_result"
    }
   ],
   "source": [
    "# Создание объекта модели XGBoost с учетом дисбаланса классов\n",
    "# Определим вес положительного класса, который будет равен отношению числа отрицательных к положительным примерам\n",
    "weight_positive = len(y_train[y_train == 0]) / len(y_train[y_train == 1])\n",
    "\n",
    "weight_positive"
   ]
  },
  {
   "cell_type": "code",
   "execution_count": 10,
   "id": "05f079d0-de57-403f-89a3-2c86babf47b5",
   "metadata": {
    "tags": []
   },
   "outputs": [],
   "source": [
    "weight_positive = 2"
   ]
  },
  {
   "cell_type": "code",
   "execution_count": 11,
   "id": "2b5eab82-9cc4-4763-9781-f91df0a26442",
   "metadata": {
    "tags": []
   },
   "outputs": [
    {
     "name": "stdout",
     "output_type": "stream",
     "text": [
      "Точность (Precision) с XGBoost: 0.4146918097382494\n",
      "Полнота (Recall) с XGBoost: 0.22958738469209675\n",
      "F1-мера (F1-Score) с XGBoost: 0.29554891380659143\n",
      "AUC-ROC с XGBoost: 0.8796533763480908\n",
      "Матрица ошибок:\n",
      "[[857514  10398]\n",
      " [ 24721   7367]]\n"
     ]
    }
   ],
   "source": [
    "import xgboost as xgb\n",
    "\n",
    "\n",
    "model_xgb = xgb.XGBClassifier(scale_pos_weight=weight_positive)\n",
    "\n",
    "# Обучение модели на тренировочных данных\n",
    "model_xgb.fit(X_train, y_train)\n",
    "\n",
    "# Прогнозирование на тестовых данных\n",
    "predictions_xgb = model_xgb.predict(X_test)\n",
    "\n",
    "# Вычисление метрик производительности модели\n",
    "precision_xgb = precision_score(y_test, predictions_xgb)\n",
    "recall_xgb = recall_score(y_test, predictions_xgb)\n",
    "f1_xgb = f1_score(y_test, predictions_xgb)\n",
    "auc_roc_xgb = roc_auc_score(y_test, model_xgb.predict_proba(X_test)[:, 1])\n",
    "\n",
    "# Вычисление матрицы ошибок\n",
    "conf_matrix = confusion_matrix(y_test, predictions_xgb)\n",
    "\n",
    "# Вывод результатов\n",
    "print(\"Точность (Precision) с XGBoost:\", precision_xgb)\n",
    "print(\"Полнота (Recall) с XGBoost:\", recall_xgb)\n",
    "print(\"F1-мера (F1-Score) с XGBoost:\", f1_xgb)\n",
    "print(\"AUC-ROC с XGBoost:\", auc_roc_xgb)\n",
    "print(\"Матрица ошибок:\")\n",
    "print(conf_matrix)\n"
   ]
  },
  {
   "cell_type": "code",
   "execution_count": 88,
   "id": "70ab7980-0e53-4002-bebd-c3b6d30a5019",
   "metadata": {
    "tags": []
   },
   "outputs": [
    {
     "name": "stdout",
     "output_type": "stream",
     "text": [
      "                          Feature  Importance\n",
      "0                              rn    0.251399\n",
      "55        enc_loans_credit_status    0.122604\n",
      "26                   is_zero_util    0.038637\n",
      "32                     enc_paym_3    0.031738\n",
      "19               is_zero_loans530    0.030352\n",
      "30                     enc_paym_1    0.025170\n",
      "37                     enc_paym_8    0.022338\n",
      "20              is_zero_loans3060    0.021550\n",
      "28          is_zero_maxover2limit    0.021523\n",
      "22                is_zero_loans90    0.020631\n",
      "18                 is_zero_loans5    0.020370\n",
      "31                     enc_paym_2    0.020369\n",
      "34                     enc_paym_5    0.018677\n",
      "38                     enc_paym_9    0.016420\n",
      "25              pre_maxover2limit    0.015451\n",
      "56          enc_loans_credit_type    0.014944\n",
      "29                     enc_paym_0    0.013645\n",
      "46                    enc_paym_17    0.013229\n",
      "23                       pre_util    0.012978\n",
      "44                    enc_paym_15    0.012598\n",
      "50                    enc_paym_21    0.011275\n",
      "9           pre_loans_outstanding    0.010811\n",
      "41                    enc_paym_12    0.010590\n",
      "12     pre_loans_credit_cost_rate    0.010258\n",
      "8         pre_loans_next_pay_summ    0.009953\n",
      "53                    enc_paym_24    0.009790\n",
      "27             is_zero_over2limit    0.009678\n",
      "35                     enc_paym_6    0.009282\n",
      "54  enc_loans_account_holder_type    0.008804\n",
      "59                    fclose_flag    0.008427\n",
      "58                    pclose_flag    0.008227\n",
      "1                pre_since_opened    0.007951\n",
      "5                 pre_till_pclose    0.007863\n",
      "6                 pre_till_fclose    0.007834\n",
      "7          pre_loans_credit_limit    0.007555\n",
      "51                    enc_paym_22    0.006732\n",
      "21              is_zero_loans6090    0.006482\n",
      "36                     enc_paym_7    0.006420\n",
      "45                    enc_paym_16    0.006204\n",
      "24                 pre_over2limit    0.006146\n",
      "3                       pre_pterm    0.005888\n",
      "40                    enc_paym_11    0.005886\n",
      "52                    enc_paym_23    0.005848\n",
      "11      pre_loans_max_overdue_sum    0.005681\n",
      "42                    enc_paym_13    0.005654\n",
      "4                       pre_fterm    0.005440\n",
      "48                    enc_paym_19    0.005124\n",
      "33                     enc_paym_4    0.005085\n",
      "43                    enc_paym_14    0.004979\n",
      "39                    enc_paym_10    0.004874\n",
      "2             pre_since_confirmed    0.004723\n",
      "49                    enc_paym_20    0.004720\n",
      "47                    enc_paym_18    0.004322\n",
      "14                   pre_loans530    0.003974\n",
      "13                     pre_loans5    0.003582\n",
      "57          enc_loans_account_cur    0.003169\n",
      "16                  pre_loans6090    0.002342\n",
      "17                    pre_loans90    0.002129\n",
      "15                  pre_loans3060    0.001673\n",
      "10        pre_loans_total_overdue    0.000000\n"
     ]
    }
   ],
   "source": [
    "# Получение важности признаков\n",
    "feature_importance = model_xgb.feature_importances_\n",
    "\n",
    "# Создание DataFrame с признаками и их важностью\n",
    "feature_importance_df = pd.DataFrame({'Feature': X_train.columns, 'Importance': feature_importance})\n",
    "\n",
    "# Сортировка признаков по важности\n",
    "feature_importance_df = feature_importance_df.sort_values(by='Importance', ascending=False)\n",
    "\n",
    "# Вывод признаков в порядке убывания их важности\n",
    "print(feature_importance_df)\n"
   ]
  },
  {
   "cell_type": "code",
   "execution_count": 47,
   "id": "6fce192f-8cf1-4652-8472-d15f6dc6d520",
   "metadata": {
    "tags": []
   },
   "outputs": [
    {
     "data": {
      "text/html": [
       "<div>\n",
       "<style scoped>\n",
       "    .dataframe tbody tr th:only-of-type {\n",
       "        vertical-align: middle;\n",
       "    }\n",
       "\n",
       "    .dataframe tbody tr th {\n",
       "        vertical-align: top;\n",
       "    }\n",
       "\n",
       "    .dataframe thead th {\n",
       "        text-align: right;\n",
       "    }\n",
       "</style>\n",
       "<table border=\"1\" class=\"dataframe\">\n",
       "  <thead>\n",
       "    <tr style=\"text-align: right;\">\n",
       "      <th></th>\n",
       "      <th>Feature</th>\n",
       "      <th>Importance</th>\n",
       "    </tr>\n",
       "  </thead>\n",
       "  <tbody>\n",
       "    <tr>\n",
       "      <th>0</th>\n",
       "      <td>rn</td>\n",
       "      <td>0.254553</td>\n",
       "    </tr>\n",
       "    <tr>\n",
       "      <th>55</th>\n",
       "      <td>enc_loans_credit_status</td>\n",
       "      <td>0.168260</td>\n",
       "    </tr>\n",
       "    <tr>\n",
       "      <th>20</th>\n",
       "      <td>is_zero_loans3060</td>\n",
       "      <td>0.029426</td>\n",
       "    </tr>\n",
       "    <tr>\n",
       "      <th>19</th>\n",
       "      <td>is_zero_loans530</td>\n",
       "      <td>0.028780</td>\n",
       "    </tr>\n",
       "    <tr>\n",
       "      <th>22</th>\n",
       "      <td>is_zero_loans90</td>\n",
       "      <td>0.025096</td>\n",
       "    </tr>\n",
       "    <tr>\n",
       "      <th>26</th>\n",
       "      <td>is_zero_util</td>\n",
       "      <td>0.024672</td>\n",
       "    </tr>\n",
       "    <tr>\n",
       "      <th>30</th>\n",
       "      <td>enc_paym_1</td>\n",
       "      <td>0.023214</td>\n",
       "    </tr>\n",
       "    <tr>\n",
       "      <th>32</th>\n",
       "      <td>enc_paym_3</td>\n",
       "      <td>0.020913</td>\n",
       "    </tr>\n",
       "    <tr>\n",
       "      <th>18</th>\n",
       "      <td>is_zero_loans5</td>\n",
       "      <td>0.020538</td>\n",
       "    </tr>\n",
       "    <tr>\n",
       "      <th>31</th>\n",
       "      <td>enc_paym_2</td>\n",
       "      <td>0.018123</td>\n",
       "    </tr>\n",
       "    <tr>\n",
       "      <th>28</th>\n",
       "      <td>is_zero_maxover2limit</td>\n",
       "      <td>0.017470</td>\n",
       "    </tr>\n",
       "    <tr>\n",
       "      <th>40</th>\n",
       "      <td>enc_paym_11</td>\n",
       "      <td>0.017294</td>\n",
       "    </tr>\n",
       "    <tr>\n",
       "      <th>25</th>\n",
       "      <td>pre_maxover2limit</td>\n",
       "      <td>0.016745</td>\n",
       "    </tr>\n",
       "    <tr>\n",
       "      <th>56</th>\n",
       "      <td>enc_loans_credit_type</td>\n",
       "      <td>0.013745</td>\n",
       "    </tr>\n",
       "    <tr>\n",
       "      <th>23</th>\n",
       "      <td>pre_util</td>\n",
       "      <td>0.013074</td>\n",
       "    </tr>\n",
       "    <tr>\n",
       "      <th>46</th>\n",
       "      <td>enc_paym_17</td>\n",
       "      <td>0.012084</td>\n",
       "    </tr>\n",
       "    <tr>\n",
       "      <th>29</th>\n",
       "      <td>enc_paym_0</td>\n",
       "      <td>0.011806</td>\n",
       "    </tr>\n",
       "    <tr>\n",
       "      <th>38</th>\n",
       "      <td>enc_paym_9</td>\n",
       "      <td>0.011377</td>\n",
       "    </tr>\n",
       "    <tr>\n",
       "      <th>53</th>\n",
       "      <td>enc_paym_24</td>\n",
       "      <td>0.010853</td>\n",
       "    </tr>\n",
       "    <tr>\n",
       "      <th>44</th>\n",
       "      <td>enc_paym_15</td>\n",
       "      <td>0.010826</td>\n",
       "    </tr>\n",
       "    <tr>\n",
       "      <th>36</th>\n",
       "      <td>enc_paym_7</td>\n",
       "      <td>0.010471</td>\n",
       "    </tr>\n",
       "    <tr>\n",
       "      <th>9</th>\n",
       "      <td>pre_loans_outstanding</td>\n",
       "      <td>0.010161</td>\n",
       "    </tr>\n",
       "    <tr>\n",
       "      <th>6</th>\n",
       "      <td>pre_till_fclose</td>\n",
       "      <td>0.009998</td>\n",
       "    </tr>\n",
       "    <tr>\n",
       "      <th>34</th>\n",
       "      <td>enc_paym_5</td>\n",
       "      <td>0.009836</td>\n",
       "    </tr>\n",
       "    <tr>\n",
       "      <th>12</th>\n",
       "      <td>pre_loans_credit_cost_rate</td>\n",
       "      <td>0.009566</td>\n",
       "    </tr>\n",
       "    <tr>\n",
       "      <th>5</th>\n",
       "      <td>pre_till_pclose</td>\n",
       "      <td>0.009555</td>\n",
       "    </tr>\n",
       "    <tr>\n",
       "      <th>37</th>\n",
       "      <td>enc_paym_8</td>\n",
       "      <td>0.009473</td>\n",
       "    </tr>\n",
       "    <tr>\n",
       "      <th>21</th>\n",
       "      <td>is_zero_loans6090</td>\n",
       "      <td>0.009207</td>\n",
       "    </tr>\n",
       "    <tr>\n",
       "      <th>8</th>\n",
       "      <td>pre_loans_next_pay_summ</td>\n",
       "      <td>0.009121</td>\n",
       "    </tr>\n",
       "    <tr>\n",
       "      <th>33</th>\n",
       "      <td>enc_paym_4</td>\n",
       "      <td>0.008996</td>\n",
       "    </tr>\n",
       "    <tr>\n",
       "      <th>1</th>\n",
       "      <td>pre_since_opened</td>\n",
       "      <td>0.008716</td>\n",
       "    </tr>\n",
       "    <tr>\n",
       "      <th>58</th>\n",
       "      <td>pclose_flag</td>\n",
       "      <td>0.008303</td>\n",
       "    </tr>\n",
       "    <tr>\n",
       "      <th>7</th>\n",
       "      <td>pre_loans_credit_limit</td>\n",
       "      <td>0.008255</td>\n",
       "    </tr>\n",
       "    <tr>\n",
       "      <th>59</th>\n",
       "      <td>fclose_flag</td>\n",
       "      <td>0.008082</td>\n",
       "    </tr>\n",
       "    <tr>\n",
       "      <th>35</th>\n",
       "      <td>enc_paym_6</td>\n",
       "      <td>0.007780</td>\n",
       "    </tr>\n",
       "    <tr>\n",
       "      <th>54</th>\n",
       "      <td>enc_loans_account_holder_type</td>\n",
       "      <td>0.007176</td>\n",
       "    </tr>\n",
       "    <tr>\n",
       "      <th>52</th>\n",
       "      <td>enc_paym_23</td>\n",
       "      <td>0.007161</td>\n",
       "    </tr>\n",
       "    <tr>\n",
       "      <th>49</th>\n",
       "      <td>enc_paym_20</td>\n",
       "      <td>0.007112</td>\n",
       "    </tr>\n",
       "    <tr>\n",
       "      <th>50</th>\n",
       "      <td>enc_paym_21</td>\n",
       "      <td>0.006772</td>\n",
       "    </tr>\n",
       "    <tr>\n",
       "      <th>41</th>\n",
       "      <td>enc_paym_12</td>\n",
       "      <td>0.006372</td>\n",
       "    </tr>\n",
       "    <tr>\n",
       "      <th>11</th>\n",
       "      <td>pre_loans_max_overdue_sum</td>\n",
       "      <td>0.006084</td>\n",
       "    </tr>\n",
       "    <tr>\n",
       "      <th>39</th>\n",
       "      <td>enc_paym_10</td>\n",
       "      <td>0.005966</td>\n",
       "    </tr>\n",
       "    <tr>\n",
       "      <th>47</th>\n",
       "      <td>enc_paym_18</td>\n",
       "      <td>0.005846</td>\n",
       "    </tr>\n",
       "    <tr>\n",
       "      <th>51</th>\n",
       "      <td>enc_paym_22</td>\n",
       "      <td>0.005285</td>\n",
       "    </tr>\n",
       "    <tr>\n",
       "      <th>3</th>\n",
       "      <td>pre_pterm</td>\n",
       "      <td>0.005277</td>\n",
       "    </tr>\n",
       "    <tr>\n",
       "      <th>48</th>\n",
       "      <td>enc_paym_19</td>\n",
       "      <td>0.005164</td>\n",
       "    </tr>\n",
       "    <tr>\n",
       "      <th>2</th>\n",
       "      <td>pre_since_confirmed</td>\n",
       "      <td>0.005137</td>\n",
       "    </tr>\n",
       "    <tr>\n",
       "      <th>4</th>\n",
       "      <td>pre_fterm</td>\n",
       "      <td>0.005006</td>\n",
       "    </tr>\n",
       "    <tr>\n",
       "      <th>27</th>\n",
       "      <td>is_zero_over2limit</td>\n",
       "      <td>0.004872</td>\n",
       "    </tr>\n",
       "    <tr>\n",
       "      <th>43</th>\n",
       "      <td>enc_paym_14</td>\n",
       "      <td>0.004735</td>\n",
       "    </tr>\n",
       "    <tr>\n",
       "      <th>24</th>\n",
       "      <td>pre_over2limit</td>\n",
       "      <td>0.003732</td>\n",
       "    </tr>\n",
       "    <tr>\n",
       "      <th>45</th>\n",
       "      <td>enc_paym_16</td>\n",
       "      <td>0.003689</td>\n",
       "    </tr>\n",
       "    <tr>\n",
       "      <th>42</th>\n",
       "      <td>enc_paym_13</td>\n",
       "      <td>0.003651</td>\n",
       "    </tr>\n",
       "    <tr>\n",
       "      <th>14</th>\n",
       "      <td>pre_loans530</td>\n",
       "      <td>0.003339</td>\n",
       "    </tr>\n",
       "    <tr>\n",
       "      <th>13</th>\n",
       "      <td>pre_loans5</td>\n",
       "      <td>0.002951</td>\n",
       "    </tr>\n",
       "    <tr>\n",
       "      <th>17</th>\n",
       "      <td>pre_loans90</td>\n",
       "      <td>0.002569</td>\n",
       "    </tr>\n",
       "    <tr>\n",
       "      <th>57</th>\n",
       "      <td>enc_loans_account_cur</td>\n",
       "      <td>0.002205</td>\n",
       "    </tr>\n",
       "    <tr>\n",
       "      <th>15</th>\n",
       "      <td>pre_loans3060</td>\n",
       "      <td>0.001784</td>\n",
       "    </tr>\n",
       "    <tr>\n",
       "      <th>16</th>\n",
       "      <td>pre_loans6090</td>\n",
       "      <td>0.001738</td>\n",
       "    </tr>\n",
       "    <tr>\n",
       "      <th>10</th>\n",
       "      <td>pre_loans_total_overdue</td>\n",
       "      <td>0.000000</td>\n",
       "    </tr>\n",
       "  </tbody>\n",
       "</table>\n",
       "</div>"
      ],
      "text/plain": [
       "                          Feature  Importance\n",
       "0                              rn    0.254553\n",
       "55        enc_loans_credit_status    0.168260\n",
       "20              is_zero_loans3060    0.029426\n",
       "19               is_zero_loans530    0.028780\n",
       "22                is_zero_loans90    0.025096\n",
       "26                   is_zero_util    0.024672\n",
       "30                     enc_paym_1    0.023214\n",
       "32                     enc_paym_3    0.020913\n",
       "18                 is_zero_loans5    0.020538\n",
       "31                     enc_paym_2    0.018123\n",
       "28          is_zero_maxover2limit    0.017470\n",
       "40                    enc_paym_11    0.017294\n",
       "25              pre_maxover2limit    0.016745\n",
       "56          enc_loans_credit_type    0.013745\n",
       "23                       pre_util    0.013074\n",
       "46                    enc_paym_17    0.012084\n",
       "29                     enc_paym_0    0.011806\n",
       "38                     enc_paym_9    0.011377\n",
       "53                    enc_paym_24    0.010853\n",
       "44                    enc_paym_15    0.010826\n",
       "36                     enc_paym_7    0.010471\n",
       "9           pre_loans_outstanding    0.010161\n",
       "6                 pre_till_fclose    0.009998\n",
       "34                     enc_paym_5    0.009836\n",
       "12     pre_loans_credit_cost_rate    0.009566\n",
       "5                 pre_till_pclose    0.009555\n",
       "37                     enc_paym_8    0.009473\n",
       "21              is_zero_loans6090    0.009207\n",
       "8         pre_loans_next_pay_summ    0.009121\n",
       "33                     enc_paym_4    0.008996\n",
       "1                pre_since_opened    0.008716\n",
       "58                    pclose_flag    0.008303\n",
       "7          pre_loans_credit_limit    0.008255\n",
       "59                    fclose_flag    0.008082\n",
       "35                     enc_paym_6    0.007780\n",
       "54  enc_loans_account_holder_type    0.007176\n",
       "52                    enc_paym_23    0.007161\n",
       "49                    enc_paym_20    0.007112\n",
       "50                    enc_paym_21    0.006772\n",
       "41                    enc_paym_12    0.006372\n",
       "11      pre_loans_max_overdue_sum    0.006084\n",
       "39                    enc_paym_10    0.005966\n",
       "47                    enc_paym_18    0.005846\n",
       "51                    enc_paym_22    0.005285\n",
       "3                       pre_pterm    0.005277\n",
       "48                    enc_paym_19    0.005164\n",
       "2             pre_since_confirmed    0.005137\n",
       "4                       pre_fterm    0.005006\n",
       "27             is_zero_over2limit    0.004872\n",
       "43                    enc_paym_14    0.004735\n",
       "24                 pre_over2limit    0.003732\n",
       "45                    enc_paym_16    0.003689\n",
       "42                    enc_paym_13    0.003651\n",
       "14                   pre_loans530    0.003339\n",
       "13                     pre_loans5    0.002951\n",
       "17                    pre_loans90    0.002569\n",
       "57          enc_loans_account_cur    0.002205\n",
       "15                  pre_loans3060    0.001784\n",
       "16                  pre_loans6090    0.001738\n",
       "10        pre_loans_total_overdue    0.000000"
      ]
     },
     "execution_count": 47,
     "metadata": {},
     "output_type": "execute_result"
    }
   ],
   "source": [
    "feature_importance_df\n"
   ]
  },
  {
   "cell_type": "code",
   "execution_count": 48,
   "id": "5dbcc9ff-cc05-4542-85c8-6977e0659d23",
   "metadata": {
    "tags": []
   },
   "outputs": [
    {
     "name": "stdout",
     "output_type": "stream",
     "text": [
      "Точность (Precision) с XGBoost (после удаления неважных признаков): 0.12371124174454531\n",
      "Полнота (Recall) с XGBoost (после удаления неважных признаков): 0.8073423086512092\n",
      "F1-мера (F1-Score) с XGBoost (после удаления неважных признаков): 0.21454688502867553\n",
      "ROC AUC с XGBoost (после удаления неважных признаков): 0.8731375697130146\n",
      "Матрица ошибок:\n",
      " [[684411 183501]\n",
      " [  6182  25906]]\n"
     ]
    }
   ],
   "source": [
    "import xgboost as xgb\n",
    "import pandas as pd\n",
    "from sklearn.model_selection import train_test_split\n",
    "from sklearn.metrics import precision_score, recall_score, f1_score, confusion_matrix, roc_auc_score, roc_curve\n",
    "\n",
    "# Предположим, что у вас уже есть DataFrame feature_importance_df\n",
    "\n",
    "# Выбор признаков с важностью выше 0.01\n",
    "selected_features = feature_importance_df[feature_importance_df['Importance'] >= 0.01]['Feature']\n",
    "\n",
    "# Отбор только выбранных признаков в тренировочном и тестовом наборах данных\n",
    "X_train_selected = X_train[selected_features]\n",
    "X_test_selected = X_test[selected_features]\n",
    "\n",
    "# Обучение модели на выбранных признаках\n",
    "model_xgb_selected = xgb.XGBClassifier()\n",
    "model_xgb_selected.fit(X_train_selected, y_train)\n",
    "\n",
    "# Предсказание вероятностей на тестовых данных\n",
    "probabilities_xgb_selected = model_xgb_selected.predict_proba(X_test_selected)[:, 1]\n",
    "\n",
    "# Подсчет оптимального порога для ROC AUC\n",
    "fpr, tpr, thresholds = roc_curve(y_test, probabilities_xgb_selected)\n",
    "optimal_threshold_roc_auc = thresholds[np.argmax(tpr - fpr)]\n",
    "\n",
    "# Применение оптимального порога для ROC AUC\n",
    "predicted_labels_xgb_selected = (probabilities_xgb_selected > optimal_threshold_roc_auc).astype(int)\n",
    "\n",
    "# Вычисление метрик производительности\n",
    "precision_xgb_selected = precision_score(y_test, predicted_labels_xgb_selected)\n",
    "recall_xgb_selected = recall_score(y_test, predicted_labels_xgb_selected)\n",
    "f1_xgb_selected = f1_score(y_test, predicted_labels_xgb_selected)\n",
    "roc_auc = roc_auc_score(y_test, probabilities_xgb_selected)\n",
    "conf_matrix = confusion_matrix(y_test, predicted_labels_xgb_selected)\n",
    "\n",
    "# Вывод результатов\n",
    "print(\"Точность (Precision) с XGBoost (после удаления неважных признаков):\", precision_xgb_selected)\n",
    "print(\"Полнота (Recall) с XGBoost (после удаления неважных признаков):\", recall_xgb_selected)\n",
    "print(\"F1-мера (F1-Score) с XGBoost (после удаления неважных признаков):\", f1_xgb_selected)\n",
    "print(\"ROC AUC с XGBoost (после удаления неважных признаков):\", roc_auc)\n",
    "print(\"Матрица ошибок:\\n\", conf_matrix)\n"
   ]
  },
  {
   "cell_type": "code",
   "execution_count": null,
   "id": "1c84eb72-79a6-46d2-a643-3f26fe46785f",
   "metadata": {},
   "outputs": [],
   "source": [
    "import pandas as pd\n",
    "from sklearn.model_selection import train_test_split\n",
    "from sklearn.linear_model import LogisticRegression\n",
    "from sklearn.metrics import roc_auc_score\n",
    "from sklearn.preprocessing import StandardScaler\n",
    "\n",
    "# Предполагаем, что merged_df уже содержит необходимые признаки и метки классов\n",
    "\n",
    "# Разделение данных на тренировочный и тестовый наборы (70% тренировочные, 30% тестовые)\n",
    "X_train, X_test, y_train, y_test = train_test_split(merged_df.drop(columns=['flag', 'id']), \n",
    "                                                    merged_df['flag'], \n",
    "                                                    test_size=0.3, \n",
    "                                                    random_state=42)\n",
    "\n",
    "# Масштабирование признаков\n",
    "scaler = StandardScaler()\n",
    "X_train_scaled = scaler.fit_transform(X_train)\n",
    "X_test_scaled = scaler.transform(X_test)\n",
    "\n",
    "# Обучение модели логистической регрессии\n",
    "lr = LogisticRegression()\n",
    "lr.fit(X_train_scaled, y_train)\n",
    "\n",
    "# Прогнозирование на тестовых данных\n",
    "predictions = lr.predict_proba(X_test_scaled)[:, 1]\n",
    "\n",
    "# Вычисление площади под ROC-кривой (AUC-ROC)\n",
    "auc_roc = roc_auc_score(y_test, predictions)\n",
    "\n",
    "# Выводим результаты\n",
    "print(\"Площадь под ROC-кривой (AUC-ROC):\", auc_roc)\n"
   ]
  },
  {
   "cell_type": "code",
   "execution_count": 49,
   "id": "6f776ef1-af4d-4769-b543-53c4b88cd32e",
   "metadata": {
    "tags": []
   },
   "outputs": [
    {
     "name": "stdout",
     "output_type": "stream",
     "text": [
      "Метрики модели:\n",
      "Accuracy: 0.9643455555555556\n",
      "Precision: 0.0\n",
      "Recall: 0.0\n",
      "F1 Score: 0.0\n",
      "Confusion Matrix:\n",
      "[[867911      1]\n",
      " [ 32088      0]]\n"
     ]
    }
   ],
   "source": [
    "from sklearn.metrics import accuracy_score, precision_score, recall_score, f1_score, confusion_matrix\n",
    "\n",
    "# Прогнозирование на тестовых данных\n",
    "predictions = lr.predict(X_test_scaled)\n",
    "\n",
    "# Вычисление других метрик\n",
    "accuracy = accuracy_score(y_test, predictions)\n",
    "precision = precision_score(y_test, predictions)\n",
    "recall = recall_score(y_test, predictions)\n",
    "f1 = f1_score(y_test, predictions)\n",
    "conf_matrix = confusion_matrix(y_test, predictions)\n",
    "\n",
    "# Вывод результатов\n",
    "print(\"Метрики модели:\")\n",
    "print(\"Accuracy:\", accuracy)\n",
    "print(\"Precision:\", precision)\n",
    "print(\"Recall:\", recall)\n",
    "print(\"F1 Score:\", f1)\n",
    "print(\"Confusion Matrix:\")\n",
    "print(conf_matrix)\n"
   ]
  },
  {
   "cell_type": "code",
   "execution_count": 50,
   "id": "50e59f64-16d8-4ca6-8c10-b0c6447e8003",
   "metadata": {
    "tags": []
   },
   "outputs": [
    {
     "name": "stdout",
     "output_type": "stream",
     "text": [
      "Модель с взвешиванием классов:\n",
      "Площадь под ROC-кривой (AUC-ROC): 0.7080734872735219\n",
      "Accuracy (Точность): 0.6523611111111111\n",
      "Precision (Точность): 0.06703817580174118\n",
      "Recall (Полнота): 0.6774495138369484\n",
      "F1 Score: 0.12200330572946337\n",
      "Матрица ошибок:\n",
      "[[565387 302525]\n",
      " [ 10350  21738]]\n"
     ]
    }
   ],
   "source": [
    "from sklearn.linear_model import LogisticRegression\n",
    "\n",
    "# Создаем модель логистической регрессии с взвешиванием классов\n",
    "lr_balanced = LogisticRegression(class_weight='balanced')\n",
    "\n",
    "# Обучение модели логистической регрессии с взвешиванием классов\n",
    "lr_balanced.fit(X_train_scaled, y_train)\n",
    "\n",
    "# Прогнозирование на тестовых данных\n",
    "predictions_balanced = lr_balanced.predict_proba(X_test_scaled)[:, 1]\n",
    "\n",
    "# Вычисление площади под ROC-кривой (AUC-ROC) для модели с взвешиванием классов\n",
    "auc_roc_balanced = roc_auc_score(y_test, predictions_balanced)\n",
    "\n",
    "# Вывод результатов для модели с взвешиванием классов\n",
    "print(\"Модель с взвешиванием классов:\")\n",
    "print(\"Площадь под ROC-кривой (AUC-ROC):\", auc_roc_balanced)\n",
    "\n",
    "# Вычисление других метрик для модели с взвешиванием классов\n",
    "accuracy_balanced = accuracy_score(y_test, lr_balanced.predict(X_test_scaled))\n",
    "precision_balanced = precision_score(y_test, lr_balanced.predict(X_test_scaled))\n",
    "recall_balanced = recall_score(y_test, lr_balanced.predict(X_test_scaled))\n",
    "f1_balanced = f1_score(y_test, lr_balanced.predict(X_test_scaled))\n",
    "conf_matrix_balanced = confusion_matrix(y_test, lr_balanced.predict(X_test_scaled))\n",
    "\n",
    "# Вывод других метрик для модели с взвешиванием классов\n",
    "print(\"Accuracy (Точность):\", accuracy_balanced)\n",
    "print(\"Precision (Точность):\", precision_balanced)\n",
    "print(\"Recall (Полнота):\", recall_balanced)\n",
    "print(\"F1 Score:\", f1_balanced)\n",
    "print(\"Матрица ошибок:\")\n",
    "print(conf_matrix_balanced)\n"
   ]
  },
  {
   "cell_type": "code",
   "execution_count": 51,
   "id": "fb0a99b9-ab87-416c-a8da-0d6136fc21f9",
   "metadata": {
    "tags": []
   },
   "outputs": [
    {
     "name": "stdout",
     "output_type": "stream",
     "text": [
      "Fitting 5 folds for each of 12 candidates, totalling 60 fits\n",
      "Наилучшие параметры: {'C': 0.001, 'penalty': 'l2'}\n",
      "Наилучшая оценка F1-меры: 0.12224088386890164\n",
      "Метрики для лучшей модели:\n",
      "Accuracy (Точность): 0.6523977777777777\n",
      "Precision (Точность): 0.0670289743320852\n",
      "Recall (Полнота): 0.6772625280478684\n",
      "F1 Score: 0.12198503533479649\n",
      "Матрица ошибок:\n",
      "[[565426 302486]\n",
      " [ 10356  21732]]\n"
     ]
    }
   ],
   "source": [
    "from sklearn.model_selection import GridSearchCV\n",
    "\n",
    "# Определяем сетку параметров, которые мы хотим проверить\n",
    "param_grid = {'C': [0.001, 0.01, 0.1, 1, 10, 100],  # параметр регуляризации\n",
    "              'penalty': ['l1', 'l2']}  # тип регуляризации\n",
    "\n",
    "# Создаем экземпляр модели логистической регрессии\n",
    "lr = LogisticRegression(class_weight='balanced')\n",
    "\n",
    "# Создаем экземпляр GridSearchCV\n",
    "grid_search = GridSearchCV(lr, param_grid, cv=5, scoring='f1', verbose=1)\n",
    "\n",
    "# Выполняем поиск по сетке параметров\n",
    "grid_search.fit(X_train_scaled, y_train)\n",
    "\n",
    "# Выводим наилучшие параметры\n",
    "print(\"Наилучшие параметры:\", grid_search.best_params_)\n",
    "\n",
    "# Выводим наилучшую оценку F1-меры\n",
    "print(\"Наилучшая оценка F1-меры:\", grid_search.best_score_)\n",
    "\n",
    "# Получаем лучшую модель\n",
    "best_lr = grid_search.best_estimator_\n",
    "\n",
    "# Прогнозирование на тестовых данных с лучшей моделью\n",
    "predictions_best = best_lr.predict(X_test_scaled)\n",
    "\n",
    "# Выводим результаты для лучшей модели\n",
    "print(\"Метрики для лучшей модели:\")\n",
    "print(\"Accuracy (Точность):\", accuracy_score(y_test, predictions_best))\n",
    "print(\"Precision (Точность):\", precision_score(y_test, predictions_best))\n",
    "print(\"Recall (Полнота):\", recall_score(y_test, predictions_best))\n",
    "print(\"F1 Score:\", f1_score(y_test, predictions_best))\n",
    "print(\"Матрица ошибок:\")\n",
    "print(confusion_matrix(y_test, predictions_best))\n"
   ]
  },
  {
   "cell_type": "code",
   "execution_count": 52,
   "id": "ba06dce6-c947-470c-917b-45cb220aba7b",
   "metadata": {
    "tags": []
   },
   "outputs": [
    {
     "name": "stdout",
     "output_type": "stream",
     "text": [
      "Метрики модели AdaBoost:\n",
      "Accuracy: 0.9642444444444445\n",
      "Precision: 0.46434108527131784\n",
      "Recall: 0.018667414609822987\n",
      "F1 Score: 0.03589190484750435\n",
      "Confusion Matrix:\n",
      "[[867221    691]\n",
      " [ 31489    599]]\n"
     ]
    }
   ],
   "source": [
    "from sklearn.ensemble import AdaBoostClassifier\n",
    "from sklearn.tree import DecisionTreeClassifier\n",
    "from sklearn.metrics import accuracy_score, precision_score, recall_score, f1_score, confusion_matrix\n",
    "from sklearn.model_selection import train_test_split\n",
    "from sklearn.preprocessing import StandardScaler\n",
    "\n",
    "\n",
    "\n",
    "# Создание базовой модели (в данном случае используется дерево решений)\n",
    "base_model = DecisionTreeClassifier(max_depth=1)\n",
    "\n",
    "# Создание классификатора AdaBoost\n",
    "# n_estimators - количество базовых моделей (деревьев решений) в ансамбле\n",
    "# learning_rate - скорость обучения, контролирующая веса обновлений модели на каждой итерации\n",
    "# base_estimator - базовая модель, используемая для улучшения модели на каждой итерации\n",
    "adaboost_clf = AdaBoostClassifier(base_estimator=base_model, n_estimators=50, learning_rate=1.0, random_state=42)\n",
    "\n",
    "# Обучение классификатора AdaBoost\n",
    "adaboost_clf.fit(X_train_scaled, y_train)\n",
    "\n",
    "# Прогнозирование на тестовых данных\n",
    "predictions = adaboost_clf.predict(X_test_scaled)\n",
    "\n",
    "# Вычисление и вывод метрик производительности\n",
    "accuracy = accuracy_score(y_test, predictions)\n",
    "precision = precision_score(y_test, predictions)\n",
    "recall = recall_score(y_test, predictions)\n",
    "f1 = f1_score(y_test, predictions)\n",
    "conf_matrix = confusion_matrix(y_test, predictions)\n",
    "\n",
    "print(\"Метрики модели AdaBoost:\")\n",
    "print(\"Accuracy:\", accuracy)\n",
    "print(\"Precision:\", precision)\n",
    "print(\"Recall:\", recall)\n",
    "print(\"F1 Score:\", f1)\n",
    "print(\"Confusion Matrix:\")\n",
    "print(conf_matrix)\n"
   ]
  },
  {
   "cell_type": "code",
   "execution_count": 90,
   "id": "765c93e4-26e4-4cfc-968a-08c9c1cbda12",
   "metadata": {
    "tags": []
   },
   "outputs": [
    {
     "name": "stdout",
     "output_type": "stream",
     "text": [
      "Epoch 1/10\n",
      "52448/52500 [============================>.] - ETA: 0s - loss: 0.5688 - accuracy: 0.9122WARNING:tensorflow:`evaluate()` received a value for `sample_weight`, but `weighted_metrics` were not provided.  Did you mean to pass metrics to `weighted_metrics` in `compile()`?  If this is intentional you can pass `weighted_metrics=[]` to `compile()` in order to silence this warning.\n",
      "52500/52500 [==============================] - 143s 3ms/step - loss: 0.5688 - accuracy: 0.9122 - val_loss: 0.5460 - val_accuracy: 0.8907\n",
      "Epoch 2/10\n",
      "52461/52500 [============================>.] - ETA: 0s - loss: 0.5377 - accuracy: 0.9097WARNING:tensorflow:`evaluate()` received a value for `sample_weight`, but `weighted_metrics` were not provided.  Did you mean to pass metrics to `weighted_metrics` in `compile()`?  If this is intentional you can pass `weighted_metrics=[]` to `compile()` in order to silence this warning.\n",
      "52500/52500 [==============================] - 56s 1ms/step - loss: 0.5377 - accuracy: 0.9097 - val_loss: 0.5345 - val_accuracy: 0.8960\n",
      "Epoch 3/10\n",
      "52484/52500 [============================>.] - ETA: 0s - loss: 0.5311 - accuracy: 0.9089WARNING:tensorflow:`evaluate()` received a value for `sample_weight`, but `weighted_metrics` were not provided.  Did you mean to pass metrics to `weighted_metrics` in `compile()`?  If this is intentional you can pass `weighted_metrics=[]` to `compile()` in order to silence this warning.\n",
      "52500/52500 [==============================] - 57s 1ms/step - loss: 0.5311 - accuracy: 0.9088 - val_loss: 0.5332 - val_accuracy: 0.9131\n",
      "Epoch 4/10\n",
      "52466/52500 [============================>.] - ETA: 0s - loss: 0.5265 - accuracy: 0.9089WARNING:tensorflow:`evaluate()` received a value for `sample_weight`, but `weighted_metrics` were not provided.  Did you mean to pass metrics to `weighted_metrics` in `compile()`?  If this is intentional you can pass `weighted_metrics=[]` to `compile()` in order to silence this warning.\n",
      "52500/52500 [==============================] - 56s 1ms/step - loss: 0.5265 - accuracy: 0.9089 - val_loss: 0.5279 - val_accuracy: 0.9005\n",
      "Epoch 5/10\n",
      "52500/52500 [==============================] - ETA: 0s - loss: 0.5233 - accuracy: 0.9092WARNING:tensorflow:`evaluate()` received a value for `sample_weight`, but `weighted_metrics` were not provided.  Did you mean to pass metrics to `weighted_metrics` in `compile()`?  If this is intentional you can pass `weighted_metrics=[]` to `compile()` in order to silence this warning.\n",
      "52500/52500 [==============================] - 57s 1ms/step - loss: 0.5233 - accuracy: 0.9092 - val_loss: 0.5363 - val_accuracy: 0.9171\n",
      "Epoch 6/10\n",
      "52486/52500 [============================>.] - ETA: 0s - loss: 0.5219 - accuracy: 0.9096WARNING:tensorflow:`evaluate()` received a value for `sample_weight`, but `weighted_metrics` were not provided.  Did you mean to pass metrics to `weighted_metrics` in `compile()`?  If this is intentional you can pass `weighted_metrics=[]` to `compile()` in order to silence this warning.\n",
      "52500/52500 [==============================] - 59s 1ms/step - loss: 0.5219 - accuracy: 0.9096 - val_loss: 0.5342 - val_accuracy: 0.8915\n",
      "Epoch 7/10\n",
      "52476/52500 [============================>.] - ETA: 0s - loss: 0.5205 - accuracy: 0.9092WARNING:tensorflow:`evaluate()` received a value for `sample_weight`, but `weighted_metrics` were not provided.  Did you mean to pass metrics to `weighted_metrics` in `compile()`?  If this is intentional you can pass `weighted_metrics=[]` to `compile()` in order to silence this warning.\n",
      "52500/52500 [==============================] - 57s 1ms/step - loss: 0.5205 - accuracy: 0.9092 - val_loss: 0.5268 - val_accuracy: 0.9206\n",
      "Epoch 8/10\n",
      "52452/52500 [============================>.] - ETA: 0s - loss: 0.5196 - accuracy: 0.9093WARNING:tensorflow:`evaluate()` received a value for `sample_weight`, but `weighted_metrics` were not provided.  Did you mean to pass metrics to `weighted_metrics` in `compile()`?  If this is intentional you can pass `weighted_metrics=[]` to `compile()` in order to silence this warning.\n",
      "52500/52500 [==============================] - 57s 1ms/step - loss: 0.5196 - accuracy: 0.9093 - val_loss: 0.5261 - val_accuracy: 0.9054\n",
      "Epoch 9/10\n",
      "52455/52500 [============================>.] - ETA: 0s - loss: 0.5188 - accuracy: 0.9089WARNING:tensorflow:`evaluate()` received a value for `sample_weight`, but `weighted_metrics` were not provided.  Did you mean to pass metrics to `weighted_metrics` in `compile()`?  If this is intentional you can pass `weighted_metrics=[]` to `compile()` in order to silence this warning.\n",
      "52500/52500 [==============================] - 57s 1ms/step - loss: 0.5188 - accuracy: 0.9089 - val_loss: 0.5239 - val_accuracy: 0.9061\n",
      "Epoch 10/10\n",
      "52477/52500 [============================>.] - ETA: 0s - loss: 0.5214 - accuracy: 0.9088WARNING:tensorflow:`evaluate()` received a value for `sample_weight`, but `weighted_metrics` were not provided.  Did you mean to pass metrics to `weighted_metrics` in `compile()`?  If this is intentional you can pass `weighted_metrics=[]` to `compile()` in order to silence this warning.\n",
      "52500/52500 [==============================] - 58s 1ms/step - loss: 0.5214 - accuracy: 0.9088 - val_loss: 0.5306 - val_accuracy: 0.9220\n"
     ]
    },
    {
     "ename": "AttributeError",
     "evalue": "'Sequential' object has no attribute 'predict_classes'",
     "output_type": "error",
     "traceback": [
      "\u001b[1;31m---------------------------------------------------------------------------\u001b[0m",
      "\u001b[1;31mAttributeError\u001b[0m                            Traceback (most recent call last)",
      "Cell \u001b[1;32mIn[90], line 26\u001b[0m\n\u001b[0;32m     23\u001b[0m model\u001b[38;5;241m.\u001b[39mfit(X_train_scaled, y_train, epochs\u001b[38;5;241m=\u001b[39m\u001b[38;5;241m10\u001b[39m, batch_size\u001b[38;5;241m=\u001b[39m\u001b[38;5;241m32\u001b[39m, validation_split\u001b[38;5;241m=\u001b[39m\u001b[38;5;241m0.2\u001b[39m, sample_weight\u001b[38;5;241m=\u001b[39mnp\u001b[38;5;241m.\u001b[39marray([class_weights[c] \u001b[38;5;28;01mfor\u001b[39;00m c \u001b[38;5;129;01min\u001b[39;00m y_train]))\n\u001b[0;32m     25\u001b[0m \u001b[38;5;66;03m# Прогнозирование на тестовых данных\u001b[39;00m\n\u001b[1;32m---> 26\u001b[0m predictions \u001b[38;5;241m=\u001b[39m \u001b[43mmodel\u001b[49m\u001b[38;5;241;43m.\u001b[39;49m\u001b[43mpredict_classes\u001b[49m(X_test_scaled)\n\u001b[0;32m     28\u001b[0m \u001b[38;5;66;03m# Вычисление и вывод метрик производительности\u001b[39;00m\n\u001b[0;32m     29\u001b[0m accuracy \u001b[38;5;241m=\u001b[39m accuracy_score(y_test, predictions)\n",
      "\u001b[1;31mAttributeError\u001b[0m: 'Sequential' object has no attribute 'predict_classes'"
     ]
    }
   ],
   "source": [
    "import tensorflow as tf\n",
    "from sklearn.model_selection import train_test_split\n",
    "from sklearn.metrics import accuracy_score, precision_score, recall_score, f1_score, confusion_matrix\n",
    "from sklearn.preprocessing import StandardScaler\n",
    "\n",
    "\n",
    "# Расчет весов классов\n",
    "class_weights = {0: 1, 1: 10}  # Пример: вес класса 1 в 10 раз больше веса класса 0\n",
    "\n",
    "# Создание модели нейронной сети\n",
    "model = tf.keras.Sequential([\n",
    "    tf.keras.layers.Dense(64, activation='relu', input_shape=(X_train_scaled.shape[1],)),\n",
    "    tf.keras.layers.Dense(32, activation='relu'),\n",
    "    tf.keras.layers.Dense(1, activation='sigmoid')\n",
    "])\n",
    "\n",
    "# Компиляция модели с учетом весов классов через sample_weight\n",
    "model.compile(optimizer='adam',\n",
    "              loss='binary_crossentropy',\n",
    "              metrics=['accuracy'])\n",
    "\n",
    "# Обучение модели с учетом весов классов\n",
    "model.fit(X_train_scaled, y_train, epochs=10, batch_size=32, validation_split=0.2, sample_weight=np.array([class_weights[c] for c in y_train]))\n",
    "\n",
    "# Прогнозирование на тестовых данных\n",
    "predictions = model.predict_classes(X_test_scaled)\n",
    "\n",
    "# Вычисление и вывод метрик производительности\n",
    "accuracy = accuracy_score(y_test, predictions)\n",
    "precision = precision_score(y_test, predictions)\n",
    "recall = recall_score(y_test, predictions)\n",
    "f1 = f1_score(y_test, predictions)\n",
    "conf_matrix = confusion_matrix(y_test, predictions)\n",
    "\n",
    "print(\"Метрики модели с настройкой весов классов:\")\n",
    "print(\"Accuracy:\", accuracy)\n",
    "print(\"Precision:\", precision)\n",
    "print(\"Recall:\", recall)\n",
    "print(\"F1 Score:\", f1)\n",
    "print(\"Confusion Matrix:\")\n",
    "print(conf_matrix)"
   ]
  },
  {
   "cell_type": "code",
   "execution_count": 91,
   "id": "1bdfbbab-4988-4260-b20a-ed5e19fe9dd8",
   "metadata": {
    "tags": []
   },
   "outputs": [
    {
     "name": "stdout",
     "output_type": "stream",
     "text": [
      "28125/28125 [==============================] - 19s 660us/step\n"
     ]
    }
   ],
   "source": [
    "# Прогнозирование на тестовых данных\n",
    "predictions = (model.predict(X_test_scaled) > 0.5).astype(\"int32\")\n"
   ]
  },
  {
   "cell_type": "code",
   "execution_count": 92,
   "id": "1f8d040e-08e5-4fad-80fe-ac7c8978fe05",
   "metadata": {
    "tags": []
   },
   "outputs": [
    {
     "name": "stdout",
     "output_type": "stream",
     "text": [
      "Метрики модели с настройкой весов классов:\n",
      "Accuracy: 0.9214033333333334\n",
      "Precision: 0.23168987684489678\n",
      "Recall: 0.5200386437297432\n",
      "F1 Score: 0.3205617081768497\n",
      "Confusion Matrix:\n",
      "[[812576  55336]\n",
      " [ 15401  16687]]\n"
     ]
    }
   ],
   "source": [
    "# Вычисление и вывод метрик производительности\n",
    "accuracy = accuracy_score(y_test, predictions)\n",
    "precision = precision_score(y_test, predictions)\n",
    "recall = recall_score(y_test, predictions)\n",
    "f1 = f1_score(y_test, predictions)\n",
    "conf_matrix = confusion_matrix(y_test, predictions)\n",
    "\n",
    "print(\"Метрики модели с настройкой весов классов:\")\n",
    "print(\"Accuracy:\", accuracy)\n",
    "print(\"Precision:\", precision)\n",
    "print(\"Recall:\", recall)\n",
    "print(\"F1 Score:\", f1)\n",
    "print(\"Confusion Matrix:\")\n",
    "print(conf_matrix)"
   ]
  },
  {
   "cell_type": "code",
   "execution_count": 94,
   "id": "4f206764-dbc7-4b0b-b530-4697dd2b14a2",
   "metadata": {
    "tags": []
   },
   "outputs": [
    {
     "name": "stdout",
     "output_type": "stream",
     "text": [
      "28125/28125 [==============================] - 19s 662us/step\n",
      "Площадь под ROC-кривой (AUC-ROC): 0.8621022986288405\n"
     ]
    }
   ],
   "source": [
    "from sklearn.metrics import roc_auc_score\n",
    "\n",
    "# Получение вероятностей принадлежности к положительному классу\n",
    "probabilities = model.predict(X_test_scaled)\n",
    "\n",
    "# Рассчет AUC-ROC\n",
    "auc_roc = roc_auc_score(y_test, probabilities)\n",
    "\n",
    "print(\"Площадь под ROC-кривой (AUC-ROC):\", auc_roc)\n"
   ]
  },
  {
   "cell_type": "code",
   "execution_count": 114,
   "id": "928345d4-2d61-403c-9815-5fc89fc3d4f3",
   "metadata": {
    "tags": []
   },
   "outputs": [
    {
     "name": "stdout",
     "output_type": "stream",
     "text": [
      "Метрики модели Random Forest:\n",
      "Accuracy: 0.9557655555555555\n",
      "Precision: 0.2272759375662123\n",
      "Recall: 0.10028671154325605\n",
      "F1 Score: 0.139165783726512\n",
      "Confusion Matrix:\n",
      "[[856971  10941]\n",
      " [ 28870   3218]]\n"
     ]
    }
   ],
   "source": [
    "from sklearn.ensemble import RandomForestClassifier\n",
    "from sklearn.model_selection import train_test_split\n",
    "from sklearn.metrics import accuracy_score, precision_score, recall_score, f1_score, confusion_matrix\n",
    "from sklearn.preprocessing import StandardScaler\n",
    "\n",
    "#\n",
    "\n",
    "# Создание и обучение модели случайного леса\n",
    "rf_model = RandomForestClassifier(n_estimators=300, random_state=42, class_weight='balanced')\n",
    "rf_model.fit(X_train_scaled, y_train)\n",
    "\n",
    "# Прогнозирование на тестовых данных\n",
    "predictions = rf_model.predict(X_test_scaled)\n",
    "\n",
    "# Вычисление и вывод метрик производительности\n",
    "accuracy = accuracy_score(y_test, predictions)\n",
    "precision = precision_score(y_test, predictions)\n",
    "recall = recall_score(y_test, predictions)\n",
    "f1 = f1_score(y_test, predictions)\n",
    "conf_matrix = confusion_matrix(y_test, predictions)\n",
    "\n",
    "print(\"Метрики модели Random Forest:\")\n",
    "print(\"Accuracy:\", accuracy)\n",
    "print(\"Precision:\", precision)\n",
    "print(\"Recall:\", recall)\n",
    "print(\"F1 Score:\", f1)\n",
    "print(\"Confusion Matrix:\")\n",
    "print(conf_matrix)\n"
   ]
  },
  {
   "cell_type": "code",
   "execution_count": 115,
   "id": "dbd396e4-1ac2-4c97-b408-7d1a6e3c5c9d",
   "metadata": {
    "tags": []
   },
   "outputs": [
    {
     "name": "stdout",
     "output_type": "stream",
     "text": [
      "Площадь под ROC-кривой (AUC-ROC): 0.8233357041808222\n"
     ]
    }
   ],
   "source": [
    "from sklearn.metrics import roc_auc_score\n",
    "\n",
    "# Получение вероятностей принадлежности к положительному классу\n",
    "probabilities = rf_model.predict_proba(X_test_scaled)[:, 1]\n",
    "\n",
    "# Рассчет AUC-ROC\n",
    "auc_roc = roc_auc_score(y_test, probabilities)\n",
    "\n",
    "print(\"Площадь под ROC-кривой (AUC-ROC):\", auc_roc)\n"
   ]
  },
  {
   "cell_type": "code",
   "execution_count": 110,
   "id": "76fb9cdf-7030-4a61-969a-565a75c9b38c",
   "metadata": {
    "tags": []
   },
   "outputs": [
    {
     "name": "stdout",
     "output_type": "stream",
     "text": [
      "Площадь под ROC-кривой (AUC-ROC) с измененными вероятностями: 0.739999071298083\n"
     ]
    }
   ],
   "source": [
    "# Получение вероятностей принадлежности к положительному классу\n",
    "probabilities = rf_model.predict_proba(X_test_scaled)\n",
    "\n",
    "# Изменение вероятностей вручную (например, увеличение вероятности принадлежности к положительному классу на 0.1)\n",
    "adjusted_probabilities = probabilities[:, 1] + 100 # Пример увеличения на 0.1\n",
    "\n",
    "# Рассчет AUC-ROC с измененными вероятностями\n",
    "auc_roc = roc_auc_score(y_test, adjusted_probabilities)\n",
    "\n",
    "print(\"Площадь под ROC-кривой (AUC-ROC) с измененными вероятностями:\", auc_roc)\n"
   ]
  },
  {
   "cell_type": "code",
   "execution_count": 12,
   "id": "f2a0c6e7-3c76-4a1e-b181-527b83668c2d",
   "metadata": {
    "tags": []
   },
   "outputs": [
    {
     "name": "stdout",
     "output_type": "stream",
     "text": [
      "Загрузка файла: shuffled_combined_df.csv\\part-00000-d0aa810b-460a-4d2c-87eb-170a4e15b35f-c000.csv\n",
      "Загрузка файла: shuffled_combined_df.csv\\part-00001-d0aa810b-460a-4d2c-87eb-170a4e15b35f-c000.csv\n",
      "Загрузка файла: shuffled_combined_df.csv\\part-00002-d0aa810b-460a-4d2c-87eb-170a4e15b35f-c000.csv\n",
      "Загрузка файла: shuffled_combined_df.csv\\part-00003-d0aa810b-460a-4d2c-87eb-170a4e15b35f-c000.csv\n",
      "Загрузка файла: shuffled_combined_df.csv\\part-00004-d0aa810b-460a-4d2c-87eb-170a4e15b35f-c000.csv\n",
      "Загрузка файла: shuffled_combined_df.csv\\part-00005-d0aa810b-460a-4d2c-87eb-170a4e15b35f-c000.csv\n",
      "Скачивание завершено. Общее количество строк в объединенном DataFrame: 3000000\n"
     ]
    }
   ],
   "source": [
    "import pandas as pd\n",
    "import os\n",
    "\n",
    "# Пути к директориям и файлам\n",
    "\n",
    "csv_dir = \"shuffled_combined_df.csv\"\n",
    "csv_path = \"shuffled_combined_df.csv\"\n",
    "\n",
    "# Список для хранения загруженных DataFrame\n",
    "dfs = []\n",
    "\n",
    "# Итерация по всем CSV-файлам в директории\n",
    "for root, dirs, files in os.walk(csv_path):\n",
    "    for file in files:\n",
    "        if file.endswith(\".csv\"):\n",
    "            file_path = os.path.join(root, file)\n",
    "            print(f\"Загрузка файла: {file_path}\")\n",
    "            # Чтение CSV-файла в DataFrame и добавление его в список\n",
    "            df = pd.read_csv(file_path)\n",
    "            dfs.append(df)\n",
    "\n",
    "# Объединение всех DataFrame из списка в один\n",
    "shuffled_combined_df = pd.concat(dfs, ignore_index=True)\n",
    "\n",
    "# Вывод информации о ходе скачивания\n",
    "print(\"Скачивание завершено. Общее количество строк в объединенном DataFrame:\", len(shuffled_combined_df))\n"
   ]
  },
  {
   "cell_type": "code",
   "execution_count": 13,
   "id": "0d8d063a-4ad5-497a-8319-7905fa19ac32",
   "metadata": {
    "tags": []
   },
   "outputs": [
    {
     "data": {
      "text/html": [
       "<div>\n",
       "<style scoped>\n",
       "    .dataframe tbody tr th:only-of-type {\n",
       "        vertical-align: middle;\n",
       "    }\n",
       "\n",
       "    .dataframe tbody tr th {\n",
       "        vertical-align: top;\n",
       "    }\n",
       "\n",
       "    .dataframe thead th {\n",
       "        text-align: right;\n",
       "    }\n",
       "</style>\n",
       "<table border=\"1\" class=\"dataframe\">\n",
       "  <thead>\n",
       "    <tr style=\"text-align: right;\">\n",
       "      <th></th>\n",
       "      <th>id</th>\n",
       "      <th>rn</th>\n",
       "      <th>pre_since_opened</th>\n",
       "      <th>pre_since_confirmed</th>\n",
       "      <th>pre_pterm</th>\n",
       "      <th>pre_fterm</th>\n",
       "      <th>pre_till_pclose</th>\n",
       "      <th>pre_till_fclose</th>\n",
       "      <th>pre_loans_credit_limit</th>\n",
       "      <th>pre_loans_next_pay_summ</th>\n",
       "      <th>...</th>\n",
       "      <th>enc_paym_24</th>\n",
       "      <th>enc_loans_account_holder_type</th>\n",
       "      <th>enc_loans_credit_status</th>\n",
       "      <th>enc_loans_credit_type</th>\n",
       "      <th>enc_loans_account_cur</th>\n",
       "      <th>pclose_flag</th>\n",
       "      <th>fclose_flag</th>\n",
       "      <th>flag</th>\n",
       "      <th>flag_1_count</th>\n",
       "      <th>flag_0_count</th>\n",
       "    </tr>\n",
       "  </thead>\n",
       "  <tbody>\n",
       "    <tr>\n",
       "      <th>0</th>\n",
       "      <td>748225</td>\n",
       "      <td>3</td>\n",
       "      <td>18</td>\n",
       "      <td>16</td>\n",
       "      <td>0</td>\n",
       "      <td>8</td>\n",
       "      <td>14</td>\n",
       "      <td>11</td>\n",
       "      <td>3</td>\n",
       "      <td>2</td>\n",
       "      <td>...</td>\n",
       "      <td>1</td>\n",
       "      <td>1</td>\n",
       "      <td>2</td>\n",
       "      <td>3</td>\n",
       "      <td>1</td>\n",
       "      <td>0</td>\n",
       "      <td>1</td>\n",
       "      <td>0</td>\n",
       "      <td>0</td>\n",
       "      <td>5</td>\n",
       "    </tr>\n",
       "    <tr>\n",
       "      <th>1</th>\n",
       "      <td>945681</td>\n",
       "      <td>1</td>\n",
       "      <td>8</td>\n",
       "      <td>12</td>\n",
       "      <td>17</td>\n",
       "      <td>16</td>\n",
       "      <td>9</td>\n",
       "      <td>1</td>\n",
       "      <td>2</td>\n",
       "      <td>2</td>\n",
       "      <td>...</td>\n",
       "      <td>4</td>\n",
       "      <td>1</td>\n",
       "      <td>3</td>\n",
       "      <td>2</td>\n",
       "      <td>2</td>\n",
       "      <td>0</td>\n",
       "      <td>0</td>\n",
       "      <td>0</td>\n",
       "      <td>0</td>\n",
       "      <td>8</td>\n",
       "    </tr>\n",
       "    <tr>\n",
       "      <th>2</th>\n",
       "      <td>1502507</td>\n",
       "      <td>2</td>\n",
       "      <td>14</td>\n",
       "      <td>14</td>\n",
       "      <td>17</td>\n",
       "      <td>16</td>\n",
       "      <td>13</td>\n",
       "      <td>3</td>\n",
       "      <td>8</td>\n",
       "      <td>2</td>\n",
       "      <td>...</td>\n",
       "      <td>1</td>\n",
       "      <td>1</td>\n",
       "      <td>3</td>\n",
       "      <td>4</td>\n",
       "      <td>1</td>\n",
       "      <td>0</td>\n",
       "      <td>0</td>\n",
       "      <td>0</td>\n",
       "      <td>0</td>\n",
       "      <td>14</td>\n",
       "    </tr>\n",
       "    <tr>\n",
       "      <th>3</th>\n",
       "      <td>2721455</td>\n",
       "      <td>1</td>\n",
       "      <td>6</td>\n",
       "      <td>17</td>\n",
       "      <td>11</td>\n",
       "      <td>13</td>\n",
       "      <td>11</td>\n",
       "      <td>0</td>\n",
       "      <td>14</td>\n",
       "      <td>2</td>\n",
       "      <td>...</td>\n",
       "      <td>1</td>\n",
       "      <td>1</td>\n",
       "      <td>3</td>\n",
       "      <td>3</td>\n",
       "      <td>1</td>\n",
       "      <td>0</td>\n",
       "      <td>0</td>\n",
       "      <td>0</td>\n",
       "      <td>0</td>\n",
       "      <td>7</td>\n",
       "    </tr>\n",
       "    <tr>\n",
       "      <th>4</th>\n",
       "      <td>2480332</td>\n",
       "      <td>2</td>\n",
       "      <td>13</td>\n",
       "      <td>9</td>\n",
       "      <td>2</td>\n",
       "      <td>14</td>\n",
       "      <td>5</td>\n",
       "      <td>10</td>\n",
       "      <td>17</td>\n",
       "      <td>1</td>\n",
       "      <td>...</td>\n",
       "      <td>4</td>\n",
       "      <td>1</td>\n",
       "      <td>3</td>\n",
       "      <td>4</td>\n",
       "      <td>1</td>\n",
       "      <td>0</td>\n",
       "      <td>0</td>\n",
       "      <td>0</td>\n",
       "      <td>0</td>\n",
       "      <td>10</td>\n",
       "    </tr>\n",
       "    <tr>\n",
       "      <th>...</th>\n",
       "      <td>...</td>\n",
       "      <td>...</td>\n",
       "      <td>...</td>\n",
       "      <td>...</td>\n",
       "      <td>...</td>\n",
       "      <td>...</td>\n",
       "      <td>...</td>\n",
       "      <td>...</td>\n",
       "      <td>...</td>\n",
       "      <td>...</td>\n",
       "      <td>...</td>\n",
       "      <td>...</td>\n",
       "      <td>...</td>\n",
       "      <td>...</td>\n",
       "      <td>...</td>\n",
       "      <td>...</td>\n",
       "      <td>...</td>\n",
       "      <td>...</td>\n",
       "      <td>...</td>\n",
       "      <td>...</td>\n",
       "      <td>...</td>\n",
       "    </tr>\n",
       "    <tr>\n",
       "      <th>2999995</th>\n",
       "      <td>201960</td>\n",
       "      <td>3</td>\n",
       "      <td>8</td>\n",
       "      <td>4</td>\n",
       "      <td>16</td>\n",
       "      <td>9</td>\n",
       "      <td>9</td>\n",
       "      <td>1</td>\n",
       "      <td>12</td>\n",
       "      <td>2</td>\n",
       "      <td>...</td>\n",
       "      <td>4</td>\n",
       "      <td>1</td>\n",
       "      <td>3</td>\n",
       "      <td>4</td>\n",
       "      <td>1</td>\n",
       "      <td>0</td>\n",
       "      <td>0</td>\n",
       "      <td>0</td>\n",
       "      <td>0</td>\n",
       "      <td>17</td>\n",
       "    </tr>\n",
       "    <tr>\n",
       "      <th>2999996</th>\n",
       "      <td>850870</td>\n",
       "      <td>1</td>\n",
       "      <td>8</td>\n",
       "      <td>4</td>\n",
       "      <td>14</td>\n",
       "      <td>7</td>\n",
       "      <td>6</td>\n",
       "      <td>3</td>\n",
       "      <td>11</td>\n",
       "      <td>2</td>\n",
       "      <td>...</td>\n",
       "      <td>1</td>\n",
       "      <td>1</td>\n",
       "      <td>3</td>\n",
       "      <td>4</td>\n",
       "      <td>1</td>\n",
       "      <td>0</td>\n",
       "      <td>0</td>\n",
       "      <td>0</td>\n",
       "      <td>0</td>\n",
       "      <td>14</td>\n",
       "    </tr>\n",
       "    <tr>\n",
       "      <th>2999997</th>\n",
       "      <td>85384</td>\n",
       "      <td>1</td>\n",
       "      <td>6</td>\n",
       "      <td>11</td>\n",
       "      <td>6</td>\n",
       "      <td>1</td>\n",
       "      <td>10</td>\n",
       "      <td>4</td>\n",
       "      <td>2</td>\n",
       "      <td>2</td>\n",
       "      <td>...</td>\n",
       "      <td>4</td>\n",
       "      <td>1</td>\n",
       "      <td>3</td>\n",
       "      <td>0</td>\n",
       "      <td>1</td>\n",
       "      <td>0</td>\n",
       "      <td>0</td>\n",
       "      <td>0</td>\n",
       "      <td>0</td>\n",
       "      <td>5</td>\n",
       "    </tr>\n",
       "    <tr>\n",
       "      <th>2999998</th>\n",
       "      <td>2003285</td>\n",
       "      <td>2</td>\n",
       "      <td>5</td>\n",
       "      <td>9</td>\n",
       "      <td>15</td>\n",
       "      <td>2</td>\n",
       "      <td>16</td>\n",
       "      <td>12</td>\n",
       "      <td>8</td>\n",
       "      <td>0</td>\n",
       "      <td>...</td>\n",
       "      <td>4</td>\n",
       "      <td>1</td>\n",
       "      <td>3</td>\n",
       "      <td>4</td>\n",
       "      <td>1</td>\n",
       "      <td>0</td>\n",
       "      <td>0</td>\n",
       "      <td>0</td>\n",
       "      <td>0</td>\n",
       "      <td>6</td>\n",
       "    </tr>\n",
       "    <tr>\n",
       "      <th>2999999</th>\n",
       "      <td>642040</td>\n",
       "      <td>1</td>\n",
       "      <td>5</td>\n",
       "      <td>9</td>\n",
       "      <td>14</td>\n",
       "      <td>8</td>\n",
       "      <td>8</td>\n",
       "      <td>11</td>\n",
       "      <td>16</td>\n",
       "      <td>2</td>\n",
       "      <td>...</td>\n",
       "      <td>1</td>\n",
       "      <td>1</td>\n",
       "      <td>2</td>\n",
       "      <td>3</td>\n",
       "      <td>1</td>\n",
       "      <td>0</td>\n",
       "      <td>1</td>\n",
       "      <td>0</td>\n",
       "      <td>0</td>\n",
       "      <td>4</td>\n",
       "    </tr>\n",
       "  </tbody>\n",
       "</table>\n",
       "<p>3000000 rows × 64 columns</p>\n",
       "</div>"
      ],
      "text/plain": [
       "              id  rn  pre_since_opened  pre_since_confirmed  pre_pterm  \\\n",
       "0         748225   3                18                   16          0   \n",
       "1         945681   1                 8                   12         17   \n",
       "2        1502507   2                14                   14         17   \n",
       "3        2721455   1                 6                   17         11   \n",
       "4        2480332   2                13                    9          2   \n",
       "...          ...  ..               ...                  ...        ...   \n",
       "2999995   201960   3                 8                    4         16   \n",
       "2999996   850870   1                 8                    4         14   \n",
       "2999997    85384   1                 6                   11          6   \n",
       "2999998  2003285   2                 5                    9         15   \n",
       "2999999   642040   1                 5                    9         14   \n",
       "\n",
       "         pre_fterm  pre_till_pclose  pre_till_fclose  pre_loans_credit_limit  \\\n",
       "0                8               14               11                       3   \n",
       "1               16                9                1                       2   \n",
       "2               16               13                3                       8   \n",
       "3               13               11                0                      14   \n",
       "4               14                5               10                      17   \n",
       "...            ...              ...              ...                     ...   \n",
       "2999995          9                9                1                      12   \n",
       "2999996          7                6                3                      11   \n",
       "2999997          1               10                4                       2   \n",
       "2999998          2               16               12                       8   \n",
       "2999999          8                8               11                      16   \n",
       "\n",
       "         pre_loans_next_pay_summ  ...  enc_paym_24  \\\n",
       "0                              2  ...            1   \n",
       "1                              2  ...            4   \n",
       "2                              2  ...            1   \n",
       "3                              2  ...            1   \n",
       "4                              1  ...            4   \n",
       "...                          ...  ...          ...   \n",
       "2999995                        2  ...            4   \n",
       "2999996                        2  ...            1   \n",
       "2999997                        2  ...            4   \n",
       "2999998                        0  ...            4   \n",
       "2999999                        2  ...            1   \n",
       "\n",
       "         enc_loans_account_holder_type  enc_loans_credit_status  \\\n",
       "0                                    1                        2   \n",
       "1                                    1                        3   \n",
       "2                                    1                        3   \n",
       "3                                    1                        3   \n",
       "4                                    1                        3   \n",
       "...                                ...                      ...   \n",
       "2999995                              1                        3   \n",
       "2999996                              1                        3   \n",
       "2999997                              1                        3   \n",
       "2999998                              1                        3   \n",
       "2999999                              1                        2   \n",
       "\n",
       "         enc_loans_credit_type  enc_loans_account_cur  pclose_flag  \\\n",
       "0                            3                      1            0   \n",
       "1                            2                      2            0   \n",
       "2                            4                      1            0   \n",
       "3                            3                      1            0   \n",
       "4                            4                      1            0   \n",
       "...                        ...                    ...          ...   \n",
       "2999995                      4                      1            0   \n",
       "2999996                      4                      1            0   \n",
       "2999997                      0                      1            0   \n",
       "2999998                      4                      1            0   \n",
       "2999999                      3                      1            0   \n",
       "\n",
       "         fclose_flag  flag  flag_1_count  flag_0_count  \n",
       "0                  1     0             0             5  \n",
       "1                  0     0             0             8  \n",
       "2                  0     0             0            14  \n",
       "3                  0     0             0             7  \n",
       "4                  0     0             0            10  \n",
       "...              ...   ...           ...           ...  \n",
       "2999995            0     0             0            17  \n",
       "2999996            0     0             0            14  \n",
       "2999997            0     0             0             5  \n",
       "2999998            0     0             0             6  \n",
       "2999999            1     0             0             4  \n",
       "\n",
       "[3000000 rows x 64 columns]"
      ]
     },
     "execution_count": 13,
     "metadata": {},
     "output_type": "execute_result"
    }
   ],
   "source": [
    "shuffled_combined_df"
   ]
  },
  {
   "cell_type": "code",
   "execution_count": 16,
   "id": "e76c30fc-6544-4a98-9bbb-f61be5fc1ee3",
   "metadata": {
    "tags": []
   },
   "outputs": [
    {
     "data": {
      "text/plain": [
       "Index(['id', 'rn', 'pre_since_opened', 'pre_since_confirmed', 'pre_pterm',\n",
       "       'pre_fterm', 'pre_till_pclose', 'pre_till_fclose',\n",
       "       'pre_loans_credit_limit', 'pre_loans_next_pay_summ',\n",
       "       'pre_loans_outstanding', 'pre_loans_total_overdue',\n",
       "       'pre_loans_max_overdue_sum', 'pre_loans_credit_cost_rate', 'pre_loans5',\n",
       "       'pre_loans530', 'pre_loans3060', 'pre_loans6090', 'pre_loans90',\n",
       "       'is_zero_loans5', 'is_zero_loans530', 'is_zero_loans3060',\n",
       "       'is_zero_loans6090', 'is_zero_loans90', 'pre_util', 'pre_over2limit',\n",
       "       'pre_maxover2limit', 'is_zero_util', 'is_zero_over2limit',\n",
       "       'is_zero_maxover2limit', 'enc_paym_0', 'enc_paym_1', 'enc_paym_2',\n",
       "       'enc_paym_3', 'enc_paym_4', 'enc_paym_5', 'enc_paym_6', 'enc_paym_7',\n",
       "       'enc_paym_8', 'enc_paym_9', 'enc_paym_10', 'enc_paym_11', 'enc_paym_12',\n",
       "       'enc_paym_13', 'enc_paym_14', 'enc_paym_15', 'enc_paym_16',\n",
       "       'enc_paym_17', 'enc_paym_18', 'enc_paym_19', 'enc_paym_20',\n",
       "       'enc_paym_21', 'enc_paym_22', 'enc_paym_23', 'enc_paym_24',\n",
       "       'enc_loans_account_holder_type', 'enc_loans_credit_status',\n",
       "       'enc_loans_credit_type', 'enc_loans_account_cur', 'pclose_flag',\n",
       "       'fclose_flag', 'flag', 'flag_1_count', 'flag_0_count'],\n",
       "      dtype='object')"
      ]
     },
     "execution_count": 16,
     "metadata": {},
     "output_type": "execute_result"
    }
   ],
   "source": [
    "shuffled_combined_df.columns"
   ]
  },
  {
   "cell_type": "code",
   "execution_count": 14,
   "id": "0da9e17a-92ba-44e2-8e14-80d4a5b2df4c",
   "metadata": {
    "tags": []
   },
   "outputs": [
    {
     "name": "stdout",
     "output_type": "stream",
     "text": [
      "Accuracy: 0.96623\n",
      "Precision: 0.567750478152126\n",
      "Recall: 0.1821743851201435\n",
      "F1 Score: 0.2758398856325947\n",
      "ROC AUC Score: 0.5885492574268604\n"
     ]
    },
    {
     "data": {
      "image/png": "[encoded data removed]",
      "text/plain": [
       "<Figure size 800x600 with 1 Axes>"
      ]
     },
     "metadata": {},
     "output_type": "display_data"
    }
   ],
   "source": [
    "import pandas as pd\n",
    "from sklearn.model_selection import train_test_split\n",
    "from sklearn.linear_model import LogisticRegression\n",
    "from sklearn.metrics import accuracy_score, precision_score, recall_score, f1_score, roc_auc_score, roc_curve\n",
    "import matplotlib.pyplot as plt\n",
    "\n",
    "# Предположим, что shuffled_combined_df - это ваш DataFrame\n",
    "\n",
    "# Разделение данных на признаки (X) и целевую переменную (y)\n",
    "X = shuffled_combined_df.drop(columns=['id', 'flag', 'flag_1_count', 'flag_0_count'])\n",
    "y = shuffled_combined_df['flag']\n",
    "\n",
    "# Разделение данных на обучающий и тестовый наборы\n",
    "X_train, X_test, y_train, y_test = train_test_split(X, y, test_size=0.2, random_state=42)\n",
    "\n",
    "# Обучение логистической регрессии\n",
    "model = LogisticRegression()\n",
    "model.fit(X_train, y_train)\n",
    "\n",
    "# Предсказание на тестовом наборе\n",
    "y_pred = model.predict(X_test)\n",
    "\n",
    "# Вычисление метрик\n",
    "accuracy = accuracy_score(y_test, y_pred)\n",
    "precision = precision_score(y_test, y_pred)\n",
    "recall = recall_score(y_test, y_pred)\n",
    "f1 = f1_score(y_test, y_pred)\n",
    "roc_auc = roc_auc_score(y_test, y_pred)\n",
    "\n",
    "# Вывод метрик\n",
    "print(\"Accuracy:\", accuracy)\n",
    "print(\"Precision:\", precision)\n",
    "print(\"Recall:\", recall)\n",
    "print(\"F1 Score:\", f1)\n",
    "print(\"ROC AUC Score:\", roc_auc)\n",
    "\n",
    "# Вычисление ROC-кривой и площади под кривой (AUC)\n",
    "fpr, tpr, thresholds = roc_curve(y_test, y_pred)\n",
    "\n",
    "# Построение ROC-кривой\n",
    "plt.figure(figsize=(8, 6))\n",
    "plt.plot(fpr, tpr, label='ROC Curve (area = %0.2f)' % roc_auc)\n",
    "plt.plot([0, 1], [0, 1], 'k--')  # случайное угадывание\n",
    "plt.xlim([0.0, 1.0])\n",
    "plt.ylim([0.0, 1.05])\n",
    "plt.xlabel('False Positive Rate')\n",
    "plt.ylabel('True Positive Rate')\n",
    "plt.title('Receiver Operating Characteristic (ROC) Curve')\n",
    "plt.legend(loc=\"lower right\")\n",
    "plt.show()\n"
   ]
  },
  {
   "cell_type": "code",
   "execution_count": 15,
   "id": "472cc6fe-0032-45d4-b4d3-f5e73bb4a9c0",
   "metadata": {
    "tags": []
   },
   "outputs": [
    {
     "name": "stdout",
     "output_type": "stream",
     "text": [
      "Точность (Precision) с XGBoost: 0.666023166023166\n",
      "Полнота (Recall) с XGBoost: 0.48859934853420195\n",
      "F1-мера (F1-Score) с XGBoost: 0.5636794379544154\n",
      "AUC-ROC с XGBoost: 0.9686430133824606\n",
      "Матрица ошибок:\n",
      "[[573627   5190]\n",
      " [ 10833  10350]]\n"
     ]
    }
   ],
   "source": [
    "import xgboost as xgb\n",
    "\n",
    "\n",
    "model_xgb = xgb.XGBClassifier()\n",
    "\n",
    "# Обучение модели на тренировочных данных\n",
    "model_xgb.fit(X_train, y_train)\n",
    "\n",
    "# Прогнозирование на тестовых данных\n",
    "predictions_xgb = model_xgb.predict(X_test)\n",
    "\n",
    "# Вычисление метрик производительности модели\n",
    "precision_xgb = precision_score(y_test, predictions_xgb)\n",
    "recall_xgb = recall_score(y_test, predictions_xgb)\n",
    "f1_xgb = f1_score(y_test, predictions_xgb)\n",
    "auc_roc_xgb = roc_auc_score(y_test, model_xgb.predict_proba(X_test)[:, 1])\n",
    "\n",
    "# Вычисление матрицы ошибок\n",
    "conf_matrix = confusion_matrix(y_test, predictions_xgb)\n",
    "\n",
    "# Вывод результатов\n",
    "print(\"Точность (Precision) с XGBoost:\", precision_xgb)\n",
    "print(\"Полнота (Recall) с XGBoost:\", recall_xgb)\n",
    "print(\"F1-мера (F1-Score) с XGBoost:\", f1_xgb)\n",
    "print(\"AUC-ROC с XGBoost:\", auc_roc_xgb)\n",
    "print(\"Матрица ошибок:\")\n",
    "print(conf_matrix)\n"
   ]
  },
  {
   "cell_type": "code",
   "execution_count": 164,
   "id": "d71817cb-e101-4094-a4e0-2b317aa6426c",
   "metadata": {
    "tags": []
   },
   "outputs": [
    {
     "name": "stdout",
     "output_type": "stream",
     "text": [
      "                          Feature  Importance\n",
      "38                     enc_paym_9    0.710447\n",
      "55        enc_loans_credit_status    0.094396\n",
      "28          is_zero_maxover2limit    0.016712\n",
      "0                              rn    0.010924\n",
      "5                 pre_till_pclose    0.010900\n",
      "1                pre_since_opened    0.010864\n",
      "33                     enc_paym_4    0.009682\n",
      "27             is_zero_over2limit    0.008852\n",
      "6                 pre_till_fclose    0.008186\n",
      "26                   is_zero_util    0.006605\n",
      "49                    enc_paym_20    0.006574\n",
      "52                    enc_paym_23    0.005046\n",
      "22                is_zero_loans90    0.004736\n",
      "35                     enc_paym_6    0.004669\n",
      "19               is_zero_loans530    0.004560\n",
      "56          enc_loans_credit_type    0.004071\n",
      "12     pre_loans_credit_cost_rate    0.003736\n",
      "44                    enc_paym_15    0.003419\n",
      "31                     enc_paym_2    0.003344\n",
      "36                     enc_paym_7    0.002955\n",
      "34                     enc_paym_5    0.002815\n",
      "30                     enc_paym_1    0.002747\n",
      "23                       pre_util    0.002658\n",
      "18                 is_zero_loans5    0.002613\n",
      "51                    enc_paym_22    0.002596\n",
      "39                    enc_paym_10    0.002568\n",
      "9           pre_loans_outstanding    0.002412\n",
      "7          pre_loans_credit_limit    0.002261\n",
      "48                    enc_paym_19    0.002238\n",
      "59                    fclose_flag    0.002238\n",
      "32                     enc_paym_3    0.002236\n",
      "21              is_zero_loans6090    0.002225\n",
      "58                    pclose_flag    0.002208\n",
      "29                     enc_paym_0    0.002087\n",
      "54  enc_loans_account_holder_type    0.002045\n",
      "20              is_zero_loans3060    0.002014\n",
      "37                     enc_paym_8    0.001849\n",
      "24                 pre_over2limit    0.001809\n",
      "3                       pre_pterm    0.001808\n",
      "25              pre_maxover2limit    0.001750\n",
      "41                    enc_paym_12    0.001738\n",
      "53                    enc_paym_24    0.001648\n",
      "2             pre_since_confirmed    0.001629\n",
      "40                    enc_paym_11    0.001595\n",
      "4                       pre_fterm    0.001565\n",
      "42                    enc_paym_13    0.001556\n",
      "43                    enc_paym_14    0.001513\n",
      "8         pre_loans_next_pay_summ    0.001504\n",
      "45                    enc_paym_16    0.001482\n",
      "47                    enc_paym_18    0.001456\n",
      "11      pre_loans_max_overdue_sum    0.001346\n",
      "50                    enc_paym_21    0.001229\n",
      "13                     pre_loans5    0.001181\n",
      "15                  pre_loans3060    0.001067\n",
      "46                    enc_paym_17    0.001031\n",
      "14                   pre_loans530    0.000923\n",
      "17                    pre_loans90    0.000662\n",
      "57          enc_loans_account_cur    0.000649\n",
      "16                  pre_loans6090    0.000373\n",
      "10        pre_loans_total_overdue    0.000000\n"
     ]
    }
   ],
   "source": [
    "# Получение важности признаков\n",
    "feature_importance = model_xgb.feature_importances_\n",
    "\n",
    "# Создание DataFrame с признаками и их важностью\n",
    "feature_importance_df = pd.DataFrame({'Feature': X_train.columns, 'Importance': feature_importance})\n",
    "\n",
    "# Сортировка признаков по важности\n",
    "feature_importance_df = feature_importance_df.sort_values(by='Importance', ascending=False)\n",
    "\n",
    "# Вывод признаков в порядке убывания их важности\n",
    "print(feature_importance_df)\n"
   ]
  },
  {
   "cell_type": "code",
   "execution_count": 17,
   "id": "26a435a6-ed1e-410d-b9a3-bac4133a3599",
   "metadata": {
    "tags": []
   },
   "outputs": [
    {
     "name": "stdout",
     "output_type": "stream",
     "text": [
      "Загрузка файла: test_10000.csv\\part-00000-5c853b6b-5b60-47fe-ba4e-1d8a5669e9e4-c000.csv\n",
      "Загрузка файла: test_10000.csv\\part-00001-5c853b6b-5b60-47fe-ba4e-1d8a5669e9e4-c000.csv\n",
      "Загрузка файла: test_10000.csv\\part-00002-5c853b6b-5b60-47fe-ba4e-1d8a5669e9e4-c000.csv\n",
      "Загрузка файла: test_10000.csv\\part-00003-5c853b6b-5b60-47fe-ba4e-1d8a5669e9e4-c000.csv\n",
      "Загрузка файла: test_10000.csv\\part-00004-5c853b6b-5b60-47fe-ba4e-1d8a5669e9e4-c000.csv\n",
      "Загрузка файла: test_10000.csv\\part-00005-5c853b6b-5b60-47fe-ba4e-1d8a5669e9e4-c000.csv\n",
      "Загрузка файла: test_10000.csv\\part-00006-5c853b6b-5b60-47fe-ba4e-1d8a5669e9e4-c000.csv\n",
      "Загрузка файла: test_10000.csv\\part-00007-5c853b6b-5b60-47fe-ba4e-1d8a5669e9e4-c000.csv\n",
      "Загрузка файла: test_10000.csv\\part-00008-5c853b6b-5b60-47fe-ba4e-1d8a5669e9e4-c000.csv\n",
      "Загрузка файла: test_10000.csv\\part-00009-5c853b6b-5b60-47fe-ba4e-1d8a5669e9e4-c000.csv\n",
      "Загрузка файла: test_10000.csv\\part-00010-5c853b6b-5b60-47fe-ba4e-1d8a5669e9e4-c000.csv\n",
      "Загрузка файла: test_10000.csv\\part-00011-5c853b6b-5b60-47fe-ba4e-1d8a5669e9e4-c000.csv\n",
      "Загрузка файла: test_10000.csv\\part-00012-5c853b6b-5b60-47fe-ba4e-1d8a5669e9e4-c000.csv\n",
      "Загрузка файла: test_10000.csv\\part-00013-5c853b6b-5b60-47fe-ba4e-1d8a5669e9e4-c000.csv\n",
      "Загрузка файла: test_10000.csv\\part-00014-5c853b6b-5b60-47fe-ba4e-1d8a5669e9e4-c000.csv\n",
      "Загрузка файла: test_10000.csv\\part-00015-5c853b6b-5b60-47fe-ba4e-1d8a5669e9e4-c000.csv\n",
      "Загрузка файла: test_10000.csv\\part-00016-5c853b6b-5b60-47fe-ba4e-1d8a5669e9e4-c000.csv\n",
      "Загрузка файла: test_10000.csv\\part-00017-5c853b6b-5b60-47fe-ba4e-1d8a5669e9e4-c000.csv\n",
      "Загрузка файла: test_10000.csv\\part-00018-5c853b6b-5b60-47fe-ba4e-1d8a5669e9e4-c000.csv\n",
      "Загрузка файла: test_10000.csv\\part-00019-5c853b6b-5b60-47fe-ba4e-1d8a5669e9e4-c000.csv\n",
      "Загрузка файла: test_10000.csv\\part-00020-5c853b6b-5b60-47fe-ba4e-1d8a5669e9e4-c000.csv\n",
      "Загрузка файла: test_10000.csv\\part-00021-5c853b6b-5b60-47fe-ba4e-1d8a5669e9e4-c000.csv\n",
      "Загрузка файла: test_10000.csv\\part-00022-5c853b6b-5b60-47fe-ba4e-1d8a5669e9e4-c000.csv\n",
      "Загрузка файла: test_10000.csv\\part-00023-5c853b6b-5b60-47fe-ba4e-1d8a5669e9e4-c000.csv\n",
      "Загрузка файла: test_10000.csv\\part-00024-5c853b6b-5b60-47fe-ba4e-1d8a5669e9e4-c000.csv\n",
      "Загрузка файла: test_10000.csv\\part-00025-5c853b6b-5b60-47fe-ba4e-1d8a5669e9e4-c000.csv\n",
      "Загрузка файла: test_10000.csv\\part-00026-5c853b6b-5b60-47fe-ba4e-1d8a5669e9e4-c000.csv\n",
      "Загрузка файла: test_10000.csv\\part-00027-5c853b6b-5b60-47fe-ba4e-1d8a5669e9e4-c000.csv\n",
      "Загрузка файла: test_10000.csv\\part-00028-5c853b6b-5b60-47fe-ba4e-1d8a5669e9e4-c000.csv\n",
      "Загрузка файла: test_10000.csv\\part-00029-5c853b6b-5b60-47fe-ba4e-1d8a5669e9e4-c000.csv\n",
      "Загрузка файла: test_10000.csv\\part-00030-5c853b6b-5b60-47fe-ba4e-1d8a5669e9e4-c000.csv\n",
      "Загрузка файла: test_10000.csv\\part-00031-5c853b6b-5b60-47fe-ba4e-1d8a5669e9e4-c000.csv\n",
      "Загрузка файла: test_10000.csv\\part-00032-5c853b6b-5b60-47fe-ba4e-1d8a5669e9e4-c000.csv\n",
      "Загрузка файла: test_10000.csv\\part-00033-5c853b6b-5b60-47fe-ba4e-1d8a5669e9e4-c000.csv\n",
      "Загрузка файла: test_10000.csv\\part-00034-5c853b6b-5b60-47fe-ba4e-1d8a5669e9e4-c000.csv\n",
      "Загрузка файла: test_10000.csv\\part-00035-5c853b6b-5b60-47fe-ba4e-1d8a5669e9e4-c000.csv\n",
      "Загрузка файла: test_10000.csv\\part-00036-5c853b6b-5b60-47fe-ba4e-1d8a5669e9e4-c000.csv\n",
      "Загрузка файла: test_10000.csv\\part-00037-5c853b6b-5b60-47fe-ba4e-1d8a5669e9e4-c000.csv\n",
      "Загрузка файла: test_10000.csv\\part-00038-5c853b6b-5b60-47fe-ba4e-1d8a5669e9e4-c000.csv\n",
      "Загрузка файла: test_10000.csv\\part-00039-5c853b6b-5b60-47fe-ba4e-1d8a5669e9e4-c000.csv\n",
      "Загрузка файла: test_10000.csv\\part-00040-5c853b6b-5b60-47fe-ba4e-1d8a5669e9e4-c000.csv\n",
      "Загрузка файла: test_10000.csv\\part-00041-5c853b6b-5b60-47fe-ba4e-1d8a5669e9e4-c000.csv\n",
      "Загрузка файла: test_10000.csv\\part-00042-5c853b6b-5b60-47fe-ba4e-1d8a5669e9e4-c000.csv\n",
      "Загрузка файла: test_10000.csv\\part-00043-5c853b6b-5b60-47fe-ba4e-1d8a5669e9e4-c000.csv\n",
      "Загрузка файла: test_10000.csv\\part-00044-5c853b6b-5b60-47fe-ba4e-1d8a5669e9e4-c000.csv\n",
      "Скачивание завершено. Общее количество строк в объединенном DataFrame: 10024\n"
     ]
    }
   ],
   "source": [
    "import pandas as pd\n",
    "import os\n",
    "\n",
    "# Пути к директориям и файлам\n",
    "\n",
    "csv_dir = \"test_10000.csv\"\n",
    "csv_path = \"test_10000.csv\"\n",
    "\n",
    "# Список для хранения загруженных DataFrame\n",
    "dfs = []\n",
    "\n",
    "# Итерация по всем CSV-файлам в директории\n",
    "for root, dirs, files in os.walk(csv_path):\n",
    "    for file in files:\n",
    "        if file.endswith(\".csv\"):\n",
    "            file_path = os.path.join(root, file)\n",
    "            print(f\"Загрузка файла: {file_path}\")\n",
    "            # Чтение CSV-файла в DataFrame и добавление его в список\n",
    "            df = pd.read_csv(file_path)\n",
    "            dfs.append(df)\n",
    "\n",
    "# Объединение всех DataFrame из списка в один\n",
    "test_10000 = pd.concat(dfs, ignore_index=True)\n",
    "\n",
    "# Вывод информации о ходе скачивания\n",
    "print(\"Скачивание завершено. Общее количество строк в объединенном DataFrame:\", len(test_10000))"
   ]
  },
  {
   "cell_type": "code",
   "execution_count": 18,
   "id": "844ad7d0-73bb-4d15-b5a4-65723a06c7df",
   "metadata": {
    "tags": []
   },
   "outputs": [],
   "source": [
    "test_10000 = test_10000[shuffled_combined_df.columns]"
   ]
  },
  {
   "cell_type": "code",
   "execution_count": 22,
   "id": "f22eeb32-98f3-49a6-a3f9-cf60c0cf84de",
   "metadata": {
    "tags": []
   },
   "outputs": [
    {
     "name": "stdout",
     "output_type": "stream",
     "text": [
      "                    Train Columns                   Test Columns\n",
      "0                              rn                             rn\n",
      "1                pre_since_opened               pre_since_opened\n",
      "2             pre_since_confirmed            pre_since_confirmed\n",
      "3                       pre_pterm                      pre_pterm\n",
      "4                       pre_fterm                      pre_fterm\n",
      "5                 pre_till_pclose                pre_till_pclose\n",
      "6                 pre_till_fclose                pre_till_fclose\n",
      "7          pre_loans_credit_limit         pre_loans_credit_limit\n",
      "8         pre_loans_next_pay_summ        pre_loans_next_pay_summ\n",
      "9           pre_loans_outstanding          pre_loans_outstanding\n",
      "10        pre_loans_total_overdue        pre_loans_total_overdue\n",
      "11      pre_loans_max_overdue_sum      pre_loans_max_overdue_sum\n",
      "12     pre_loans_credit_cost_rate     pre_loans_credit_cost_rate\n",
      "13                     pre_loans5                     pre_loans5\n",
      "14                   pre_loans530                   pre_loans530\n",
      "15                  pre_loans3060                  pre_loans3060\n",
      "16                  pre_loans6090                  pre_loans6090\n",
      "17                    pre_loans90                    pre_loans90\n",
      "18                 is_zero_loans5                 is_zero_loans5\n",
      "19               is_zero_loans530               is_zero_loans530\n",
      "20              is_zero_loans3060              is_zero_loans3060\n",
      "21              is_zero_loans6090              is_zero_loans6090\n",
      "22                is_zero_loans90                is_zero_loans90\n",
      "23                       pre_util                       pre_util\n",
      "24                 pre_over2limit                 pre_over2limit\n",
      "25              pre_maxover2limit              pre_maxover2limit\n",
      "26                   is_zero_util                   is_zero_util\n",
      "27             is_zero_over2limit             is_zero_over2limit\n",
      "28          is_zero_maxover2limit          is_zero_maxover2limit\n",
      "29                     enc_paym_0                     enc_paym_0\n",
      "30                     enc_paym_1                     enc_paym_1\n",
      "31                     enc_paym_2                     enc_paym_2\n",
      "32                     enc_paym_3                     enc_paym_3\n",
      "33                     enc_paym_4                     enc_paym_4\n",
      "34                     enc_paym_5                     enc_paym_5\n",
      "35                     enc_paym_6                     enc_paym_6\n",
      "36                     enc_paym_7                     enc_paym_7\n",
      "37                     enc_paym_8                     enc_paym_8\n",
      "38                     enc_paym_9                     enc_paym_9\n",
      "39                    enc_paym_10                    enc_paym_10\n",
      "40                    enc_paym_11                    enc_paym_11\n",
      "41                    enc_paym_12                    enc_paym_12\n",
      "42                    enc_paym_13                    enc_paym_13\n",
      "43                    enc_paym_14                    enc_paym_14\n",
      "44                    enc_paym_15                    enc_paym_15\n",
      "45                    enc_paym_16                    enc_paym_16\n",
      "46                    enc_paym_17                    enc_paym_17\n",
      "47                    enc_paym_18                    enc_paym_18\n",
      "48                    enc_paym_19                    enc_paym_19\n",
      "49                    enc_paym_20                    enc_paym_20\n",
      "50                    enc_paym_21                    enc_paym_21\n",
      "51                    enc_paym_22                    enc_paym_22\n",
      "52                    enc_paym_23                    enc_paym_23\n",
      "53                    enc_paym_24                    enc_paym_24\n",
      "54  enc_loans_account_holder_type  enc_loans_account_holder_type\n",
      "55        enc_loans_credit_status        enc_loans_credit_status\n",
      "56          enc_loans_credit_type          enc_loans_credit_type\n",
      "57          enc_loans_account_cur          enc_loans_account_cur\n",
      "58                    pclose_flag                    pclose_flag\n",
      "59                    fclose_flag                    fclose_flag\n"
     ]
    }
   ],
   "source": [
    "import pandas as pd\n",
    "\n",
    "# Создание DataFrame для лучшей визуализации столбцов\n",
    "train_columns_df = pd.DataFrame({'Train Columns': X_train.columns.tolist()})\n",
    "test_columns_df = pd.DataFrame({'Test Columns': X_test_10000.columns.tolist()})\n",
    "\n",
    "# Если наборы столбцов имеют различное количество, можно объединить их для сравнения\n",
    "combined_columns_df = pd.concat([train_columns_df, test_columns_df], axis=1, sort=False)\n",
    "\n",
    "# Вывод таблицы со столбцами\n",
    "print(combined_columns_df)\n"
   ]
  },
  {
   "cell_type": "code",
   "execution_count": 28,
   "id": "3d725d16-40e7-4e9e-9245-5effefa19a0c",
   "metadata": {
    "tags": []
   },
   "outputs": [
    {
     "name": "stdout",
     "output_type": "stream",
     "text": [
      "Точность (Precision) на новых данных: 0.030224244393890154\n",
      "Полнота (Recall) на новых данных: 0.3\n",
      "F1-мера (F1-Score) на новых данных: 0.05491585473870682\n",
      "AUC-ROC на новых данных: 0.519772260853972\n",
      "Матрица ошибок на новых данных:\n",
      "[[6730 2984]\n",
      " [ 217   93]]\n"
     ]
    }
   ],
   "source": [
    "# Удаляем ненужные столбцы из нового тестового набора данных\n",
    "X_test_10000 = test_10000.drop(columns=['id', 'flag', 'flag_1_count', 'flag_0_count'])\n",
    "\n",
    "# Целевая переменная\n",
    "y_test_10000 = test_10000['flag']\n",
    "\n",
    "\n",
    "predictions_test_10000 = model_xgb.predict(X_test_10000)\n",
    "\n",
    "# Прогнозирование вероятностей для расчёта AUC-ROC\n",
    "probs_test_10000 = model_xgb.predict_proba(X_test_10000)[:, 1]\n",
    "\n",
    "# Вычисление метрик производительности модели на новом тестовом наборе\n",
    "precision_test_10000 = precision_score(y_test_10000, predictions_test_10000)\n",
    "recall_test_10000 = recall_score(y_test_10000, predictions_test_10000)\n",
    "f1_test_10000 = f1_score(y_test_10000, predictions_test_10000)\n",
    "auc_roc_test_10000 = roc_auc_score(y_test_10000, probs_test_10000)\n",
    "\n",
    "# Вычисление матрицы ошибок\n",
    "conf_matrix_test_10000 = confusion_matrix(y_test_10000, predictions_test_10000)\n",
    "\n",
    "# Вывод результатов\n",
    "print(\"Точность (Precision) на новых данных:\", precision_test_10000)\n",
    "print(\"Полнота (Recall) на новых данных:\", recall_test_10000)\n",
    "print(\"F1-мера (F1-Score) на новых данных:\", f1_test_10000)\n",
    "print(\"AUC-ROC на новых данных:\", auc_roc_test_10000)\n",
    "print(\"Матрица ошибок на новых данных:\")\n",
    "print(conf_matrix_test_10000)\n"
   ]
  },
  {
   "cell_type": "code",
   "execution_count": null,
   "id": "c150e0a9-a936-4430-9f4f-0e9a2abcc77a",
   "metadata": {},
   "outputs": [],
   "source": [
    "Точность (Precision) на новых данных: 0.026959914863426748\n",
    "Полнота (Recall) на новых данных: 0.24516129032258063\n",
    "F1-мера (F1-Score) на новых данных: 0.04857782038990093\n",
    "AUC-ROC на новых данных: 0.5095572070905311\n",
    "Матрица ошибок на новых данных:\n",
    "[[6971 2743]\n",
    " [ 234   76]]"
   ]
  },
  {
   "cell_type": "code",
   "execution_count": 39,
   "id": "af5fe7e2-6a44-47a2-9ed2-10f14451030c",
   "metadata": {
    "tags": []
   },
   "outputs": [
    {
     "name": "stdout",
     "output_type": "stream",
     "text": [
      "Accuracy: 0.9762\n",
      "ROC AUC Score: 0.9420671182896422\n",
      "Mean Squared Error (MSE): 0.0238\n"
     ]
    }
   ],
   "source": [
    "from sklearn.metrics import accuracy_score, roc_auc_score, mean_squared_error\n",
    "# Создание DMatrix - структуры данных XGBoost, оптимизированной для производительности и эффективности\n",
    "dtrain = xgb.DMatrix(X_train, label=y_train)\n",
    "dtest = xgb.DMatrix(X_test, label=y_test)\n",
    "\n",
    "# Задание параметров для XGBoost\n",
    "params = {\n",
    "    'max_depth': 7,  # глубина деревьев\n",
    "    'eta': 1,       # скорость обучения\n",
    "    'objective': 'binary:logistic',  # задача бинарной классификации\n",
    "    'eval_metric': 'logloss', # метрика для оценки производительности\n",
    "    'scale_pos_weight': 1   \n",
    "}\n",
    "\n",
    "# Обучение модели\n",
    "num_rounds = 100  # количество итераций бустинга\n",
    "bst = xgb.train(params, dtrain, num_rounds)\n",
    "\n",
    "# Предсказание на тестовых данных\n",
    "y_pred_proba = bst.predict(dtest)\n",
    "y_pred = (y_pred_proba > 0.5).astype(int)  # преобразуем вероятности в бинарные значения\n",
    "\n",
    "# Вывод метрик\n",
    "print(\"Accuracy:\", accuracy_score(y_test, y_pred))\n",
    "print(\"ROC AUC Score:\", roc_auc_score(y_test, y_pred_proba))\n",
    "print(\"Mean Squared Error (MSE):\", mean_squared_error(y_test, y_pred))\n"
   ]
  },
  {
   "cell_type": "code",
   "execution_count": 41,
   "id": "c8787c7a-f826-4f7b-a544-d478bc53976a",
   "metadata": {
    "tags": []
   },
   "outputs": [
    {
     "name": "stdout",
     "output_type": "stream",
     "text": [
      "Точность (Precision) с XGBoost на новых тестовых данных: 0.030224244393890154\n",
      "Полнота (Recall) с XGBoost на новых тестовых данных: 0.3\n",
      "F1-мера (F1-Score) с XGBoost на новых тестовых данных: 0.05491585473870682\n",
      "AUC-ROC с XGBoost на новых тестовых данных: 0.519772260853972\n",
      "Матрица ошибок на новых тестовых данных:\n",
      "[[6730 2984]\n",
      " [ 217   93]]\n"
     ]
    }
   ],
   "source": [
    "# Прогнозирование вероятностей положительного класса для новых тестовых данных\n",
    "probs_xgb_10000 = model_xgb.predict_proba(X_test_10000)[:, 1]\n",
    "\n",
    "# Преобразование вероятностей в бинарные предсказания (0 или 1) с использованием порога 0.5\n",
    "predictions_xgb_10000 = (probs_xgb_10000 > 0.5).astype(int)\n",
    "\n",
    "# Вычисление метрик производительности для новых тестовых данных\n",
    "precision_xgb_10000 = precision_score(y_test_10000, predictions_xgb_10000)\n",
    "recall_xgb_10000 = recall_score(y_test_10000, predictions_xgb_10000)\n",
    "f1_xgb_10000 = f1_score(y_test_10000, predictions_xgb_10000)\n",
    "auc_roc_xgb_10000 = roc_auc_score(y_test_10000, probs_xgb_10000)\n",
    "\n",
    "# Вычисление матрицы ошибок для новых тестовых данных\n",
    "conf_matrix_xgb_10000 = confusion_matrix(y_test_10000, predictions_xgb_10000)\n",
    "\n",
    "# Вывод результатов для новых тестовых данных\n",
    "print(\"Точность (Precision) с XGBoost на новых тестовых данных:\", precision_xgb_10000)\n",
    "print(\"Полнота (Recall) с XGBoost на новых тестовых данных:\", recall_xgb_10000)\n",
    "print(\"F1-мера (F1-Score) с XGBoost на новых тестовых данных:\", f1_xgb_10000)\n",
    "print(\"AUC-ROC с XGBoost на новых тестовых данных:\", auc_roc_xgb_10000)\n",
    "print(\"Матрица ошибок на новых тестовых данных:\")\n",
    "print(conf_matrix_xgb_10000)\n"
   ]
  },
  {
   "cell_type": "code",
   "execution_count": 182,
   "id": "38261238-9880-4313-af04-d790ef93215f",
   "metadata": {
    "tags": []
   },
   "outputs": [
    {
     "data": {
      "text/html": [
       "<div>\n",
       "<style scoped>\n",
       "    .dataframe tbody tr th:only-of-type {\n",
       "        vertical-align: middle;\n",
       "    }\n",
       "\n",
       "    .dataframe tbody tr th {\n",
       "        vertical-align: top;\n",
       "    }\n",
       "\n",
       "    .dataframe thead th {\n",
       "        text-align: right;\n",
       "    }\n",
       "</style>\n",
       "<table border=\"1\" class=\"dataframe\">\n",
       "  <thead>\n",
       "    <tr style=\"text-align: right;\">\n",
       "      <th></th>\n",
       "      <th>rn</th>\n",
       "      <th>pre_since_opened</th>\n",
       "      <th>pre_since_confirmed</th>\n",
       "      <th>pre_pterm</th>\n",
       "      <th>pre_fterm</th>\n",
       "      <th>pre_till_pclose</th>\n",
       "      <th>pre_till_fclose</th>\n",
       "      <th>pre_loans_credit_limit</th>\n",
       "      <th>pre_loans_next_pay_summ</th>\n",
       "      <th>pre_loans_outstanding</th>\n",
       "      <th>...</th>\n",
       "      <th>is_zero_over2limit</th>\n",
       "      <th>is_zero_maxover2limit</th>\n",
       "      <th>enc_paym_9</th>\n",
       "      <th>enc_loans_account_holder_type</th>\n",
       "      <th>enc_loans_credit_status</th>\n",
       "      <th>enc_loans_credit_type</th>\n",
       "      <th>enc_loans_account_cur</th>\n",
       "      <th>pclose_flag</th>\n",
       "      <th>fclose_flag</th>\n",
       "      <th>all_enc_paym</th>\n",
       "    </tr>\n",
       "  </thead>\n",
       "  <tbody>\n",
       "    <tr>\n",
       "      <th>2330946</th>\n",
       "      <td>1</td>\n",
       "      <td>17</td>\n",
       "      <td>9</td>\n",
       "      <td>15</td>\n",
       "      <td>6</td>\n",
       "      <td>11</td>\n",
       "      <td>12</td>\n",
       "      <td>8</td>\n",
       "      <td>3</td>\n",
       "      <td>3</td>\n",
       "      <td>...</td>\n",
       "      <td>1</td>\n",
       "      <td>1</td>\n",
       "      <td>3</td>\n",
       "      <td>1</td>\n",
       "      <td>3</td>\n",
       "      <td>4</td>\n",
       "      <td>1</td>\n",
       "      <td>0</td>\n",
       "      <td>0</td>\n",
       "      <td>54</td>\n",
       "    </tr>\n",
       "    <tr>\n",
       "      <th>2776943</th>\n",
       "      <td>1</td>\n",
       "      <td>5</td>\n",
       "      <td>12</td>\n",
       "      <td>17</td>\n",
       "      <td>11</td>\n",
       "      <td>7</td>\n",
       "      <td>7</td>\n",
       "      <td>4</td>\n",
       "      <td>2</td>\n",
       "      <td>3</td>\n",
       "      <td>...</td>\n",
       "      <td>0</td>\n",
       "      <td>0</td>\n",
       "      <td>3</td>\n",
       "      <td>1</td>\n",
       "      <td>3</td>\n",
       "      <td>3</td>\n",
       "      <td>1</td>\n",
       "      <td>0</td>\n",
       "      <td>0</td>\n",
       "      <td>72</td>\n",
       "    </tr>\n",
       "    <tr>\n",
       "      <th>1999522</th>\n",
       "      <td>1</td>\n",
       "      <td>16</td>\n",
       "      <td>13</td>\n",
       "      <td>9</td>\n",
       "      <td>12</td>\n",
       "      <td>4</td>\n",
       "      <td>9</td>\n",
       "      <td>6</td>\n",
       "      <td>2</td>\n",
       "      <td>3</td>\n",
       "      <td>...</td>\n",
       "      <td>1</td>\n",
       "      <td>1</td>\n",
       "      <td>0</td>\n",
       "      <td>1</td>\n",
       "      <td>3</td>\n",
       "      <td>4</td>\n",
       "      <td>1</td>\n",
       "      <td>0</td>\n",
       "      <td>0</td>\n",
       "      <td>39</td>\n",
       "    </tr>\n",
       "    <tr>\n",
       "      <th>133245</th>\n",
       "      <td>1</td>\n",
       "      <td>14</td>\n",
       "      <td>17</td>\n",
       "      <td>14</td>\n",
       "      <td>7</td>\n",
       "      <td>16</td>\n",
       "      <td>12</td>\n",
       "      <td>16</td>\n",
       "      <td>2</td>\n",
       "      <td>3</td>\n",
       "      <td>...</td>\n",
       "      <td>1</td>\n",
       "      <td>1</td>\n",
       "      <td>0</td>\n",
       "      <td>1</td>\n",
       "      <td>3</td>\n",
       "      <td>4</td>\n",
       "      <td>1</td>\n",
       "      <td>0</td>\n",
       "      <td>0</td>\n",
       "      <td>3</td>\n",
       "    </tr>\n",
       "    <tr>\n",
       "      <th>1431595</th>\n",
       "      <td>1</td>\n",
       "      <td>7</td>\n",
       "      <td>9</td>\n",
       "      <td>14</td>\n",
       "      <td>7</td>\n",
       "      <td>10</td>\n",
       "      <td>4</td>\n",
       "      <td>16</td>\n",
       "      <td>4</td>\n",
       "      <td>3</td>\n",
       "      <td>...</td>\n",
       "      <td>1</td>\n",
       "      <td>1</td>\n",
       "      <td>3</td>\n",
       "      <td>1</td>\n",
       "      <td>2</td>\n",
       "      <td>3</td>\n",
       "      <td>1</td>\n",
       "      <td>0</td>\n",
       "      <td>0</td>\n",
       "      <td>57</td>\n",
       "    </tr>\n",
       "  </tbody>\n",
       "</table>\n",
       "<p>5 rows × 37 columns</p>\n",
       "</div>"
      ],
      "text/plain": [
       "         rn  pre_since_opened  pre_since_confirmed  pre_pterm  pre_fterm  \\\n",
       "2330946   1                17                    9         15          6   \n",
       "2776943   1                 5                   12         17         11   \n",
       "1999522   1                16                   13          9         12   \n",
       "133245    1                14                   17         14          7   \n",
       "1431595   1                 7                    9         14          7   \n",
       "\n",
       "         pre_till_pclose  pre_till_fclose  pre_loans_credit_limit  \\\n",
       "2330946               11               12                       8   \n",
       "2776943                7                7                       4   \n",
       "1999522                4                9                       6   \n",
       "133245                16               12                      16   \n",
       "1431595               10                4                      16   \n",
       "\n",
       "         pre_loans_next_pay_summ  pre_loans_outstanding  ...  \\\n",
       "2330946                        3                      3  ...   \n",
       "2776943                        2                      3  ...   \n",
       "1999522                        2                      3  ...   \n",
       "133245                         2                      3  ...   \n",
       "1431595                        4                      3  ...   \n",
       "\n",
       "         is_zero_over2limit  is_zero_maxover2limit  enc_paym_9  \\\n",
       "2330946                   1                      1           3   \n",
       "2776943                   0                      0           3   \n",
       "1999522                   1                      1           0   \n",
       "133245                    1                      1           0   \n",
       "1431595                   1                      1           3   \n",
       "\n",
       "         enc_loans_account_holder_type  enc_loans_credit_status  \\\n",
       "2330946                              1                        3   \n",
       "2776943                              1                        3   \n",
       "1999522                              1                        3   \n",
       "133245                               1                        3   \n",
       "1431595                              1                        2   \n",
       "\n",
       "         enc_loans_credit_type  enc_loans_account_cur  pclose_flag  \\\n",
       "2330946                      4                      1            0   \n",
       "2776943                      3                      1            0   \n",
       "1999522                      4                      1            0   \n",
       "133245                       4                      1            0   \n",
       "1431595                      3                      1            0   \n",
       "\n",
       "         fclose_flag  all_enc_paym  \n",
       "2330946            0            54  \n",
       "2776943            0            72  \n",
       "1999522            0            39  \n",
       "133245             0             3  \n",
       "1431595            0            57  \n",
       "\n",
       "[5 rows x 37 columns]"
      ]
     },
     "execution_count": 182,
     "metadata": {},
     "output_type": "execute_result"
    }
   ],
   "source": [
    "# Суммируем все признаки, кроме enc_paym_9\n",
    "X_train_selected = X_train.assign(\n",
    "    all_enc_paym=lambda x: x[[f'enc_paym_{i}' for i in range(25) if i != 9]].sum(axis=1)\n",
    ")\n",
    "\n",
    "# Суммируем все признаки, кроме enc_paym_9\n",
    "X_test_selected = X_test.assign(\n",
    "    all_enc_paym=lambda x: x[[f'enc_paym_{i}' for i in range(25) if i != 9]].sum(axis=1)\n",
    ")\n",
    "\n",
    "# Удаляем все признаки enc_paym_0 до enc_paym_24, кроме enc_paym_9\n",
    "X_train_selected = X_train_selected.drop(columns=[f'enc_paym_{i}' for i in range(25) if i != 9])\n",
    "X_test_selected = X_test_selected.drop(columns=[f'enc_paym_{i}' for i in range(25) if i != 9])\n",
    "\n",
    "# Выводим первые несколько строк для проверки\n",
    "X_train_selected.head()\n",
    "\n"
   ]
  },
  {
   "cell_type": "code",
   "execution_count": 179,
   "id": "803df755-637e-4c14-8042-48b2231d7833",
   "metadata": {
    "tags": []
   },
   "outputs": [
    {
     "data": {
      "text/html": [
       "<div>\n",
       "<style scoped>\n",
       "    .dataframe tbody tr th:only-of-type {\n",
       "        vertical-align: middle;\n",
       "    }\n",
       "\n",
       "    .dataframe tbody tr th {\n",
       "        vertical-align: top;\n",
       "    }\n",
       "\n",
       "    .dataframe thead th {\n",
       "        text-align: right;\n",
       "    }\n",
       "</style>\n",
       "<table border=\"1\" class=\"dataframe\">\n",
       "  <thead>\n",
       "    <tr style=\"text-align: right;\">\n",
       "      <th></th>\n",
       "      <th>enc_paym_9</th>\n",
       "      <th>enc_loans_credit_status</th>\n",
       "      <th>is_zero_maxover2limit</th>\n",
       "      <th>rn</th>\n",
       "      <th>pre_till_pclose</th>\n",
       "      <th>pre_since_opened</th>\n",
       "      <th>enc_paym_4</th>\n",
       "      <th>is_zero_over2limit</th>\n",
       "      <th>pre_till_fclose</th>\n",
       "      <th>is_zero_util</th>\n",
       "      <th>...</th>\n",
       "      <th>pre_loans_outstanding</th>\n",
       "      <th>pre_loans_credit_limit</th>\n",
       "      <th>enc_paym_19</th>\n",
       "      <th>fclose_flag</th>\n",
       "      <th>enc_paym_3</th>\n",
       "      <th>is_zero_loans6090</th>\n",
       "      <th>pclose_flag</th>\n",
       "      <th>enc_paym_0</th>\n",
       "      <th>enc_loans_account_holder_type</th>\n",
       "      <th>is_zero_loans3060</th>\n",
       "    </tr>\n",
       "  </thead>\n",
       "  <tbody>\n",
       "    <tr>\n",
       "      <th>2330946</th>\n",
       "      <td>3</td>\n",
       "      <td>3</td>\n",
       "      <td>1</td>\n",
       "      <td>1</td>\n",
       "      <td>11</td>\n",
       "      <td>17</td>\n",
       "      <td>0</td>\n",
       "      <td>1</td>\n",
       "      <td>12</td>\n",
       "      <td>1</td>\n",
       "      <td>...</td>\n",
       "      <td>3</td>\n",
       "      <td>8</td>\n",
       "      <td>3</td>\n",
       "      <td>0</td>\n",
       "      <td>0</td>\n",
       "      <td>1</td>\n",
       "      <td>0</td>\n",
       "      <td>0</td>\n",
       "      <td>1</td>\n",
       "      <td>1</td>\n",
       "    </tr>\n",
       "    <tr>\n",
       "      <th>2776943</th>\n",
       "      <td>3</td>\n",
       "      <td>3</td>\n",
       "      <td>0</td>\n",
       "      <td>1</td>\n",
       "      <td>7</td>\n",
       "      <td>5</td>\n",
       "      <td>3</td>\n",
       "      <td>0</td>\n",
       "      <td>7</td>\n",
       "      <td>0</td>\n",
       "      <td>...</td>\n",
       "      <td>3</td>\n",
       "      <td>4</td>\n",
       "      <td>3</td>\n",
       "      <td>0</td>\n",
       "      <td>3</td>\n",
       "      <td>1</td>\n",
       "      <td>0</td>\n",
       "      <td>0</td>\n",
       "      <td>1</td>\n",
       "      <td>1</td>\n",
       "    </tr>\n",
       "    <tr>\n",
       "      <th>1999522</th>\n",
       "      <td>0</td>\n",
       "      <td>3</td>\n",
       "      <td>1</td>\n",
       "      <td>1</td>\n",
       "      <td>4</td>\n",
       "      <td>16</td>\n",
       "      <td>0</td>\n",
       "      <td>1</td>\n",
       "      <td>9</td>\n",
       "      <td>1</td>\n",
       "      <td>...</td>\n",
       "      <td>3</td>\n",
       "      <td>6</td>\n",
       "      <td>3</td>\n",
       "      <td>0</td>\n",
       "      <td>0</td>\n",
       "      <td>1</td>\n",
       "      <td>0</td>\n",
       "      <td>0</td>\n",
       "      <td>1</td>\n",
       "      <td>1</td>\n",
       "    </tr>\n",
       "    <tr>\n",
       "      <th>133245</th>\n",
       "      <td>0</td>\n",
       "      <td>3</td>\n",
       "      <td>1</td>\n",
       "      <td>1</td>\n",
       "      <td>16</td>\n",
       "      <td>14</td>\n",
       "      <td>0</td>\n",
       "      <td>1</td>\n",
       "      <td>12</td>\n",
       "      <td>1</td>\n",
       "      <td>...</td>\n",
       "      <td>3</td>\n",
       "      <td>16</td>\n",
       "      <td>0</td>\n",
       "      <td>0</td>\n",
       "      <td>0</td>\n",
       "      <td>1</td>\n",
       "      <td>0</td>\n",
       "      <td>0</td>\n",
       "      <td>1</td>\n",
       "      <td>1</td>\n",
       "    </tr>\n",
       "    <tr>\n",
       "      <th>1431595</th>\n",
       "      <td>3</td>\n",
       "      <td>2</td>\n",
       "      <td>1</td>\n",
       "      <td>1</td>\n",
       "      <td>10</td>\n",
       "      <td>7</td>\n",
       "      <td>0</td>\n",
       "      <td>1</td>\n",
       "      <td>4</td>\n",
       "      <td>0</td>\n",
       "      <td>...</td>\n",
       "      <td>3</td>\n",
       "      <td>16</td>\n",
       "      <td>3</td>\n",
       "      <td>0</td>\n",
       "      <td>0</td>\n",
       "      <td>1</td>\n",
       "      <td>0</td>\n",
       "      <td>0</td>\n",
       "      <td>1</td>\n",
       "      <td>1</td>\n",
       "    </tr>\n",
       "    <tr>\n",
       "      <th>...</th>\n",
       "      <td>...</td>\n",
       "      <td>...</td>\n",
       "      <td>...</td>\n",
       "      <td>...</td>\n",
       "      <td>...</td>\n",
       "      <td>...</td>\n",
       "      <td>...</td>\n",
       "      <td>...</td>\n",
       "      <td>...</td>\n",
       "      <td>...</td>\n",
       "      <td>...</td>\n",
       "      <td>...</td>\n",
       "      <td>...</td>\n",
       "      <td>...</td>\n",
       "      <td>...</td>\n",
       "      <td>...</td>\n",
       "      <td>...</td>\n",
       "      <td>...</td>\n",
       "      <td>...</td>\n",
       "      <td>...</td>\n",
       "      <td>...</td>\n",
       "    </tr>\n",
       "    <tr>\n",
       "      <th>1692743</th>\n",
       "      <td>0</td>\n",
       "      <td>2</td>\n",
       "      <td>1</td>\n",
       "      <td>1</td>\n",
       "      <td>14</td>\n",
       "      <td>2</td>\n",
       "      <td>0</td>\n",
       "      <td>1</td>\n",
       "      <td>8</td>\n",
       "      <td>0</td>\n",
       "      <td>...</td>\n",
       "      <td>3</td>\n",
       "      <td>5</td>\n",
       "      <td>3</td>\n",
       "      <td>0</td>\n",
       "      <td>0</td>\n",
       "      <td>1</td>\n",
       "      <td>0</td>\n",
       "      <td>0</td>\n",
       "      <td>1</td>\n",
       "      <td>1</td>\n",
       "    </tr>\n",
       "    <tr>\n",
       "      <th>2356330</th>\n",
       "      <td>0</td>\n",
       "      <td>3</td>\n",
       "      <td>1</td>\n",
       "      <td>4</td>\n",
       "      <td>11</td>\n",
       "      <td>17</td>\n",
       "      <td>0</td>\n",
       "      <td>1</td>\n",
       "      <td>0</td>\n",
       "      <td>1</td>\n",
       "      <td>...</td>\n",
       "      <td>3</td>\n",
       "      <td>19</td>\n",
       "      <td>3</td>\n",
       "      <td>0</td>\n",
       "      <td>1</td>\n",
       "      <td>1</td>\n",
       "      <td>0</td>\n",
       "      <td>0</td>\n",
       "      <td>1</td>\n",
       "      <td>1</td>\n",
       "    </tr>\n",
       "    <tr>\n",
       "      <th>2229084</th>\n",
       "      <td>0</td>\n",
       "      <td>3</td>\n",
       "      <td>1</td>\n",
       "      <td>1</td>\n",
       "      <td>5</td>\n",
       "      <td>0</td>\n",
       "      <td>0</td>\n",
       "      <td>1</td>\n",
       "      <td>11</td>\n",
       "      <td>1</td>\n",
       "      <td>...</td>\n",
       "      <td>3</td>\n",
       "      <td>0</td>\n",
       "      <td>3</td>\n",
       "      <td>1</td>\n",
       "      <td>0</td>\n",
       "      <td>1</td>\n",
       "      <td>0</td>\n",
       "      <td>0</td>\n",
       "      <td>1</td>\n",
       "      <td>1</td>\n",
       "    </tr>\n",
       "    <tr>\n",
       "      <th>2768307</th>\n",
       "      <td>3</td>\n",
       "      <td>2</td>\n",
       "      <td>1</td>\n",
       "      <td>2</td>\n",
       "      <td>1</td>\n",
       "      <td>9</td>\n",
       "      <td>0</td>\n",
       "      <td>1</td>\n",
       "      <td>11</td>\n",
       "      <td>0</td>\n",
       "      <td>...</td>\n",
       "      <td>3</td>\n",
       "      <td>3</td>\n",
       "      <td>3</td>\n",
       "      <td>1</td>\n",
       "      <td>0</td>\n",
       "      <td>1</td>\n",
       "      <td>0</td>\n",
       "      <td>0</td>\n",
       "      <td>1</td>\n",
       "      <td>1</td>\n",
       "    </tr>\n",
       "    <tr>\n",
       "      <th>2219110</th>\n",
       "      <td>0</td>\n",
       "      <td>3</td>\n",
       "      <td>1</td>\n",
       "      <td>5</td>\n",
       "      <td>16</td>\n",
       "      <td>0</td>\n",
       "      <td>0</td>\n",
       "      <td>1</td>\n",
       "      <td>12</td>\n",
       "      <td>1</td>\n",
       "      <td>...</td>\n",
       "      <td>3</td>\n",
       "      <td>0</td>\n",
       "      <td>0</td>\n",
       "      <td>0</td>\n",
       "      <td>0</td>\n",
       "      <td>1</td>\n",
       "      <td>0</td>\n",
       "      <td>0</td>\n",
       "      <td>1</td>\n",
       "      <td>1</td>\n",
       "    </tr>\n",
       "  </tbody>\n",
       "</table>\n",
       "<p>2400000 rows × 36 columns</p>\n",
       "</div>"
      ],
      "text/plain": [
       "         enc_paym_9  enc_loans_credit_status  is_zero_maxover2limit  rn  \\\n",
       "2330946           3                        3                      1   1   \n",
       "2776943           3                        3                      0   1   \n",
       "1999522           0                        3                      1   1   \n",
       "133245            0                        3                      1   1   \n",
       "1431595           3                        2                      1   1   \n",
       "...             ...                      ...                    ...  ..   \n",
       "1692743           0                        2                      1   1   \n",
       "2356330           0                        3                      1   4   \n",
       "2229084           0                        3                      1   1   \n",
       "2768307           3                        2                      1   2   \n",
       "2219110           0                        3                      1   5   \n",
       "\n",
       "         pre_till_pclose  pre_since_opened  enc_paym_4  is_zero_over2limit  \\\n",
       "2330946               11                17           0                   1   \n",
       "2776943                7                 5           3                   0   \n",
       "1999522                4                16           0                   1   \n",
       "133245                16                14           0                   1   \n",
       "1431595               10                 7           0                   1   \n",
       "...                  ...               ...         ...                 ...   \n",
       "1692743               14                 2           0                   1   \n",
       "2356330               11                17           0                   1   \n",
       "2229084                5                 0           0                   1   \n",
       "2768307                1                 9           0                   1   \n",
       "2219110               16                 0           0                   1   \n",
       "\n",
       "         pre_till_fclose  is_zero_util  ...  pre_loans_outstanding  \\\n",
       "2330946               12             1  ...                      3   \n",
       "2776943                7             0  ...                      3   \n",
       "1999522                9             1  ...                      3   \n",
       "133245                12             1  ...                      3   \n",
       "1431595                4             0  ...                      3   \n",
       "...                  ...           ...  ...                    ...   \n",
       "1692743                8             0  ...                      3   \n",
       "2356330                0             1  ...                      3   \n",
       "2229084               11             1  ...                      3   \n",
       "2768307               11             0  ...                      3   \n",
       "2219110               12             1  ...                      3   \n",
       "\n",
       "         pre_loans_credit_limit  enc_paym_19  fclose_flag  enc_paym_3  \\\n",
       "2330946                       8            3            0           0   \n",
       "2776943                       4            3            0           3   \n",
       "1999522                       6            3            0           0   \n",
       "133245                       16            0            0           0   \n",
       "1431595                      16            3            0           0   \n",
       "...                         ...          ...          ...         ...   \n",
       "1692743                       5            3            0           0   \n",
       "2356330                      19            3            0           1   \n",
       "2229084                       0            3            1           0   \n",
       "2768307                       3            3            1           0   \n",
       "2219110                       0            0            0           0   \n",
       "\n",
       "         is_zero_loans6090  pclose_flag  enc_paym_0  \\\n",
       "2330946                  1            0           0   \n",
       "2776943                  1            0           0   \n",
       "1999522                  1            0           0   \n",
       "133245                   1            0           0   \n",
       "1431595                  1            0           0   \n",
       "...                    ...          ...         ...   \n",
       "1692743                  1            0           0   \n",
       "2356330                  1            0           0   \n",
       "2229084                  1            0           0   \n",
       "2768307                  1            0           0   \n",
       "2219110                  1            0           0   \n",
       "\n",
       "         enc_loans_account_holder_type  is_zero_loans3060  \n",
       "2330946                              1                  1  \n",
       "2776943                              1                  1  \n",
       "1999522                              1                  1  \n",
       "133245                               1                  1  \n",
       "1431595                              1                  1  \n",
       "...                                ...                ...  \n",
       "1692743                              1                  1  \n",
       "2356330                              1                  1  \n",
       "2229084                              1                  1  \n",
       "2768307                              1                  1  \n",
       "2219110                              1                  1  \n",
       "\n",
       "[2400000 rows x 36 columns]"
      ]
     },
     "execution_count": 179,
     "metadata": {},
     "output_type": "execute_result"
    }
   ],
   "source": [
    "X_train_selected"
   ]
  },
  {
   "cell_type": "code",
   "execution_count": 183,
   "id": "5917c529-cedc-4f74-b39c-1679e7603568",
   "metadata": {
    "tags": []
   },
   "outputs": [
    {
     "name": "stdout",
     "output_type": "stream",
     "text": [
      "Точность (Precision) с XGBoost (после удаления неважных признаков): 0.25918372648862104\n",
      "Полнота (Recall) с XGBoost (после удаления неважных признаков): 0.9419345701741962\n",
      "F1-мера (F1-Score) с XGBoost (после удаления неважных признаков): 0.40651135310236636\n",
      "ROC AUC с XGBoost (после удаления неважных признаков): 0.9687413690289239\n",
      "Матрица ошибок:\n",
      " [[521786  57031]\n",
      " [  1230  19953]]\n"
     ]
    }
   ],
   "source": [
    "import xgboost as xgb\n",
    "import pandas as pd\n",
    "from sklearn.model_selection import train_test_split\n",
    "from sklearn.metrics import precision_score, recall_score, f1_score, confusion_matrix, roc_auc_score, roc_curve\n",
    "\n",
    "# Предположим, что у вас уже есть DataFrame feature_importance_df\n",
    "\n",
    "# Выбор признаков с важностью выше 0.01\n",
    "#selected_features = feature_importance_df[feature_importance_df['Importance'] >= 0.002]['Feature']\n",
    "\n",
    "# Отбор только выбранных признаков в тренировочном и тестовом наборах данных\n",
    "X_train_selected = X_train[selected_features]\n",
    "X_test_selected = X_test[selected_features]\n",
    "\n",
    "# Обучение модели на выбранных признаках\n",
    "model_xgb_selected = xgb.XGBClassifier()\n",
    "model_xgb_selected.fit(X_train_selected, y_train)\n",
    "\n",
    "# Предсказание вероятностей на тестовых данных\n",
    "probabilities_xgb_selected = model_xgb_selected.predict_proba(X_test_selected)[:, 1]\n",
    "\n",
    "# Подсчет оптимального порога для ROC AUC\n",
    "fpr, tpr, thresholds = roc_curve(y_test, probabilities_xgb_selected)\n",
    "optimal_threshold_roc_auc = thresholds[np.argmax(tpr - fpr)]\n",
    "\n",
    "# Применение оптимального порога для ROC AUC\n",
    "predicted_labels_xgb_selected = (probabilities_xgb_selected > optimal_threshold_roc_auc).astype(int)\n",
    "\n",
    "# Вычисление метрик производительности\n",
    "precision_xgb_selected = precision_score(y_test, predicted_labels_xgb_selected)\n",
    "recall_xgb_selected = recall_score(y_test, predicted_labels_xgb_selected)\n",
    "f1_xgb_selected = f1_score(y_test, predicted_labels_xgb_selected)\n",
    "roc_auc = roc_auc_score(y_test, probabilities_xgb_selected)\n",
    "conf_matrix = confusion_matrix(y_test, predicted_labels_xgb_selected)\n",
    "\n",
    "# Вывод результатов\n",
    "print(\"Точность (Precision) с XGBoost (после удаления неважных признаков):\", precision_xgb_selected)\n",
    "print(\"Полнота (Recall) с XGBoost (после удаления неважных признаков):\", recall_xgb_selected)\n",
    "print(\"F1-мера (F1-Score) с XGBoost (после удаления неважных признаков):\", f1_xgb_selected)\n",
    "print(\"ROC AUC с XGBoost (после удаления неважных признаков):\", roc_auc)\n",
    "print(\"Матрица ошибок:\\n\", conf_matrix)\n"
   ]
  },
  {
   "cell_type": "code",
   "execution_count": null,
   "id": "69836bb3-7e55-4ce5-9c3a-4f2064ce25e8",
   "metadata": {},
   "outputs": [],
   "source": [
    "Точность (Precision) с XGBoost (после удаления неважных признаков): 0.25918372648862104\n",
    "Полнота (Recall) с XGBoost (после удаления неважных признаков): 0.9419345701741962\n",
    "F1-мера (F1-Score) с XGBoost (после удаления неважных признаков): 0.40651135310236636\n",
    "ROC AUC с XGBoost (после удаления неважных признаков): 0.9687413690289239\n",
    "Матрица ошибок:\n",
    " [[521786  57031]\n",
    " [  1230  19953]]"
   ]
  },
  {
   "cell_type": "code",
   "execution_count": 185,
   "id": "1fef8ba0-ba99-4c1d-a9d3-aa9736c73463",
   "metadata": {
    "tags": []
   },
   "outputs": [
    {
     "name": "stdout",
     "output_type": "stream",
     "text": [
      "                          Feature  Importance\n",
      "0                      enc_paym_9    0.781263\n",
      "1         enc_loans_credit_status    0.083668\n",
      "5                pre_since_opened    0.009986\n",
      "3                              rn    0.009476\n",
      "2           is_zero_maxover2limit    0.009301\n",
      "4                 pre_till_pclose    0.008429\n",
      "8                 pre_till_fclose    0.007294\n",
      "9                    is_zero_util    0.006242\n",
      "6                      enc_paym_4    0.005952\n",
      "12                is_zero_loans90    0.005692\n",
      "14               is_zero_loans530    0.004464\n",
      "25                    enc_paym_10    0.004382\n",
      "10                    enc_paym_20    0.004343\n",
      "7              is_zero_over2limit    0.004291\n",
      "11                    enc_paym_23    0.004121\n",
      "20                     enc_paym_5    0.003520\n",
      "15          enc_loans_credit_type    0.003310\n",
      "16     pre_loans_credit_cost_rate    0.003185\n",
      "18                     enc_paym_2    0.003125\n",
      "23                 is_zero_loans5    0.002875\n",
      "19                     enc_paym_7    0.002866\n",
      "13                     enc_paym_6    0.002841\n",
      "17                    enc_paym_15    0.002701\n",
      "21                     enc_paym_1    0.002385\n",
      "29                    fclose_flag    0.002223\n",
      "34  enc_loans_account_holder_type    0.002217\n",
      "30                     enc_paym_3    0.002206\n",
      "26          pre_loans_outstanding    0.002192\n",
      "22                       pre_util    0.002169\n",
      "33                     enc_paym_0    0.002123\n",
      "27         pre_loans_credit_limit    0.002106\n",
      "28                    enc_paym_19    0.002023\n",
      "32                    pclose_flag    0.001905\n",
      "24                    enc_paym_22    0.001755\n",
      "31              is_zero_loans6090    0.001723\n",
      "35              is_zero_loans3060    0.001645\n"
     ]
    }
   ],
   "source": [
    "# Получение важности признаков\n",
    "feature_importance = model_xgb_selected.feature_importances_\n",
    "\n",
    "# Создание DataFrame с признаками и их важностью\n",
    "feature_importance_df = pd.DataFrame({'Feature': X_train_selected.columns, 'Importance': feature_importance})\n",
    "\n",
    "# Сортировка признаков по важности\n",
    "feature_importance_df = feature_importance_df.sort_values(by='Importance', ascending=False)\n",
    "\n",
    "# Вывод признаков в порядке убывания их важности\n",
    "print(feature_importance_df)\n"
   ]
  },
  {
   "cell_type": "code",
   "execution_count": 125,
   "id": "d7c7a013-4313-46c3-9763-cdbd5c66e3b1",
   "metadata": {
    "tags": []
   },
   "outputs": [
    {
     "data": {
      "text/plain": [
       "27.14952087169683"
      ]
     },
     "execution_count": 125,
     "metadata": {},
     "output_type": "execute_result"
    }
   ],
   "source": [
    "# Создание объекта модели XGBoost с учетом дисбаланса классов\n",
    "# Определим вес положительного класса, который будет равен отношению числа отрицательных к положительным примерам\n",
    "weight_positive = len(y_train[y_train == 0]) / len(y_train[y_train == 1])\n",
    "\n",
    "weight_positive"
   ]
  },
  {
   "cell_type": "code",
   "execution_count": 126,
   "id": "e749352f-b455-4d4c-8a38-e1e4e34660f2",
   "metadata": {
    "tags": []
   },
   "outputs": [
    {
     "name": "stdout",
     "output_type": "stream",
     "text": [
      "Точность (Precision) с XGBoost: 0.26558276461929614\n",
      "Полнота (Recall) с XGBoost: 0.9369305575225416\n",
      "F1-мера (F1-Score) с XGBoost: 0.41385422205540434\n",
      "AUC-ROC с XGBoost: 0.9682033104545528\n",
      "Матрица ошибок:\n",
      "[[523934  54883]\n",
      " [  1336  19847]]\n"
     ]
    }
   ],
   "source": [
    "import xgboost as xgb\n",
    "\n",
    "\n",
    "model_xgb = xgb.XGBClassifier(scale_pos_weight=weight_positive)\n",
    "\n",
    "# Обучение модели на тренировочных данных\n",
    "model_xgb.fit(X_train, y_train)\n",
    "\n",
    "# Прогнозирование на тестовых данных\n",
    "predictions_xgb = model_xgb.predict(X_test)\n",
    "\n",
    "# Вычисление метрик производительности модели\n",
    "precision_xgb = precision_score(y_test, predictions_xgb)\n",
    "recall_xgb = recall_score(y_test, predictions_xgb)\n",
    "f1_xgb = f1_score(y_test, predictions_xgb)\n",
    "auc_roc_xgb = roc_auc_score(y_test, model_xgb.predict_proba(X_test)[:, 1])\n",
    "\n",
    "# Вычисление матрицы ошибок\n",
    "conf_matrix = confusion_matrix(y_test, predictions_xgb)\n",
    "\n",
    "# Вывод результатов\n",
    "print(\"Точность (Precision) с XGBoost:\", precision_xgb)\n",
    "print(\"Полнота (Recall) с XGBoost:\", recall_xgb)\n",
    "print(\"F1-мера (F1-Score) с XGBoost:\", f1_xgb)\n",
    "print(\"AUC-ROC с XGBoost:\", auc_roc_xgb)\n",
    "print(\"Матрица ошибок:\")\n",
    "print(conf_matrix)\n"
   ]
  },
  {
   "cell_type": "code",
   "execution_count": null,
   "id": "4f36173c-bb57-479c-a114-1ae849f19d0f",
   "metadata": {},
   "outputs": [],
   "source": []
  },
  {
   "cell_type": "code",
   "execution_count": 25,
   "id": "1ffd440f-64ed-48ed-bbb3-b6cb07851379",
   "metadata": {
    "tags": []
   },
   "outputs": [
    {
     "name": "stdout",
     "output_type": "stream",
     "text": [
      "Загрузка файла: better_df.csv\\part-00000-88d3c91c-a11c-490f-bac6-82b24c6d9220-c000.csv\n",
      "Загрузка файла: better_df.csv\\part-00001-88d3c91c-a11c-490f-bac6-82b24c6d9220-c000.csv\n",
      "Загрузка файла: better_df.csv\\part-00002-88d3c91c-a11c-490f-bac6-82b24c6d9220-c000.csv\n",
      "Загрузка файла: better_df.csv\\part-00003-88d3c91c-a11c-490f-bac6-82b24c6d9220-c000.csv\n",
      "Загрузка файла: better_df.csv\\part-00004-88d3c91c-a11c-490f-bac6-82b24c6d9220-c000.csv\n",
      "Загрузка файла: better_df.csv\\part-00005-88d3c91c-a11c-490f-bac6-82b24c6d9220-c000.csv\n",
      "Скачивание завершено. Общее количество строк в объединенном DataFrame: 3000000\n"
     ]
    }
   ],
   "source": [
    "import pandas as pd\n",
    "import os\n",
    "\n",
    "# Пути к директориям и файлам\n",
    "\n",
    "csv_dir = \"better_df.csv\"\n",
    "csv_path = \"better_df.csv\"\n",
    "\n",
    "# Список для хранения загруженных DataFrame\n",
    "dfs = []\n",
    "\n",
    "# Итерация по всем CSV-файлам в директории\n",
    "for root, dirs, files in os.walk(csv_path):\n",
    "    for file in files:\n",
    "        if file.endswith(\".csv\"):\n",
    "            file_path = os.path.join(root, file)\n",
    "            print(f\"Загрузка файла: {file_path}\")\n",
    "            # Чтение CSV-файла в DataFrame и добавление его в список\n",
    "            df = pd.read_csv(file_path)\n",
    "            dfs.append(df)\n",
    "\n",
    "# Объединение всех DataFrame из списка в один\n",
    "shuffled_combined_df = pd.concat(dfs, ignore_index=True)\n",
    "\n",
    "# Вывод информации о ходе скачивания\n",
    "print(\"Скачивание завершено. Общее количество строк в объединенном DataFrame:\", len(shuffled_combined_df))\n"
   ]
  },
  {
   "cell_type": "code",
   "execution_count": null,
   "id": "fcee774d-27bc-4264-87d8-679473ddb233",
   "metadata": {},
   "outputs": [],
   "source": []
  },
  {
   "cell_type": "code",
   "execution_count": 26,
   "id": "047a9599-7ee5-4642-827b-90fcf0809dbe",
   "metadata": {
    "tags": []
   },
   "outputs": [
    {
     "name": "stdout",
     "output_type": "stream",
     "text": [
      "Accuracy: 0.9710366666666667\n",
      "Precision: 0.7794075761891199\n",
      "Recall: 0.2569242324664351\n",
      "F1 Score: 0.38645671515322694\n",
      "ROC AUC Score: 0.6271237670424479\n"
     ]
    },
    {
     "data": {
      "image/png": "[encoded data removed]",
      "text/plain": [
       "<Figure size 800x600 with 1 Axes>"
      ]
     },
     "metadata": {},
     "output_type": "display_data"
    }
   ],
   "source": [
    "import pandas as pd\n",
    "from sklearn.model_selection import train_test_split\n",
    "from sklearn.linear_model import LogisticRegression\n",
    "from sklearn.metrics import accuracy_score, precision_score, recall_score, f1_score, roc_auc_score, roc_curve\n",
    "import matplotlib.pyplot as plt\n",
    "\n",
    "# Предположим, что shuffled_combined_df - это ваш DataFrame\n",
    "\n",
    "# Разделение данных на признаки (X) и целевую переменную (y)\n",
    "X = shuffled_combined_df.drop(columns=['id', 'flag', 'flag_1_count', 'flag_0_count'])\n",
    "y = shuffled_combined_df['flag']\n",
    "\n",
    "# Разделение данных на обучающий и тестовый наборы\n",
    "X_train, X_test, y_train, y_test = train_test_split(X, y, test_size=0.2, random_state=42)\n",
    "\n",
    "# Обучение логистической регрессии\n",
    "model = LogisticRegression()\n",
    "model.fit(X_train, y_train)\n",
    "\n",
    "# Предсказание на тестовом наборе\n",
    "y_pred = model.predict(X_test)\n",
    "\n",
    "# Вычисление метрик\n",
    "accuracy = accuracy_score(y_test, y_pred)\n",
    "precision = precision_score(y_test, y_pred)\n",
    "recall = recall_score(y_test, y_pred)\n",
    "f1 = f1_score(y_test, y_pred)\n",
    "roc_auc = roc_auc_score(y_test, y_pred)\n",
    "\n",
    "# Вывод метрик\n",
    "print(\"Accuracy:\", accuracy)\n",
    "print(\"Precision:\", precision)\n",
    "print(\"Recall:\", recall)\n",
    "print(\"F1 Score:\", f1)\n",
    "print(\"ROC AUC Score:\", roc_auc)\n",
    "\n",
    "# Вычисление ROC-кривой и площади под кривой (AUC)\n",
    "fpr, tpr, thresholds = roc_curve(y_test, y_pred)\n",
    "\n",
    "# Построение ROC-кривой\n",
    "plt.figure(figsize=(8, 6))\n",
    "plt.plot(fpr, tpr, label='ROC Curve (area = %0.2f)' % roc_auc)\n",
    "plt.plot([0, 1], [0, 1], 'k--')  # случайное угадывание\n",
    "plt.xlim([0.0, 1.0])\n",
    "plt.ylim([0.0, 1.05])\n",
    "plt.xlabel('False Positive Rate')\n",
    "plt.ylabel('True Positive Rate')\n",
    "plt.title('Receiver Operating Characteristic (ROC) Curve')\n",
    "plt.legend(loc=\"lower right\")\n",
    "plt.show()\n"
   ]
  },
  {
   "cell_type": "code",
   "execution_count": 27,
   "id": "5d079270-59e6-4d7b-83be-8cdc05346738",
   "metadata": {
    "tags": []
   },
   "outputs": [
    {
     "name": "stdout",
     "output_type": "stream",
     "text": [
      "Точность (Precision) с XGBoost: 0.7634142994373542\n",
      "Полнота (Recall) с XGBoost: 0.5222983757393672\n",
      "F1-мера (F1-Score) с XGBoost: 0.6202475192329134\n",
      "AUC-ROC с XGBoost: 0.9538401337735487\n",
      "Матрица ошибок:\n",
      "[[575250   3448]\n",
      " [ 10176  11126]]\n"
     ]
    }
   ],
   "source": [
    "import xgboost as xgb\n",
    "from sklearn.metrics import confusion_matrix, precision_score, recall_score, f1_score, roc_auc_score\n",
    "\n",
    "\n",
    "model_xgb = xgb.XGBClassifier()\n",
    "\n",
    "# Обучение модели на тренировочных данных\n",
    "model_xgb.fit(X_train, y_train)\n",
    "\n",
    "# Прогнозирование на тестовых данных\n",
    "predictions_xgb = model_xgb.predict(X_test)\n",
    "\n",
    "# Вычисление метрик производительности модели\n",
    "precision_xgb = precision_score(y_test, predictions_xgb)\n",
    "recall_xgb = recall_score(y_test, predictions_xgb)\n",
    "f1_xgb = f1_score(y_test, predictions_xgb)\n",
    "auc_roc_xgb = roc_auc_score(y_test, model_xgb.predict_proba(X_test)[:, 1])\n",
    "\n",
    "# Вычисление матрицы ошибок\n",
    "conf_matrix = confusion_matrix(y_test, predictions_xgb)\n",
    "\n",
    "# Вывод результатов\n",
    "print(\"Точность (Precision) с XGBoost:\", precision_xgb)\n",
    "print(\"Полнота (Recall) с XGBoost:\", recall_xgb)\n",
    "print(\"F1-мера (F1-Score) с XGBoost:\", f1_xgb)\n",
    "print(\"AUC-ROC с XGBoost:\", auc_roc_xgb)\n",
    "print(\"Матрица ошибок:\")\n",
    "print(conf_matrix)\n"
   ]
  },
  {
   "cell_type": "code",
   "execution_count": null,
   "id": "b934fe89-e2eb-448c-a080-26e04ae222f2",
   "metadata": {},
   "outputs": [],
   "source": [
    "Точность (Precision) с XGBoost: 0.7647706169612766\n",
    "Полнота (Recall) с XGBoost: 0.5219697680968923\n",
    "F1-мера (F1-Score) с XGBoost: 0.6204625986998131\n",
    "AUC-ROC с XGBoost: 0.953849254899969\n",
    "Матрица ошибок:\n",
    "[[575278   3420]\n",
    " [ 10183  11119]]"
   ]
  },
  {
   "cell_type": "code",
   "execution_count": 196,
   "id": "99cab4b8-1834-44c6-ba76-7278e53bea25",
   "metadata": {},
   "outputs": [
    {
     "data": {
      "image/png": "[encoded data removed]",
      "text/plain": [
       "<Figure size 1200x1000 with 2 Axes>"
      ]
     },
     "metadata": {},
     "output_type": "display_data"
    }
   ],
   "source": [
    "import seaborn as sns\n",
    "import matplotlib.pyplot as plt\n",
    "\n",
    "# Вычисляем матрицу корреляции\n",
    "corr_matrix = X.corr()\n",
    "\n",
    "# Создаем тепловую карту\n",
    "plt.figure(figsize=(12, 10))\n",
    "sns.heatmap(corr_matrix, annot=False, cmap='coolwarm', fmt=\".2f\", linewidths=.5)\n",
    "plt.title('Корреляция между признаками в shuffled_combined_df')\n",
    "plt.show()\n"
   ]
  },
  {
   "cell_type": "code",
   "execution_count": 197,
   "id": "e08afbad-e109-48f6-9e2b-9e50d4b6d839",
   "metadata": {
    "tags": []
   },
   "outputs": [
    {
     "data": {
      "image/png": "[encoded data removed]",
      "text/plain": [
       "<Figure size 1500x1200 with 2 Axes>"
      ]
     },
     "metadata": {},
     "output_type": "display_data"
    }
   ],
   "source": [
    "import numpy as np\n",
    "\n",
    "# Определяем значение порога для корреляции\n",
    "threshold = 0.8\n",
    "\n",
    "# Создаем тепловую карту\n",
    "plt.figure(figsize=(15, 12))\n",
    "sns.heatmap(corr_matrix, annot=False, cmap='coolwarm', fmt=\".2f\", linewidths=.5,\n",
    "            mask=np.abs(corr_matrix) <= threshold, cbar_kws={'label': 'Корреляция'})\n",
    "plt.title('Корреляция между признаками в shuffled_combined_df')\n",
    "plt.grid(True)\n",
    "plt.show()\n"
   ]
  },
  {
   "cell_type": "code",
   "execution_count": 195,
   "id": "0cae064d-3488-421d-a6d3-dfcb9c221156",
   "metadata": {
    "tags": []
   },
   "outputs": [],
   "source": [
    "# Разделение данных на признаки (X) и целевую переменную (y)\n",
    "X = shuffled_combined_df.drop(columns=['id', 'flag', 'flag_1_count', 'flag_0_count', 'is_zero_over2limit'])\n",
    "y = shuffled_combined_df['flag']\n",
    "\n",
    "# Разделение данных на обучающий и тестовый наборы\n",
    "X_train, X_test, y_train, y_test = train_test_split(X, y, test_size=0.2, random_state=42)"
   ]
  },
  {
   "cell_type": "code",
   "execution_count": 193,
   "id": "d79b5cad-6a5a-4efd-8327-d60efa410939",
   "metadata": {
    "tags": []
   },
   "outputs": [],
   "source": [
    "# Выбираем все признаки enc_paym_{1....24} кроме enc_paym_9 для сложения\n",
    "columns_to_sum = [f'enc_paym_{i}' for i in range(0, 25) if i != 9]\n",
    "\n",
    "# Сложение всех выбранных признаков и добавление в новый признак\n",
    "shuffled_combined_df['enc_paym_sum'] = shuffled_combined_df[columns_to_sum].sum(axis=1)\n",
    "\n",
    "# Удаление остальных признаков\n",
    "shuffled_combined_df.drop(columns=columns_to_sum, inplace=True)\n"
   ]
  },
  {
   "cell_type": "code",
   "execution_count": 194,
   "id": "aa39f089-8413-4435-aa78-574fd169d9cc",
   "metadata": {
    "tags": []
   },
   "outputs": [
    {
     "data": {
      "text/plain": [
       "Index(['id', 'rn', 'pre_since_opened', 'pre_since_confirmed', 'pre_pterm',\n",
       "       'pre_fterm', 'pre_till_pclose', 'pre_till_fclose',\n",
       "       'pre_loans_credit_limit', 'pre_loans_next_pay_summ',\n",
       "       'pre_loans_outstanding', 'pre_loans_total_overdue',\n",
       "       'pre_loans_max_overdue_sum', 'pre_loans_credit_cost_rate', 'pre_loans5',\n",
       "       'pre_loans530', 'pre_loans3060', 'pre_loans6090', 'pre_loans90',\n",
       "       'is_zero_loans5', 'is_zero_loans530', 'is_zero_loans3060',\n",
       "       'is_zero_loans6090', 'is_zero_loans90', 'pre_util', 'pre_over2limit',\n",
       "       'pre_maxover2limit', 'is_zero_util', 'is_zero_over2limit',\n",
       "       'is_zero_maxover2limit', 'enc_paym_9', 'enc_loans_account_holder_type',\n",
       "       'enc_loans_credit_status', 'enc_loans_credit_type',\n",
       "       'enc_loans_account_cur', 'pclose_flag', 'fclose_flag', 'flag',\n",
       "       'flag_1_count', 'flag_0_count', 'enc_paym_sum'],\n",
       "      dtype='object')"
      ]
     },
     "execution_count": 194,
     "metadata": {},
     "output_type": "execute_result"
    }
   ],
   "source": [
    "shuffled_combined_df.columns"
   ]
  },
  {
   "cell_type": "code",
   "execution_count": 47,
   "id": "dea32245-92e5-4fbe-92f0-30db131b7c60",
   "metadata": {
    "tags": []
   },
   "outputs": [],
   "source": [
    "X = shuffled_combined_df.drop(columns=['pre_loans_total_overdue', 'pre_over2limit' ])"
   ]
  },
  {
   "cell_type": "code",
   "execution_count": 41,
   "id": "4f1e679d-abea-45ca-b244-69331fac906e",
   "metadata": {
    "tags": []
   },
   "outputs": [],
   "source": [
    "# Разделение данных на обучающий и тестовый наборы\n",
    "X_train, X_test, y_train, y_test = train_test_split(X, y, test_size=0.2, random_state=42)"
   ]
  },
  {
   "cell_type": "code",
   "execution_count": 54,
   "id": "8884f594-7722-4fff-bb2f-fc19a1dc082e",
   "metadata": {
    "tags": []
   },
   "outputs": [
    {
     "name": "stdout",
     "output_type": "stream",
     "text": [
      "                          Feature  Importance\n",
      "29                     enc_paym_9    0.690993\n",
      "0                              rn    0.056732\n",
      "31        enc_loans_credit_status    0.054398\n",
      "12     pre_loans_credit_cost_rate    0.026534\n",
      "27          is_zero_maxover2limit    0.021881\n",
      "34                    pclose_flag    0.019289\n",
      "1                pre_since_opened    0.011578\n",
      "19               is_zero_loans530    0.010359\n",
      "5                 pre_till_pclose    0.008883\n",
      "26                   is_zero_util    0.008296\n",
      "6                 pre_till_fclose    0.008160\n",
      "32          enc_loans_credit_type    0.007985\n",
      "36                   enc_paym_sum    0.007883\n",
      "22                is_zero_loans90    0.007485\n",
      "20              is_zero_loans3060    0.005229\n",
      "18                 is_zero_loans5    0.004552\n",
      "9           pre_loans_outstanding    0.004531\n",
      "30  enc_loans_account_holder_type    0.004173\n",
      "23                       pre_util    0.004112\n",
      "28                     enc_paym_0    0.003755\n",
      "35                    fclose_flag    0.003376\n",
      "25              pre_maxover2limit    0.002931\n",
      "7          pre_loans_credit_limit    0.002730\n",
      "2             pre_since_confirmed    0.002646\n",
      "11      pre_loans_max_overdue_sum    0.002540\n",
      "3                       pre_pterm    0.002518\n",
      "21              is_zero_loans6090    0.002423\n",
      "4                       pre_fterm    0.002383\n",
      "8         pre_loans_next_pay_summ    0.002269\n",
      "14                   pre_loans530    0.002235\n",
      "24                 pre_over2limit    0.001865\n",
      "13                     pre_loans5    0.001520\n",
      "15                  pre_loans3060    0.001316\n",
      "33          enc_loans_account_cur    0.001037\n",
      "17                    pre_loans90    0.000953\n",
      "16                  pre_loans6090    0.000452\n",
      "10        pre_loans_total_overdue    0.000000\n"
     ]
    }
   ],
   "source": [
    "# Получение важности признаков\n",
    "feature_importance = model_xgb.feature_importances_\n",
    "\n",
    "# Создание DataFrame с признаками и их важностью\n",
    "feature_importance_df = pd.DataFrame({'Feature': X_train.columns, 'Importance': feature_importance})\n",
    "\n",
    "# Сортировка признаков по важности\n",
    "feature_importance_df = feature_importance_df.sort_values(by='Importance', ascending=False)\n",
    "\n",
    "# Вывод признаков в порядке убывания их важности\n",
    "print(feature_importance_df)\n"
   ]
  },
  {
   "cell_type": "code",
   "execution_count": null,
   "id": "df6d7e83-c689-4671-b882-19781ab5a616",
   "metadata": {},
   "outputs": [],
   "source": []
  },
  {
   "cell_type": "code",
   "execution_count": 135,
   "id": "5af88d34-098e-47eb-9551-b777c5e26836",
   "metadata": {
    "tags": []
   },
   "outputs": [
    {
     "name": "stdout",
     "output_type": "stream",
     "text": [
      "Точность (Precision) с XGBoost (после удаления неважных признаков): 0.24929249318819022\n",
      "Полнота (Recall) с XGBoost (после удаления неважных признаков): 0.8890714486902638\n",
      "F1-мера (F1-Score) с XGBoost (после удаления неважных признаков): 0.3893989082273601\n",
      "ROC AUC с XGBoost (после удаления неважных признаков): 0.9538284187558228\n",
      "Матрица ошибок:\n",
      " [[521666  57032]\n",
      " [  2363  18939]]\n"
     ]
    }
   ],
   "source": [
    "import xgboost as xgb\n",
    "import pandas as pd\n",
    "from sklearn.model_selection import train_test_split\n",
    "from sklearn.metrics import precision_score, recall_score, f1_score, confusion_matrix, roc_auc_score, roc_curve\n",
    "\n",
    "# Предположим, что у вас уже есть DataFrame feature_importance_df\n",
    "\n",
    "# Выбор признаков с важностью выше 0.01\n",
    "selected_features = feature_importance_df[feature_importance_df['Importance'] >= 0.001667]['Feature']\n",
    "\n",
    "# Отбор только выбранных признаков в тренировочном и тестовом наборах данных\n",
    "X_train_selected = X_train[selected_features]\n",
    "X_test_selected = X_test[selected_features]\n",
    "\n",
    "# Обучение модели на выбранных признаках\n",
    "model_xgb_selected = xgb.XGBClassifier()\n",
    "model_xgb_selected.fit(X_train_selected, y_train)\n",
    "\n",
    "# Предсказание вероятностей на тестовых данных\n",
    "probabilities_xgb_selected = model_xgb_selected.predict_proba(X_test_selected)[:, 1]\n",
    "\n",
    "# Подсчет оптимального порога для ROC AUC\n",
    "fpr, tpr, thresholds = roc_curve(y_test, probabilities_xgb_selected)\n",
    "optimal_threshold_roc_auc = thresholds[np.argmax(tpr - fpr)]\n",
    "\n",
    "# Применение оптимального порога для ROC AUC\n",
    "predicted_labels_xgb_selected = (probabilities_xgb_selected > optimal_threshold_roc_auc).astype(int)\n",
    "\n",
    "# Вычисление метрик производительности\n",
    "precision_xgb_selected = precision_score(y_test, predicted_labels_xgb_selected)\n",
    "recall_xgb_selected = recall_score(y_test, predicted_labels_xgb_selected)\n",
    "f1_xgb_selected = f1_score(y_test, predicted_labels_xgb_selected)\n",
    "roc_auc = roc_auc_score(y_test, probabilities_xgb_selected)\n",
    "conf_matrix = confusion_matrix(y_test, predicted_labels_xgb_selected)\n",
    "\n",
    "# Вывод результатов\n",
    "print(\"Точность (Precision) с XGBoost (после удаления неважных признаков):\", precision_xgb_selected)\n",
    "print(\"Полнота (Recall) с XGBoost (после удаления неважных признаков):\", recall_xgb_selected)\n",
    "print(\"F1-мера (F1-Score) с XGBoost (после удаления неважных признаков):\", f1_xgb_selected)\n",
    "print(\"ROC AUC с XGBoost (после удаления неважных признаков):\", roc_auc)\n",
    "print(\"Матрица ошибок:\\n\", conf_matrix)\n"
   ]
  },
  {
   "cell_type": "code",
   "execution_count": 225,
   "id": "13f65a3a-2344-461a-8101-db6613c551ee",
   "metadata": {
    "tags": []
   },
   "outputs": [],
   "source": [
    "weight_positive=2.9"
   ]
  },
  {
   "cell_type": "code",
   "execution_count": 226,
   "id": "b327c992-c9ec-4ddc-9fee-c8de2777833a",
   "metadata": {
    "tags": []
   },
   "outputs": [
    {
     "name": "stdout",
     "output_type": "stream",
     "text": [
      "Точность (Precision) с XGBoost: 0.6159423493523144\n",
      "Полнота (Recall) с XGBoost: 0.654023096422871\n",
      "F1-мера (F1-Score) с XGBoost: 0.634411784795428\n",
      "AUC-ROC с XGBoost: 0.9538570330046084\n",
      "Матрица ошибок:\n",
      "[[570011   8687]\n",
      " [  7370  13932]]\n"
     ]
    }
   ],
   "source": [
    "import xgboost as xgb\n",
    "\n",
    "\n",
    "model_xgb = xgb.XGBClassifier(scale_pos_weight=weight_positive)\n",
    "\n",
    "# Обучение модели на тренировочных данных\n",
    "model_xgb.fit(X_train, y_train)\n",
    "\n",
    "# Прогнозирование на тестовых данных\n",
    "predictions_xgb = model_xgb.predict(X_test)\n",
    "\n",
    "# Вычисление метрик производительности модели\n",
    "precision_xgb = precision_score(y_test, predictions_xgb)\n",
    "recall_xgb = recall_score(y_test, predictions_xgb)\n",
    "f1_xgb = f1_score(y_test, predictions_xgb)\n",
    "auc_roc_xgb = roc_auc_score(y_test, model_xgb.predict_proba(X_test)[:, 1])\n",
    "\n",
    "# Вычисление матрицы ошибок\n",
    "conf_matrix = confusion_matrix(y_test, predictions_xgb)\n",
    "\n",
    "# Вывод результатов\n",
    "print(\"Точность (Precision) с XGBoost:\", precision_xgb)\n",
    "print(\"Полнота (Recall) с XGBoost:\", recall_xgb)\n",
    "print(\"F1-мера (F1-Score) с XGBoost:\", f1_xgb)\n",
    "print(\"AUC-ROC с XGBoost:\", auc_roc_xgb)\n",
    "print(\"Матрица ошибок:\")\n",
    "print(conf_matrix)\n"
   ]
  },
  {
   "cell_type": "code",
   "execution_count": null,
   "id": "bd5caf18-e531-4065-8fb2-445d3bad63e2",
   "metadata": {
    "tags": []
   },
   "outputs": [],
   "source": [
    "from sklearn.model_selection import learning_curve\n",
    "import matplotlib.pyplot as plt\n",
    "import numpy as np\n",
    "\n",
    "# Создание функции для построения кривых обучения и валидации\n",
    "def plot_learning_curve(estimator, title, X, y, ylim=None, cv=None, n_jobs=None, train_sizes=np.linspace(.1, 1.0, 5)):\n",
    "    plt.figure()\n",
    "    plt.title(title)\n",
    "    if ylim is not None:\n",
    "        plt.ylim(*ylim)\n",
    "    plt.xlabel(\"Training examples\")\n",
    "    plt.ylabel(\"Score\")\n",
    "    train_sizes, train_scores, test_scores = learning_curve(estimator, X, y, cv=cv, n_jobs=n_jobs, train_sizes=train_sizes)\n",
    "    train_scores_mean = np.mean(train_scores, axis=1)\n",
    "    train_scores_std = np.std(train_scores, axis=1)\n",
    "    test_scores_mean = np.mean(test_scores, axis=1)\n",
    "    test_scores_std = np.std(test_scores, axis=1)\n",
    "    plt.grid()\n",
    "\n",
    "    plt.fill_between(train_sizes, train_scores_mean - train_scores_std, train_scores_mean + train_scores_std, alpha=0.1, color=\"r\")\n",
    "    plt.fill_between(train_sizes, test_scores_mean - test_scores_std, test_scores_mean + test_scores_std, alpha=0.1, color=\"g\")\n",
    "    plt.plot(train_sizes, train_scores_mean, 'o-', color=\"r\", label=\"Training score\")\n",
    "    plt.plot(train_sizes, test_scores_mean, 'o-', color=\"g\", label=\"Cross-validation score\")\n",
    "\n",
    "    plt.legend(loc=\"best\")\n",
    "    return plt\n",
    "\n",
    "# Определение модели XGBClassifier\n",
    "model_xgb = xgb.XGBClassifier(scale_pos_weight=weight_positive)\n",
    "\n",
    "# Построение кривых обучения и валидации\n",
    "plot_learning_curve(model_xgb, \"Learning Curves (XGBoost)\", X_train, y_train, cv=5, n_jobs=-1)\n",
    "\n",
    "plt.show()\n"
   ]
  },
  {
   "cell_type": "code",
   "execution_count": null,
   "id": "7c0db006-0160-43b6-a01d-32cd683bcd15",
   "metadata": {},
   "outputs": [],
   "source": [
    "Точность (Precision) с XGBoost: 0.6349596512382896\n",
    "Полнота (Recall) с XGBoost: 0.64270960473195\n",
    "F1-мера (F1-Score) с XGBoost: 0.6388111235535647\n",
    "AUC-ROC с XGBoost: 0.9540035945557758\n",
    "Матрица ошибок:\n",
    "[[570827   7871]\n",
    " [  7611  13691]]"
   ]
  },
  {
   "cell_type": "code",
   "execution_count": null,
   "id": "61259271-729f-4091-8f36-32b63394ce26",
   "metadata": {},
   "outputs": [],
   "source": [
    "Точность (Precision) с XGBoost: 0.641298689005632\n",
    "Полнота (Recall) с XGBoost: 0.6360905079335274\n",
    "F1-мера (F1-Score) с XGBoost: 0.6386839810515896\n",
    "AUC-ROC с XGBoost: 0.9537737112227279\n",
    "Матрица ошибок:\n",
    "[[571119   7579]\n",
    " [  7752  13550]]"
   ]
  },
  {
   "cell_type": "code",
   "execution_count": 164,
   "id": "427424c4-3062-4913-ae12-06f9652b4cb1",
   "metadata": {
    "tags": []
   },
   "outputs": [
    {
     "data": {
      "image/png": "[encoded data removed]",
      "text/plain": [
       "<Figure size 800x600 with 1 Axes>"
      ]
     },
     "metadata": {},
     "output_type": "display_data"
    }
   ],
   "source": [
    "import matplotlib.pyplot as plt\n",
    "from sklearn.metrics import roc_curve, auc\n",
    "\n",
    "# Вычисление значений ROC кривой\n",
    "fpr, tpr, thresholds = roc_curve(y_test, model_xgb.predict_proba(X_test)[:, 1])\n",
    "\n",
    "# Вычисление площади под ROC кривой\n",
    "roc_auc = auc(fpr, tpr)\n",
    "\n",
    "# Построение ROC кривой\n",
    "plt.figure(figsize=(8, 6))\n",
    "plt.plot(fpr, tpr, color='darkorange', lw=2, label='ROC curve (area = %0.2f)' % roc_auc)\n",
    "plt.plot([0, 1], [0, 1], color='navy', lw=2, linestyle='--')\n",
    "plt.xlim([0.0, 1.0])\n",
    "plt.ylim([0.0, 1.05])\n",
    "plt.xlabel('False Positive Rate')\n",
    "plt.ylabel('True Positive Rate')\n",
    "plt.title('Receiver Operating Characteristic (ROC) Curve')\n",
    "plt.legend(loc=\"lower right\")\n",
    "plt.show()\n"
   ]
  },
  {
   "cell_type": "code",
   "execution_count": 156,
   "id": "e87c68a1-fa2d-483f-914d-d49e7ad71a69",
   "metadata": {
    "tags": []
   },
   "outputs": [],
   "source": [
    "weight_positive=1.7"
   ]
  },
  {
   "cell_type": "code",
   "execution_count": 157,
   "id": "5503e727-b9d1-43e2-80e1-e89716a9ff97",
   "metadata": {
    "tags": []
   },
   "outputs": [
    {
     "name": "stdout",
     "output_type": "stream",
     "text": [
      "Точность (Precision) с XGBoost: 0.696078431372549\n",
      "Полнота (Recall) с XGBoost: 0.5932776265139423\n",
      "F1-мера (F1-Score) с XGBoost: 0.6405798570632064\n",
      "AUC-ROC с XGBoost: 0.9537467373408748\n",
      "Матрица ошибок:\n",
      "[[573180   5518]\n",
      " [  8664  12638]]\n"
     ]
    }
   ],
   "source": [
    "import xgboost as xgb\n",
    "\n",
    "\n",
    "model_xgb = xgb.XGBClassifier(scale_pos_weight=weight_positive)\n",
    "\n",
    "# Обучение модели на тренировочных данных\n",
    "model_xgb.fit(X_train, y_train)\n",
    "\n",
    "# Прогнозирование на тестовых данных\n",
    "predictions_xgb = model_xgb.predict(X_test)\n",
    "\n",
    "# Вычисление метрик производительности модели\n",
    "precision_xgb = precision_score(y_test, predictions_xgb)\n",
    "recall_xgb = recall_score(y_test, predictions_xgb)\n",
    "f1_xgb = f1_score(y_test, predictions_xgb)\n",
    "auc_roc_xgb = roc_auc_score(y_test, model_xgb.predict_proba(X_test)[:, 1])\n",
    "\n",
    "# Вычисление матрицы ошибок\n",
    "conf_matrix = confusion_matrix(y_test, predictions_xgb)\n",
    "\n",
    "# Вывод результатов\n",
    "print(\"Точность (Precision) с XGBoost:\", precision_xgb)\n",
    "print(\"Полнота (Recall) с XGBoost:\", recall_xgb)\n",
    "print(\"F1-мера (F1-Score) с XGBoost:\", f1_xgb)\n",
    "print(\"AUC-ROC с XGBoost:\", auc_roc_xgb)\n",
    "print(\"Матрица ошибок:\")\n",
    "print(conf_matrix)\n"
   ]
  },
  {
   "cell_type": "code",
   "execution_count": null,
   "id": "5ecb7397-cc2f-4656-a067-67c65361eee9",
   "metadata": {},
   "outputs": [],
   "source": []
  },
  {
   "cell_type": "code",
   "execution_count": 3,
   "id": "33a6d118-8b2d-4ee6-b8f7-63972d7fe97e",
   "metadata": {
    "tags": []
   },
   "outputs": [
    {
     "name": "stdout",
     "output_type": "stream",
     "text": [
      "Загрузка файла: better_df_1.csv\\part-00000-4b8eb2f3-fd36-40fb-a1a4-c761043fd197-c000.csv\n",
      "Загрузка файла: better_df_1.csv\\part-00001-4b8eb2f3-fd36-40fb-a1a4-c761043fd197-c000.csv\n",
      "Загрузка файла: better_df_1.csv\\part-00002-4b8eb2f3-fd36-40fb-a1a4-c761043fd197-c000.csv\n",
      "Загрузка файла: better_df_1.csv\\part-00003-4b8eb2f3-fd36-40fb-a1a4-c761043fd197-c000.csv\n",
      "Загрузка файла: better_df_1.csv\\part-00004-4b8eb2f3-fd36-40fb-a1a4-c761043fd197-c000.csv\n",
      "Загрузка файла: better_df_1.csv\\part-00005-4b8eb2f3-fd36-40fb-a1a4-c761043fd197-c000.csv\n",
      "Скачивание завершено. Общее количество строк в объединенном DataFrame: 2710104\n"
     ]
    }
   ],
   "source": [
    "import pandas as pd\n",
    "import os\n",
    "\n",
    "# Пути к директориям и файлам\n",
    "\n",
    "csv_dir = \"better_df_1.csv\"\n",
    "csv_path = \"better_df_1.csv\"\n",
    "\n",
    "# Список для хранения загруженных DataFrame\n",
    "dfs = []\n",
    "\n",
    "# Итерация по всем CSV-файлам в директории\n",
    "for root, dirs, files in os.walk(csv_path):\n",
    "    for file in files:\n",
    "        if file.endswith(\".csv\"):\n",
    "            file_path = os.path.join(root, file)\n",
    "            print(f\"Загрузка файла: {file_path}\")\n",
    "            # Чтение CSV-файла в DataFrame и добавление его в список\n",
    "            df = pd.read_csv(file_path)\n",
    "            dfs.append(df)\n",
    "\n",
    "# Объединение всех DataFrame из списка в один\n",
    "shuffled_combined_df = pd.concat(dfs, ignore_index=True)\n",
    "\n",
    "# Вывод информации о ходе скачивания\n",
    "print(\"Скачивание завершено. Общее количество строк в объединенном DataFrame:\", len(shuffled_combined_df))\n"
   ]
  },
  {
   "cell_type": "code",
   "execution_count": null,
   "id": "f751883c-ec00-4def-9e0a-a05cb4a5fb6a",
   "metadata": {},
   "outputs": [],
   "source": []
  },
  {
   "cell_type": "code",
   "execution_count": 142,
   "id": "bbfcc639-97f4-4d58-a693-025ebbb185c1",
   "metadata": {
    "tags": []
   },
   "outputs": [
    {
     "name": "stdout",
     "output_type": "stream",
     "text": [
      "Accuracy: 1.0\n",
      "Precision: 1.0\n",
      "Recall: 1.0\n",
      "F1 Score: 1.0\n",
      "ROC AUC Score: 1.0\n"
     ]
    },
    {
     "data": {
      "image/png": "[encoded data removed]",
      "text/plain": [
       "<Figure size 800x600 with 1 Axes>"
      ]
     },
     "metadata": {},
     "output_type": "display_data"
    }
   ],
   "source": [
    "import pandas as pd\n",
    "from sklearn.model_selection import train_test_split\n",
    "from sklearn.linear_model import LogisticRegression\n",
    "from sklearn.metrics import accuracy_score, precision_score, recall_score, f1_score, roc_auc_score, roc_curve\n",
    "import matplotlib.pyplot as plt\n",
    "\n",
    "# Предположим, что shuffled_combined_df - это ваш DataFrame\n",
    "\n",
    "# Разделение данных на признаки (X) и целевую переменную (y)\n",
    "X = shuffled_combined_df.drop(columns=['id', 'flag', 'flag_1_count', 'flag_0_count'])\n",
    "y = shuffled_combined_df['flag']\n",
    "\n",
    "# Разделение данных на обучающий и тестовый наборы\n",
    "X_train, X_test, y_train, y_test = train_test_split(X, y, test_size=0.2, random_state=42)\n",
    "\n",
    "# Обучение логистической регрессии\n",
    "model = LogisticRegression()\n",
    "model.fit(X_train, y_train)\n",
    "\n",
    "# Предсказание на тестовом наборе\n",
    "y_pred = model.predict(X_test)\n",
    "\n",
    "# Вычисление метрик\n",
    "accuracy = accuracy_score(y_test, y_pred)\n",
    "precision = precision_score(y_test, y_pred)\n",
    "recall = recall_score(y_test, y_pred)\n",
    "f1 = f1_score(y_test, y_pred)\n",
    "roc_auc = roc_auc_score(y_test, y_pred)\n",
    "\n",
    "# Вывод метрик\n",
    "print(\"Accuracy:\", accuracy)\n",
    "print(\"Precision:\", precision)\n",
    "print(\"Recall:\", recall)\n",
    "print(\"F1 Score:\", f1)\n",
    "print(\"ROC AUC Score:\", roc_auc)\n",
    "\n",
    "# Вычисление ROC-кривой и площади под кривой (AUC)\n",
    "fpr, tpr, thresholds = roc_curve(y_test, y_pred)\n",
    "\n",
    "# Построение ROC-кривой\n",
    "plt.figure(figsize=(8, 6))\n",
    "plt.plot(fpr, tpr, label='ROC Curve (area = %0.2f)' % roc_auc)\n",
    "plt.plot([0, 1], [0, 1], 'k--')  # случайное угадывание\n",
    "plt.xlim([0.0, 1.0])\n",
    "plt.ylim([0.0, 1.05])\n",
    "plt.xlabel('False Positive Rate')\n",
    "plt.ylabel('True Positive Rate')\n",
    "plt.title('Receiver Operating Characteristic (ROC) Curve')\n",
    "plt.legend(loc=\"lower right\")\n",
    "plt.show()\n"
   ]
  },
  {
   "cell_type": "code",
   "execution_count": null,
   "id": "bcf53398-ccf4-4b15-9257-5f00e05ff743",
   "metadata": {},
   "outputs": [],
   "source": []
  },
  {
   "cell_type": "code",
   "execution_count": 143,
   "id": "afe8f6ee-b2f1-4772-8cda-7d9a73223c95",
   "metadata": {
    "tags": []
   },
   "outputs": [
    {
     "name": "stdout",
     "output_type": "stream",
     "text": [
      "Точность (Precision) с XGBoost: 1.0\n",
      "Полнота (Recall) с XGBoost: 1.0\n",
      "F1-мера (F1-Score) с XGBoost: 1.0\n",
      "AUC-ROC с XGBoost: 1.0\n",
      "Матрица ошибок:\n",
      "[[522114      0]\n",
      " [     0  19907]]\n"
     ]
    }
   ],
   "source": [
    "import xgboost as xgb\n",
    "\n",
    "\n",
    "model_xgb = xgb.XGBClassifier()\n",
    "\n",
    "# Обучение модели на тренировочных данных\n",
    "model_xgb.fit(X_train, y_train)\n",
    "\n",
    "# Прогнозирование на тестовых данных\n",
    "predictions_xgb = model_xgb.predict(X_test)\n",
    "\n",
    "# Вычисление метрик производительности модели\n",
    "precision_xgb = precision_score(y_test, predictions_xgb)\n",
    "recall_xgb = recall_score(y_test, predictions_xgb)\n",
    "f1_xgb = f1_score(y_test, predictions_xgb)\n",
    "auc_roc_xgb = roc_auc_score(y_test, model_xgb.predict_proba(X_test)[:, 1])\n",
    "\n",
    "# Вычисление матрицы ошибок\n",
    "conf_matrix = confusion_matrix(y_test, predictions_xgb)\n",
    "\n",
    "# Вывод результатов\n",
    "print(\"Точность (Precision) с XGBoost:\", precision_xgb)\n",
    "print(\"Полнота (Recall) с XGBoost:\", recall_xgb)\n",
    "print(\"F1-мера (F1-Score) с XGBoost:\", f1_xgb)\n",
    "print(\"AUC-ROC с XGBoost:\", auc_roc_xgb)\n",
    "print(\"Матрица ошибок:\")\n",
    "print(conf_matrix)\n"
   ]
  },
  {
   "cell_type": "code",
   "execution_count": 158,
   "id": "9296e1ec-1561-48d7-92fd-21973d3ff65b",
   "metadata": {
    "tags": []
   },
   "outputs": [
    {
     "name": "stdout",
     "output_type": "stream",
     "text": [
      "Площадь под ROC-кривой (AUC-ROC): 0.9201524056898414\n"
     ]
    }
   ],
   "source": [
    "# Масштабирование признаков\n",
    "scaler = StandardScaler()\n",
    "X_train_scaled = scaler.fit_transform(X_train)\n",
    "X_test_scaled = scaler.transform(X_test)\n",
    "\n",
    "# Обучение модели логистической регрессии\n",
    "lr = LogisticRegression()\n",
    "lr.fit(X_train_scaled, y_train)\n",
    "\n",
    "# Прогнозирование на тестовых данных\n",
    "predictions = lr.predict_proba(X_test_scaled)[:, 1]\n",
    "\n",
    "# Вычисление площади под ROC-кривой (AUC-ROC)\n",
    "auc_roc = roc_auc_score(y_test, predictions)\n",
    "\n",
    "# Выводим результаты\n",
    "print(\"Площадь под ROC-кривой (AUC-ROC):\", auc_roc)"
   ]
  },
  {
   "cell_type": "code",
   "execution_count": 159,
   "id": "8c26d4d3-681e-4848-8d79-98ec97d979ae",
   "metadata": {
    "tags": []
   },
   "outputs": [
    {
     "name": "stdout",
     "output_type": "stream",
     "text": [
      "Точность (Accuracy): 0.9711\n",
      "Точность (Precision): 0.7811524269088844\n",
      "Полнота (Recall): 0.2583794948831096\n",
      "F1-мера (F1-score): 0.38831663609425704\n",
      "Матрица ошибок:\n",
      "[[577156   1542]\n",
      " [ 15798   5504]]\n"
     ]
    }
   ],
   "source": [
    "from sklearn.metrics import accuracy_score, precision_score, recall_score, f1_score, confusion_matrix\n",
    "\n",
    "# Прогнозирование классов на тестовых данных\n",
    "predicted_classes = lr.predict(X_test_scaled)\n",
    "\n",
    "# Рассчитываем точность (accuracy)\n",
    "accuracy = accuracy_score(y_test, predicted_classes)\n",
    "\n",
    "# Рассчитываем точность (precision)\n",
    "precision = precision_score(y_test, predicted_classes)\n",
    "\n",
    "# Рассчитываем полноту (recall)\n",
    "recall = recall_score(y_test, predicted_classes)\n",
    "\n",
    "# Рассчитываем F1-меру (F1-score)\n",
    "f1 = f1_score(y_test, predicted_classes)\n",
    "\n",
    "# Рассчитываем матрицу ошибок (confusion matrix)\n",
    "conf_matrix = confusion_matrix(y_test, predicted_classes)\n",
    "\n",
    "# Выводим результаты\n",
    "print(\"Точность (Accuracy):\", accuracy)\n",
    "print(\"Точность (Precision):\", precision)\n",
    "print(\"Полнота (Recall):\", recall)\n",
    "print(\"F1-мера (F1-score):\", f1)\n",
    "print(\"Матрица ошибок:\")\n",
    "print(conf_matrix)\n"
   ]
  },
  {
   "cell_type": "code",
   "execution_count": null,
   "id": "c5b2aa64-636a-437d-84ec-d18a882a109d",
   "metadata": {},
   "outputs": [],
   "source": []
  },
  {
   "cell_type": "code",
   "execution_count": 160,
   "id": "df2ba18f-c95e-4423-8a39-31a993df8644",
   "metadata": {
    "tags": []
   },
   "outputs": [
    {
     "name": "stdout",
     "output_type": "stream",
     "text": [
      "Точность (Precision) с XGBoost: 0.7634142994373542\n",
      "Полнота (Recall) с XGBoost: 0.5222983757393672\n",
      "F1-мера (F1-Score) с XGBoost: 0.6202475192329134\n",
      "AUC-ROC с XGBoost: 0.9538401671949654\n",
      "Матрица ошибок:\n",
      "[[575250   3448]\n",
      " [ 10176  11126]]\n"
     ]
    }
   ],
   "source": [
    "import xgboost as xgb\n",
    "\n",
    "\n",
    "model_xgb = xgb.XGBClassifier()\n",
    "\n",
    "# Обучение модели на тренировочных данных\n",
    "model_xgb.fit(X_train_scaled, y_train)\n",
    "\n",
    "# Прогнозирование на тестовых данных\n",
    "predictions_xgb = model_xgb.predict(X_test_scaled)\n",
    "\n",
    "# Вычисление метрик производительности модели\n",
    "precision_xgb = precision_score(y_test, predictions_xgb)\n",
    "recall_xgb = recall_score(y_test, predictions_xgb)\n",
    "f1_xgb = f1_score(y_test, predictions_xgb)\n",
    "auc_roc_xgb = roc_auc_score(y_test, model_xgb.predict_proba(X_test_scaled)[:, 1])\n",
    "\n",
    "# Вычисление матрицы ошибок\n",
    "conf_matrix = confusion_matrix(y_test, predictions_xgb)\n",
    "\n",
    "# Вывод результатов\n",
    "print(\"Точность (Precision) с XGBoost:\", precision_xgb)\n",
    "print(\"Полнота (Recall) с XGBoost:\", recall_xgb)\n",
    "print(\"F1-мера (F1-Score) с XGBoost:\", f1_xgb)\n",
    "print(\"AUC-ROC с XGBoost:\", auc_roc_xgb)\n",
    "print(\"Матрица ошибок:\")\n",
    "print(conf_matrix)\n"
   ]
  },
  {
   "cell_type": "code",
   "execution_count": null,
   "id": "3af53c80-15a3-4ca8-91b3-6e74d8fc3c0e",
   "metadata": {},
   "outputs": [],
   "source": [
    "{\n",
    "    'objective': 'binary:logistic',\n",
    "    'n_estimators': 100,\n",
    "    'max_depth': 6,\n",
    "    'learning_rate': 0.3,\n",
    "    'subsample': 1,\n",
    "    'colsample_bytree': 1,\n",
    "    'gamma': 0,\n",
    "    'reg_alpha': 0,\n",
    "    'reg_lambda': 1,\n",
    "    'scale_pos_weight': 1,\n",
    "    'random_state': 0,\n",
    "    'n_jobs': None,\n",
    "    'verbosity': 1\n",
    "}\n"
   ]
  },
  {
   "cell_type": "code",
   "execution_count": 219,
   "id": "5ad0528c-84bc-402d-a2be-859d5c928778",
   "metadata": {
    "tags": []
   },
   "outputs": [],
   "source": [
    "import xgboost as xgb\n",
    "\n",
    "# Задание параметров модели\n",
    "params = {\n",
    "    'learning_rate': 0.1,\n",
    "    'n_estimators': 100,\n",
    "    'max_depth': 8,\n",
    "    'min_child_weight': 0.5,\n",
    "    'subsample': 0.8,\n",
    "    'colsample_bytree': 0.8,\n",
    "    'gamma': 0,\n",
    "    'reg_alpha': 0,\n",
    "    'reg_lambda': 1,\n",
    "    'scale_pos_weight': 2,\n",
    "    'random_state': 42,\n",
    "    'n_jobs': -1\n",
    "}\n",
    "\n",
    "# Создание экземпляра модели XGBClassifier с установленными параметрами\n",
    "model_xgb = xgb.XGBClassifier(**params)\n"
   ]
  },
  {
   "cell_type": "code",
   "execution_count": 220,
   "id": "5acc8404-7c59-4b48-bbb6-dcf299457951",
   "metadata": {
    "tags": []
   },
   "outputs": [
    {
     "name": "stdout",
     "output_type": "stream",
     "text": [
      "Точность (Precision) с XGBoost: 0.6857991618481778\n",
      "Полнота (Recall) с XGBoost: 0.6068913717021875\n",
      "F1-мера (F1-Score) с XGBoost: 0.6439369411999103\n",
      "AUC-ROC с XGBoost: 0.954414922394632\n",
      "Матрица ошибок:\n",
      "[[572775   5923]\n",
      " [  8374  12928]]\n"
     ]
    }
   ],
   "source": [
    "# Обучение модели на тренировочных данных\n",
    "model_xgb.fit(X_train_scaled, y_train)\n",
    "\n",
    "# Прогнозирование на тестовых данных\n",
    "predictions_xgb = model_xgb.predict(X_test_scaled)\n",
    "\n",
    "# Вычисление метрик производительности модели\n",
    "precision_xgb = precision_score(y_test, predictions_xgb)\n",
    "recall_xgb = recall_score(y_test, predictions_xgb)\n",
    "f1_xgb = f1_score(y_test, predictions_xgb)\n",
    "auc_roc_xgb = roc_auc_score(y_test, model_xgb.predict_proba(X_test_scaled)[:, 1])\n",
    "\n",
    "# Вычисление матрицы ошибок\n",
    "conf_matrix = confusion_matrix(y_test, predictions_xgb)\n",
    "\n",
    "# Вывод результатов\n",
    "print(\"Точность (Precision) с XGBoost:\", precision_xgb)\n",
    "print(\"Полнота (Recall) с XGBoost:\", recall_xgb)\n",
    "print(\"F1-мера (F1-Score) с XGBoost:\", f1_xgb)\n",
    "print(\"AUC-ROC с XGBoost:\", auc_roc_xgb)\n",
    "print(\"Матрица ошибок:\")\n",
    "print(conf_matrix)\n"
   ]
  },
  {
   "cell_type": "code",
   "execution_count": null,
   "id": "26f4181d-535b-4600-a64e-2ca8d4331541",
   "metadata": {},
   "outputs": [],
   "source": [
    "Точность (Precision) с XGBoost: 0.6786808621137367\n",
    "Полнота (Recall) с XGBoost: 0.6134635245516853\n",
    "F1-мера (F1-Score) с XGBoost: 0.644426362896664\n",
    "AUC-ROC с XGBoost: 0.9544393255043631\n",
    "Матрица ошибок:\n",
    "[[572511   6187]\n",
    " [  8234  13068]]"
   ]
  },
  {
   "cell_type": "code",
   "execution_count": null,
   "id": "a09ca3be-c248-45fb-9afa-215a5379b14e",
   "metadata": {},
   "outputs": [],
   "source": [
    "Точность (Precision) с XGBoost: 0.6779369627507164\n",
    "Полнота (Recall) с XGBoost: 0.6108816073608112\n",
    "F1-мера (F1-Score) с XGBoost: 0.642664888757192\n",
    "AUC-ROC с XGBoost: 0.9527597210174049\n",
    "Матрица ошибок:\n",
    "[[572516   6182]\n",
    " [  8289  13013]]"
   ]
  },
  {
   "cell_type": "code",
   "execution_count": 105,
   "id": "c596f05c-c24e-416b-bf4c-627c7e0fe7f7",
   "metadata": {
    "tags": []
   },
   "outputs": [],
   "source": [
    "weight_positive = 5"
   ]
  },
  {
   "cell_type": "code",
   "execution_count": 106,
   "id": "ea22e2a9-e257-4268-9b2c-d748372a3039",
   "metadata": {
    "tags": []
   },
   "outputs": [
    {
     "name": "stdout",
     "output_type": "stream",
     "text": [
      "Точность (Precision) с XGBoost: 0.5115447589133558\n",
      "Полнота (Recall) с XGBoost: 0.7186649140925735\n",
      "F1-мера (F1-Score) с XGBoost: 0.5976692888793457\n",
      "AUC-ROC с XGBoost: 0.9539433365528033\n",
      "Матрица ошибок:\n",
      "[[564080  14618]\n",
      " [  5993  15309]]\n"
     ]
    }
   ],
   "source": [
    "import xgboost as xgb\n",
    "from sklearn.metrics import confusion_matrix, precision_score, recall_score, f1_score, roc_auc_score\n",
    "\n",
    "\n",
    "model_xgb = xgb.XGBClassifier(scale_pos_weight=weight_positive)\n",
    "\n",
    "# Обучение модели на тренировочных данных\n",
    "model_xgb.fit(X_train, y_train)\n",
    "\n",
    "# Прогнозирование на тестовых данных\n",
    "predictions_xgb = model_xgb.predict(X_test)\n",
    "\n",
    "# Вычисление метрик производительности модели\n",
    "precision_xgb = precision_score(y_test, predictions_xgb)\n",
    "recall_xgb = recall_score(y_test, predictions_xgb)\n",
    "f1_xgb = f1_score(y_test, predictions_xgb)\n",
    "auc_roc_xgb = roc_auc_score(y_test, model_xgb.predict_proba(X_test)[:, 1])\n",
    "\n",
    "# Вычисление матрицы ошибок\n",
    "conf_matrix = confusion_matrix(y_test, predictions_xgb)\n",
    "\n",
    "# Вывод результатов\n",
    "print(\"Точность (Precision) с XGBoost:\", precision_xgb)\n",
    "print(\"Полнота (Recall) с XGBoost:\", recall_xgb)\n",
    "print(\"F1-мера (F1-Score) с XGBoost:\", f1_xgb)\n",
    "print(\"AUC-ROC с XGBoost:\", auc_roc_xgb)\n",
    "print(\"Матрица ошибок:\")\n",
    "print(conf_matrix)\n"
   ]
  },
  {
   "cell_type": "code",
   "execution_count": null,
   "id": "d25d5ac5-3a98-4b98-a9fc-2419b030cd84",
   "metadata": {},
   "outputs": [],
   "source": [
    "Точность (Precision) с XGBoost: 0.763795238750516\n",
    "Полнота (Recall) с XGBoost: 0.5211247770162426\n",
    "F1-мера (F1-Score) с XGBoost: 0.6195445920303605\n",
    "AUC-ROC с XGBoost: 0.9540036133756025\n",
    "Матрица ошибок:\n",
    "[[575265   3433]\n",
    " [ 10201  11101]]"
   ]
  },
  {
   "cell_type": "code",
   "execution_count": null,
   "id": "e095fc52-b852-4ba3-855c-2b605d52aa51",
   "metadata": {},
   "outputs": [],
   "source": [
    "Точность (Precision) с XGBoost: 0.6973473777091491\n",
    "Полнота (Recall) с XGBoost: 0.5936062341564172\n",
    "F1-мера (F1-Score) с XGBoost: 0.6413084823126666\n",
    "AUC-ROC с XGBoost: 0.9538803492287798\n",
    "Матрица ошибок:\n",
    "[[573210   5488]\n",
    " [  8657  12645]]"
   ]
  },
  {
   "cell_type": "code",
   "execution_count": null,
   "id": "b54ea213-be59-432c-a2a1-252e226041e2",
   "metadata": {},
   "outputs": [],
   "source": [
    "Точность (Precision) с XGBoost: 0.690626517727052\n",
    "Полнота (Recall) с XGBoost: 0.6007886583419397\n",
    "F1-мера (F1-Score) с XGBoost: 0.6425827831195241\n",
    "AUC-ROC с XGBoost: 0.9540352493422748\n",
    "Матрица ошибок:\n",
    "[[572965   5733]\n",
    " [  8504  12798]]"
   ]
  },
  {
   "cell_type": "code",
   "execution_count": null,
   "id": "d09ec77b-aebd-410a-baf2-9ab501fb9c84",
   "metadata": {},
   "outputs": [],
   "source": [
    "Точность (Precision) с XGBoost: 0.6838313201949565\n",
    "Полнота (Recall) с XGBoost: 0.6059524927236879\n",
    "F1-мера (F1-Score) с XGBoost: 0.6425406939120912\n",
    "AUC-ROC с XGBoost: 0.9538547379186137\n",
    "Матрица ошибок:\n",
    "[[572730   5968]\n",
    " [  8394  12908]]"
   ]
  },
  {
   "cell_type": "code",
   "execution_count": null,
   "id": "91ddac01-cded-4170-b990-17eed0557ed0",
   "metadata": {},
   "outputs": [],
   "source": [
    "Точность (Precision) с XGBoost: 0.6746963039545102\n",
    "Полнота (Recall) с XGBoost: 0.6127124213688856\n",
    "F1-мера (F1-Score) с XGBoost: 0.6422122173838168\n",
    "AUC-ROC с XGBoost: 0.9540344346141245\n",
    "Матрица ошибок:\n",
    "[[572405   6293]\n",
    " [  8250  13052]]"
   ]
  },
  {
   "cell_type": "code",
   "execution_count": null,
   "id": "037e433d-0b46-4e6f-828b-98ef1779fd74",
   "metadata": {},
   "outputs": [],
   "source": [
    "Точность (Precision) с XGBoost: 0.6698871148174514\n",
    "Полнота (Recall) с XGBoost: 0.6184395831377335\n",
    "F1-мера (F1-Score) с XGBoost: 0.6431361062292521\n",
    "AUC-ROC с XGBoost: 0.9539361432012744\n",
    "Матрица ошибок:\n",
    "[[572206   6492]\n",
    " [  8128  13174]]"
   ]
  },
  {
   "cell_type": "code",
   "execution_count": null,
   "id": "3f7614cf-ea6f-4fb1-b96a-c4c98beaf6b7",
   "metadata": {},
   "outputs": [],
   "source": [
    "Точность (Precision) с XGBoost: 0.6603961381506918\n",
    "Полнота (Recall) с XGBoost: 0.622946202234532\n",
    "F1-мера (F1-Score) с XGBoost: 0.6411247463523047\n",
    "AUC-ROC с XGBoost: 0.9538211356450766\n",
    "Матрица ошибок:\n",
    "[[571874   6824]\n",
    " [  8032  13270]]"
   ]
  },
  {
   "cell_type": "code",
   "execution_count": null,
   "id": "8408d927-aa26-41f7-a83a-45c74210358c",
   "metadata": {},
   "outputs": [],
   "source": [
    "Точность (Precision) с XGBoost: 0.6477688016926332\n",
    "Полнота (Recall) с XGBoost: 0.6323819359684537\n",
    "F1-мера (F1-Score) с XGBoost: 0.6399828970497411\n",
    "AUC-ROC с XGBoost: 0.9537098976515223\n",
    "Матрица ошибок:\n",
    "[[571373   7325]\n",
    " [  7831  13471]]"
   ]
  },
  {
   "cell_type": "code",
   "execution_count": null,
   "id": "5614354e-5a74-486e-91e0-a2f54b105d36",
   "metadata": {},
   "outputs": [],
   "source": [
    "Точность (Precision) с XGBoost: 0.6361307749627422\n",
    "Полнота (Recall) с XGBoost: 0.6412073983663505\n",
    "F1-мера (F1-Score) с XGBoost: 0.6386589984570066\n",
    "AUC-ROC с XGBoost: 0.9539930958099193\n",
    "Матрица ошибок:\n",
    "[[570885   7813]\n",
    " [  7643  13659]]"
   ]
  },
  {
   "cell_type": "code",
   "execution_count": null,
   "id": "156023b2-aff9-404c-a197-636339655281",
   "metadata": {},
   "outputs": [],
   "source": [
    "Точность (Precision) с XGBoost: 0.6239243072764136\n",
    "Полнота (Recall) с XGBoost: 0.6500798047131725\n",
    "F1-мера (F1-Score) с XGBoost: 0.6367335678322642\n",
    "AUC-ROC с XGBoost: 0.9538317524610109\n",
    "Матрица ошибок:\n",
    "[[570351   8347]\n",
    " [  7454  13848]]"
   ]
  },
  {
   "cell_type": "code",
   "execution_count": null,
   "id": "249ee679-0487-45ca-bf34-f9db0d1ebc98",
   "metadata": {},
   "outputs": [],
   "source": [
    "Точность (Precision) с XGBoost: 0.6094403765690377\n",
    "Полнота (Recall) с XGBoost: 0.6564172378180453\n",
    "F1-мера (F1-Score) с XGBoost: 0.6320571351082584\n",
    "AUC-ROC с XGBoost: 0.9537516885371717\n",
    "Матрица ошибок:\n",
    "[[569737   8961]\n",
    " [  7319  13983]]"
   ]
  },
  {
   "cell_type": "code",
   "execution_count": null,
   "id": "7653731f-7768-4065-9754-b855a31dd881",
   "metadata": {},
   "outputs": [],
   "source": [
    "очность (Precision) с XGBoost: 0.5981837381203802\n",
    "Полнота (Recall) с XGBoost: 0.6648202046756173\n",
    "F1-мера (F1-Score) с XGBoost: 0.6297440914245058\n",
    "AUC-ROC с XGBoost: 0.953713362243739\n",
    "Матрица ошибок:\n",
    "[[569185   9513]\n",
    " [  7140  14162]]"
   ]
  },
  {
   "cell_type": "code",
   "execution_count": null,
   "id": "422bb636-7da3-4862-b6bf-a5bda5557efc",
   "metadata": {},
   "outputs": [],
   "source": [
    "weight_positive = 3.1\n",
    "\n",
    "Точность (Precision) с XGBoost: 0.605721660572166\n",
    "Полнота (Recall) с XGBoost: 0.6609708008637687\n",
    "F1-мера (F1-Score) с XGBoost: 0.6321413338720901\n",
    "AUC-ROC с XGBoost: 0.9540622755059314\n",
    "Матрица ошибок:\n",
    "[[569533   9165]\n",
    " [  7222  14080]]\n"
   ]
  },
  {
   "cell_type": "code",
   "execution_count": 85,
   "id": "fd505df3-cfa5-43b9-87ee-f61255c86c37",
   "metadata": {
    "tags": []
   },
   "outputs": [
    {
     "name": "stdout",
     "output_type": "stream",
     "text": [
      "Epoch 1/8\n",
      "75000/75000 [==============================] - 61s 810us/step - loss: 0.0798\n",
      "Epoch 2/8\n",
      "75000/75000 [==============================] - 61s 807us/step - loss: 0.0762\n",
      "Epoch 3/8\n",
      "75000/75000 [==============================] - 60s 801us/step - loss: 0.0750\n",
      "Epoch 4/8\n",
      "75000/75000 [==============================] - 61s 819us/step - loss: 0.0744\n",
      "Epoch 5/8\n",
      "75000/75000 [==============================] - 60s 803us/step - loss: 0.0742\n",
      "Epoch 6/8\n",
      "75000/75000 [==============================] - 61s 815us/step - loss: 0.0740\n",
      "Epoch 7/8\n",
      "75000/75000 [==============================] - 61s 809us/step - loss: 0.0740\n",
      "Epoch 8/8\n",
      "75000/75000 [==============================] - 62s 823us/step - loss: 0.0738\n"
     ]
    },
    {
     "data": {
      "text/plain": [
       "<keras.callbacks.History at 0x1ea0ed22610>"
      ]
     },
     "execution_count": 85,
     "metadata": {},
     "output_type": "execute_result"
    }
   ],
   "source": [
    "import numpy as np\n",
    "import pandas as pd\n",
    "from sklearn.model_selection import train_test_split\n",
    "from sklearn.metrics import classification_report\n",
    "from sklearn.preprocessing import StandardScaler\n",
    "from keras.models import Sequential\n",
    "from keras.layers import Dense\n",
    "\n",
    "# Предположим, что у вас есть данные X_train, X_test, y_train, y_test\n",
    "# где X_train и X_test - матрицы признаков, y_train и y_test - векторы меток классов\n",
    "\n",
    "# Масштабирование признаков\n",
    "scaler = StandardScaler()\n",
    "X_train_scaled = scaler.fit_transform(X_train)\n",
    "X_test_scaled = scaler.transform(X_test)\n",
    "\n",
    "# Создание нейронной сети\n",
    "model = Sequential()\n",
    "model.add(Dense(64, activation='relu', input_dim=X_train_scaled.shape[1]))\n",
    "model.add(Dense(32, activation='relu'))\n",
    "model.add(Dense(1, activation='sigmoid'))\n",
    "\n",
    "# Компиляция модели\n",
    "model.compile(optimizer='adam', loss='binary_crossentropy')\n",
    "\n",
    "# Обучение модели\n",
    "model.fit(X_train_scaled, y_train, epochs=8, batch_size=32, verbose=1)\n",
    "\n"
   ]
  },
  {
   "cell_type": "code",
   "execution_count": 98,
   "id": "7a9f57ff-bacc-41b9-a059-bab9045ee769",
   "metadata": {
    "tags": []
   },
   "outputs": [
    {
     "name": "stdout",
     "output_type": "stream",
     "text": [
      "18750/18750 [==============================] - 13s 701us/step\n"
     ]
    }
   ],
   "source": [
    "# Прогнозирование вероятностей на тестовых данных\n",
    "probabilities = model.predict(X_test_scaled)\n",
    "\n",
    "# Преобразование вероятностей в бинарные предсказания с порогом 0.5\n",
    "predictions = (probabilities > 0.16).astype(int)\n"
   ]
  },
  {
   "cell_type": "code",
   "execution_count": 99,
   "id": "cae8c262-16ab-4da7-be12-658283e23398",
   "metadata": {
    "tags": []
   },
   "outputs": [
    {
     "name": "stdout",
     "output_type": "stream",
     "text": [
      "ROC AUC: 0.9470383646378564\n",
      "Accuracy: 0.966345\n",
      "Precision: 0.5197141536601841\n",
      "Recall: 0.6862266453854098\n",
      "F1 Score: 0.5914746403932913\n"
     ]
    }
   ],
   "source": [
    "from sklearn.metrics import roc_auc_score, accuracy_score, precision_score, recall_score, f1_score\n",
    "\n",
    "\n",
    "# Вычисление ROC AUC\n",
    "roc_auc = roc_auc_score(y_test, probabilities)\n",
    "\n",
    "# Вычисление других метрик\n",
    "accuracy = accuracy_score(y_test, predictions)\n",
    "precision = precision_score(y_test, predictions)\n",
    "recall = recall_score(y_test, predictions)\n",
    "f1 = f1_score(y_test, predictions)\n",
    "\n",
    "# Вывод результатов\n",
    "print(\"ROC AUC:\", roc_auc)\n",
    "print(\"Accuracy:\", accuracy)\n",
    "print(\"Precision:\", precision)\n",
    "print(\"Recall:\", recall)\n",
    "print(\"F1 Score:\", f1)\n"
   ]
  },
  {
   "cell_type": "code",
   "execution_count": 100,
   "id": "31db54c4-44df-4a86-a84d-d3fc12315c8f",
   "metadata": {
    "tags": []
   },
   "outputs": [
    {
     "name": "stdout",
     "output_type": "stream",
     "text": [
      "Матрица ошибок:\n",
      "[[565189  13509]\n",
      " [  6684  14618]]\n"
     ]
    }
   ],
   "source": [
    "from sklearn.metrics import confusion_matrix\n",
    "\n",
    "# Вычисление матрицы ошибок\n",
    "conf_matrix = confusion_matrix(y_test, predictions)\n",
    "\n",
    "# Вывод матрицы ошибок\n",
    "print(\"Матрица ошибок:\")\n",
    "print(conf_matrix)\n"
   ]
  },
  {
   "cell_type": "code",
   "execution_count": 107,
   "id": "40e9ddca-d6f0-4ef8-b467-23c955cf6062",
   "metadata": {
    "tags": []
   },
   "outputs": [
    {
     "name": "stdout",
     "output_type": "stream",
     "text": [
      "Точность (Precision) с Random Forest: 0.85248953001396\n",
      "Полнота (Recall) с Random Forest: 0.0860013144305699\n",
      "F1-мера (F1-Score) с Random Forest: 0.15624067203957187\n",
      "AUC-ROC с Random Forest: 0.5427267665158182\n",
      "Матрица ошибок с Random Forest:\n",
      "[[578381    317]\n",
      " [ 19470   1832]]\n"
     ]
    }
   ],
   "source": [
    "from sklearn.ensemble import RandomForestClassifier\n",
    "from sklearn.metrics import accuracy_score, precision_score, recall_score, f1_score, roc_auc_score, confusion_matrix\n",
    "\n",
    "# Создание и обучение модели случайного леса\n",
    "rf_model = RandomForestClassifier(n_estimators=100, random_state=42)\n",
    "rf_model.fit(X_train, y_train)\n",
    "\n",
    "# Прогнозирование на тестовых данных\n",
    "rf_predictions = rf_model.predict(X_test_scaled)\n",
    "\n",
    "# Вычисление метрик\n",
    "accuracy_rf = accuracy_score(y_test, rf_predictions)\n",
    "precision_rf = precision_score(y_test, rf_predictions)\n",
    "recall_rf = recall_score(y_test, rf_predictions)\n",
    "f1_rf = f1_score(y_test, rf_predictions)\n",
    "roc_auc_rf = roc_auc_score(y_test, rf_predictions)\n",
    "conf_matrix_rf = confusion_matrix(y_test, rf_predictions)\n",
    "\n",
    "# Вывод результатов\n",
    "print(\"Точность (Precision) с Random Forest:\", precision_rf)\n",
    "print(\"Полнота (Recall) с Random Forest:\", recall_rf)\n",
    "print(\"F1-мера (F1-Score) с Random Forest:\", f1_rf)\n",
    "print(\"AUC-ROC с Random Forest:\", roc_auc_rf)\n",
    "print(\"Матрица ошибок с Random Forest:\")\n",
    "print(conf_matrix_rf)\n"
   ]
  },
  {
   "cell_type": "code",
   "execution_count": 110,
   "id": "12353343-f955-47b9-837a-6b5590694289",
   "metadata": {
    "tags": []
   },
   "outputs": [
    {
     "name": "stdout",
     "output_type": "stream",
     "text": [
      "Точность (Precision) с CatBoost: 0.7658249740574196\n",
      "Полнота (Recall) с CatBoost: 0.5196695145995681\n",
      "F1-мера (F1-Score) с CatBoost: 0.6191794613642084\n",
      "AUC-ROC с CatBoost: 0.7569100884742482\n",
      "Матрица ошибок с CatBoost:\n",
      "[[575313   3385]\n",
      " [ 10232  11070]]\n"
     ]
    }
   ],
   "source": [
    "from catboost import CatBoostClassifier\n",
    "\n",
    "# Создание и обучение модели CatBoost\n",
    "catboost_model = CatBoostClassifier(random_state=42)\n",
    "catboost_model.fit(X_train, y_train, verbose=False)\n",
    "\n",
    "# Прогнозирование на тестовых данных\n",
    "catboost_predictions = catboost_model.predict(X_test)\n",
    "\n",
    "# Вычисление метрик\n",
    "accuracy_catboost = accuracy_score(y_test, catboost_predictions)\n",
    "precision_catboost = precision_score(y_test, catboost_predictions)\n",
    "recall_catboost = recall_score(y_test, catboost_predictions)\n",
    "f1_catboost = f1_score(y_test, catboost_predictions)\n",
    "roc_auc_catboost = roc_auc_score(y_test, catboost_predictions)\n",
    "conf_matrix_catboost = confusion_matrix(y_test, catboost_predictions)\n",
    "\n",
    "# Вывод результатов\n",
    "print(\"Точность (Precision) с CatBoost:\", precision_catboost)\n",
    "print(\"Полнота (Recall) с CatBoost:\", recall_catboost)\n",
    "print(\"F1-мера (F1-Score) с CatBoost:\", f1_catboost)\n",
    "print(\"AUC-ROC с CatBoost:\", roc_auc_catboost)\n",
    "print(\"Матрица ошибок с CatBoost:\")\n",
    "print(conf_matrix_catboost)\n"
   ]
  },
  {
   "cell_type": "code",
   "execution_count": 201,
   "id": "03a230d3-c957-4def-9bc6-d6361693c9f7",
   "metadata": {
    "tags": []
   },
   "outputs": [
    {
     "data": {
      "text/plain": [
       "Index(['rn', 'pre_since_opened', 'pre_since_confirmed', 'pre_pterm',\n",
       "       'pre_fterm', 'pre_till_pclose', 'pre_till_fclose',\n",
       "       'pre_loans_credit_limit', 'pre_loans_next_pay_summ',\n",
       "       'pre_loans_outstanding', 'pre_loans_total_overdue',\n",
       "       'pre_loans_max_overdue_sum', 'pre_loans_credit_cost_rate', 'pre_loans5',\n",
       "       'pre_loans530', 'pre_loans3060', 'pre_loans6090', 'pre_loans90',\n",
       "       'is_zero_loans5', 'is_zero_loans530', 'is_zero_loans3060',\n",
       "       'is_zero_loans6090', 'is_zero_loans90', 'pre_util', 'pre_over2limit',\n",
       "       'pre_maxover2limit', 'is_zero_util', 'is_zero_maxover2limit',\n",
       "       'enc_paym_9', 'enc_loans_account_holder_type',\n",
       "       'enc_loans_credit_status', 'enc_loans_credit_type',\n",
       "       'enc_loans_account_cur', 'pclose_flag', 'fclose_flag', 'enc_paym_sum'],\n",
       "      dtype='object')"
      ]
     },
     "execution_count": 201,
     "metadata": {},
     "output_type": "execute_result"
    }
   ],
   "source": [
    "X_train.columns"
   ]
  },
  {
   "cell_type": "code",
   "execution_count": 208,
   "id": "155a1d34-73dd-4f4f-b333-ba8e61b525d8",
   "metadata": {
    "tags": []
   },
   "outputs": [
    {
     "name": "stdout",
     "output_type": "stream",
     "text": [
      "Точность (Precision) с XGBoost: 0.5244301075268817\n",
      "Полнота (Recall) с XGBoost: 0.5723875692423247\n",
      "F1-мера (F1-Score) с XGBoost: 0.5473603878613755\n",
      "AUC-ROC с XGBoost: 0.9442106383627537\n",
      "Матрица ошибок:\n",
      "[[567641  11057]\n",
      " [  9109  12193]]\n"
     ]
    }
   ],
   "source": [
    "import xgboost as xgb\n",
    "from sklearn.metrics import confusion_matrix, precision_score, recall_score, f1_score, roc_auc_score\n",
    "\n",
    "\n",
    "model_xgb = xgb.XGBClassifier(scale_pos_weight=2.5)\n",
    "\n",
    "# Обучение модели на тренировочных данных\n",
    "model_xgb.fit(X_train, y_train)\n",
    "\n",
    "# Прогнозирование на тестовых данных\n",
    "predictions_xgb = model_xgb.predict(X_test)\n",
    "\n",
    "# Вычисление метрик производительности модели\n",
    "precision_xgb = precision_score(y_test, predictions_xgb)\n",
    "recall_xgb = recall_score(y_test, predictions_xgb)\n",
    "f1_xgb = f1_score(y_test, predictions_xgb)\n",
    "auc_roc_xgb = roc_auc_score(y_test, model_xgb.predict_proba(X_test)[:, 1])\n",
    "\n",
    "# Вычисление матрицы ошибок\n",
    "conf_matrix = confusion_matrix(y_test, predictions_xgb)\n",
    "\n",
    "# Вывод результатов\n",
    "print(\"Точность (Precision) с XGBoost:\", precision_xgb)\n",
    "print(\"Полнота (Recall) с XGBoost:\", recall_xgb)\n",
    "print(\"F1-мера (F1-Score) с XGBoost:\", f1_xgb)\n",
    "print(\"AUC-ROC с XGBoost:\", auc_roc_xgb)\n",
    "print(\"Матрица ошибок:\")\n",
    "print(conf_matrix)\n"
   ]
  },
  {
   "cell_type": "code",
   "execution_count": null,
   "id": "fb0ebc34-0592-40d7-8588-5c47b6ed3feb",
   "metadata": {},
   "outputs": [],
   "source": [
    "Точность (Precision) с XGBoost: 0.5625628646147657\n",
    "Полнота (Recall) с XGBoost: 0.5251150126748662\n",
    "F1-мера (F1-Score) с XGBoost: 0.5431942893216142\n",
    "AUC-ROC с XGBoost: 0.9443664245088287\n",
    "Матрица ошибок:\n",
    "[[570000   8698]\n",
    " [ 10116  11186]]\n",
    "X_train = X_train.drop(columns=['rn'])\n"
   ]
  },
  {
   "cell_type": "code",
   "execution_count": 202,
   "id": "bacac596-545e-4fe5-a290-5d6297a9bd81",
   "metadata": {
    "tags": []
   },
   "outputs": [],
   "source": [
    "\n",
    "X_train = X_train.drop(columns=['rn'])"
   ]
  },
  {
   "cell_type": "code",
   "execution_count": 204,
   "id": "a4550a23-2d46-4b25-8d78-81f22951f431",
   "metadata": {
    "tags": []
   },
   "outputs": [],
   "source": [
    "X_test = X_test.drop(columns=['rn'])"
   ]
  },
  {
   "cell_type": "code",
   "execution_count": null,
   "id": "bb40fc1f-7cae-47bf-9422-9a60bff3c953",
   "metadata": {},
   "outputs": [],
   "source": []
  }
 ],
 "metadata": {
  "kernelspec": {
   "display_name": "Python 3 (ipykernel)",
   "language": "python",
   "name": "python3"
  },
  "language_info": {
   "codemirror_mode": {
    "name": "ipython",
    "version": 3
   },
   "file_extension": ".py",
   "mimetype": "text/x-python",
   "name": "python",
   "nbconvert_exporter": "python",
   "pygments_lexer": "ipython3",
   "version": "3.11.7"
  }
 },
 "nbformat": 4,
 "nbformat_minor": 5
}
